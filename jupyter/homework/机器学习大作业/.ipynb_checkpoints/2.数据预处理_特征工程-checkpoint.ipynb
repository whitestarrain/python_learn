{
 "cells": [
  {
   "cell_type": "code",
   "execution_count": 1,
   "metadata": {},
   "outputs": [],
   "source": [
    "import numpy as np\n",
    "import pandas as pd\n",
    "import matplotlib.pyplot as plt\n",
    "import seaborn as sns\n",
    "\n",
    "plt.rcParams['font.sans-serif'] = 'Microsoft YaHei'\n",
    "plt.rcParams['axes.unicode_minus'] = False\n",
    "# plt.style.use(\"ggplot\")\n",
    "\n",
    "%matplotlib inline\n",
    "\n",
    "p = sns.color_palette()\n",
    "sns.set_style(\"darkgrid\", {\"font.sans-serif\": ['simhei', 'Arial']})"
   ]
  },
  {
   "cell_type": "markdown",
   "metadata": {},
   "source": [
    "通过前面的探索性分析，可以发现直接给出的数据基本没办法直接训练  \n",
    "现在要做的是将6张表整合起来，筛选与抽取有用的信息"
   ]
  },
  {
   "cell_type": "markdown",
   "metadata": {},
   "source": [
    "文件组成：\n",
    "1.\t用户的基本属性user_info.txt\n",
    "\t> 共6个字段，其中字段性别为1表示性别未知。\n",
    "\t- 字段组成：\n",
    "        - 用户id\n",
    "        - 性别\n",
    "        - 职业\n",
    "        - 教育程度\n",
    "        - 婚姻状态\n",
    "        - 户口类型\n",
    "2.\t银行流水记录bank_detail.txt\n",
    "\t> 共5个字段，其中，第2个字段，时间戳为0表示时间未知；第3个字段，交易类型有两个值，1表示支出、0表示收入；第5个字段，工资收入标记为1时，表示工资收入。\n",
    "\t字段组成：\n",
    "\t- 用户id,\n",
    "        - 间戳\n",
    "        - 交易类型\n",
    "        - 交易金额\n",
    "        - 工资收入标记\n",
    "3.\t用户浏览行为browse_history.txt\n",
    "\t> 共4个字段。其中，第2个字段，时间戳为0表示时间未知\n",
    "\t- 字段组成：\n",
    "        - 用户id\n",
    "        - 时间戳\n",
    "        - 浏览行为数据\n",
    "        - 浏览子行为编号\n",
    "4.\t信用卡账单记录bill_detail.txt\n",
    "\t> 共15个字段，其中，第2个字段，时间戳为0表示时间未知\n",
    "\t- 字段组成：\n",
    "        - 用户id\n",
    "        - 账单时间戳\n",
    "        - 银行id\n",
    "        - 上期账单金额\n",
    "        - 上期还款金额\n",
    "        - 信用卡额度\n",
    "        - 本期账单余额\n",
    "        - 本期账单最低还款额\n",
    "        - 消费笔数\n",
    "        - 本期账单金额\n",
    "        - 调整金额\n",
    "        - 循环利息\n",
    "        - 可用金额\n",
    "        - 预借现金额度\n",
    "        - 还款状态\n",
    "5.\t放款时间loan_time.txt\n",
    "\t- 字段组成：\n",
    "        - 用户id、\n",
    "        - 放款时间   \n",
    "6.\t顾客是否发生逾期行为的记录overdue.txt。\n",
    "\t> 样本标签为1，表示逾期30天以上；样本标签为0，表示逾期10天以内。注意：逾期10天~30天之内的用户，并不在此问题考虑的范围内\n",
    "\t- 字段组成：\n",
    "        - 用户id\n",
    "        - 是否逾期\n",
    "        \n",
    "        \n",
    "注意：并非每一位用户都有非常完整的记录，如有些用户并没有信用卡账单记录，有些用户却没有银行流水记录。\n",
    "同时进行了脱敏处理：\n",
    "- (a)\t隐藏了用户的id信息；\n",
    "- (b)\t将用户属性信息全部数字化；\n",
    "- (c)\t将时间戳和所有金额的值都做了函数变换。\n",
    "\n",
    "\n"
   ]
  },
  {
   "cell_type": "markdown",
   "metadata": {},
   "source": [
    "# 载入数据"
   ]
  },
  {
   "cell_type": "code",
   "execution_count": 2,
   "metadata": {},
   "outputs": [],
   "source": [
    "train_loan_time = pd.read_csv(\n",
    "    \"./data/train/loan_time_train.txt\", header=None, names=[\"用户id\", \"放款时间\"])\n",
    "train_user_info = pd.read_csv(\"./data/train/user_info_train.txt\",\n",
    "                              header=None, names=['用户id', '用户性别', '用户职业', '用户教育程度',\n",
    "                                                  '用户婚姻状态', '用户户口类型'])\n",
    "train_bill_detail = pd.read_csv(\"./data/train/bill_detail_train.txt\", header=None,\n",
    "                                names=['用户id', '时间', '银行标识', '上期账单金额', '上期还款金额', '信用卡额度',\n",
    "                                       '本期账单余额', '本期账单最低还款额', '消费笔数', '本期账单金额', '调整金额',\n",
    "                                       '循环利息', '可用余额', '预借现金额度', '还款状态'])\n",
    "train_browse_history = pd.read_csv(\"./data/train/browse_history_train.txt\", header=None,\n",
    "                                   names=['用户id', '浏览时间', '浏览行为数据', '浏览子行为编号'])\n",
    "train_overdue = pd.read_csv(\"./data/train/overdue_train.txt\", header=None,\n",
    "                            names=['用户id', '是否逾期'])\n",
    "train_bank_detail = pd.read_csv(\"./data/train/bank_detail_train.txt\").rename(columns={\"uid\": \"用户id\", \"timespan\": \"流水时间\",\n",
    "                                                                                      \"type\": \"交易类型\", \"amount\": \"交易金额\", \"markup\": \"工资收入标记\"})"
   ]
  },
  {
   "cell_type": "markdown",
   "metadata": {},
   "source": [
    "# 获取用来训练的用户"
   ]
  },
  {
   "cell_type": "code",
   "execution_count": 3,
   "metadata": {},
   "outputs": [
    {
     "name": "stdout",
     "output_type": "stream",
     "text": [
      "9294 53174 47330 55596 55596 55596\n"
     ]
    }
   ],
   "source": [
    "# 用户数量\n",
    "print(\n",
    "    len(train_bank_detail.用户id.unique()),\n",
    "    len(train_bill_detail.用户id.unique()),\n",
    "    len(train_browse_history.用户id.unique()),\n",
    "    len(train_loan_time.用户id.unique()),\n",
    "    len(train_overdue.用户id.unique()),\n",
    "    len(train_user_info.用户id.unique())\n",
    ")\n",
    "# 可以发现所有表的用户数量都不同"
   ]
  },
  {
   "cell_type": "markdown",
   "metadata": {},
   "source": [
    "各个表格的id数不一样，说明并非每个用户都有银行卡流水，账单等信息；所以下一步就是整合6张表格，然后根据共有用户id匹配完整信息，没有完整信息的id去掉。\n",
    "\n",
    "另外，我们要预测的测试集是没有放款的客户，因此训练集分析使用客户放款之前的信息，将有时间戳的表与放款表交叉，只筛选放款前的客户id\n",
    "\n",
    "有时间字段记录的为银行流水记录表、账单记录表、浏览信息表，"
   ]
  },
  {
   "cell_type": "code",
   "execution_count": 4,
   "metadata": {},
   "outputs": [],
   "source": [
    "# 依照存有信息的表merge\n",
    "bank_table = pd.merge(left=train_bank_detail,\n",
    "                      right=train_loan_time, how=\"left\", on=\"用户id\")"
   ]
  },
  {
   "cell_type": "code",
   "execution_count": 5,
   "metadata": {},
   "outputs": [
    {
     "data": {
      "text/html": [
       "<div>\n",
       "<style scoped>\n",
       "    .dataframe tbody tr th:only-of-type {\n",
       "        vertical-align: middle;\n",
       "    }\n",
       "\n",
       "    .dataframe tbody tr th {\n",
       "        vertical-align: top;\n",
       "    }\n",
       "\n",
       "    .dataframe thead th {\n",
       "        text-align: right;\n",
       "    }\n",
       "</style>\n",
       "<table border=\"1\" class=\"dataframe\">\n",
       "  <thead>\n",
       "    <tr style=\"text-align: right;\">\n",
       "      <th></th>\n",
       "      <th>用户id</th>\n",
       "      <th>流水时间</th>\n",
       "      <th>交易类型</th>\n",
       "      <th>交易金额</th>\n",
       "      <th>工资收入标记</th>\n",
       "      <th>放款时间</th>\n",
       "    </tr>\n",
       "  </thead>\n",
       "  <tbody>\n",
       "    <tr>\n",
       "      <th>0</th>\n",
       "      <td>6965</td>\n",
       "      <td>5894316387</td>\n",
       "      <td>0</td>\n",
       "      <td>13.756664</td>\n",
       "      <td>0</td>\n",
       "      <td>5923841487</td>\n",
       "    </tr>\n",
       "    <tr>\n",
       "      <th>1</th>\n",
       "      <td>6965</td>\n",
       "      <td>5894321388</td>\n",
       "      <td>1</td>\n",
       "      <td>13.756664</td>\n",
       "      <td>0</td>\n",
       "      <td>5923841487</td>\n",
       "    </tr>\n",
       "    <tr>\n",
       "      <th>2</th>\n",
       "      <td>6965</td>\n",
       "      <td>5897553564</td>\n",
       "      <td>0</td>\n",
       "      <td>14.449810</td>\n",
       "      <td>0</td>\n",
       "      <td>5923841487</td>\n",
       "    </tr>\n",
       "    <tr>\n",
       "      <th>3</th>\n",
       "      <td>6965</td>\n",
       "      <td>5897563463</td>\n",
       "      <td>1</td>\n",
       "      <td>10.527763</td>\n",
       "      <td>0</td>\n",
       "      <td>5923841487</td>\n",
       "    </tr>\n",
       "    <tr>\n",
       "      <th>4</th>\n",
       "      <td>6965</td>\n",
       "      <td>5897564598</td>\n",
       "      <td>1</td>\n",
       "      <td>13.651303</td>\n",
       "      <td>0</td>\n",
       "      <td>5923841487</td>\n",
       "    </tr>\n",
       "  </tbody>\n",
       "</table>\n",
       "</div>"
      ],
      "text/plain": [
       "   用户id        流水时间  交易类型       交易金额  工资收入标记        放款时间\n",
       "0  6965  5894316387     0  13.756664       0  5923841487\n",
       "1  6965  5894321388     1  13.756664       0  5923841487\n",
       "2  6965  5897553564     0  14.449810       0  5923841487\n",
       "3  6965  5897563463     1  10.527763       0  5923841487\n",
       "4  6965  5897564598     1  13.651303       0  5923841487"
      ]
     },
     "execution_count": 5,
     "metadata": {},
     "output_type": "execute_result"
    }
   ],
   "source": [
    "bank_table.head()"
   ]
  },
  {
   "cell_type": "code",
   "execution_count": 6,
   "metadata": {},
   "outputs": [
    {
     "data": {
      "text/html": [
       "<div>\n",
       "<style scoped>\n",
       "    .dataframe tbody tr th:only-of-type {\n",
       "        vertical-align: middle;\n",
       "    }\n",
       "\n",
       "    .dataframe tbody tr th {\n",
       "        vertical-align: top;\n",
       "    }\n",
       "\n",
       "    .dataframe thead th {\n",
       "        text-align: right;\n",
       "    }\n",
       "</style>\n",
       "<table border=\"1\" class=\"dataframe\">\n",
       "  <thead>\n",
       "    <tr style=\"text-align: right;\">\n",
       "      <th></th>\n",
       "      <th>用户id</th>\n",
       "      <th>流水时间</th>\n",
       "      <th>交易类型</th>\n",
       "      <th>交易金额</th>\n",
       "      <th>工资收入标记</th>\n",
       "      <th>放款时间</th>\n",
       "    </tr>\n",
       "  </thead>\n",
       "  <tbody>\n",
       "    <tr>\n",
       "      <th>0</th>\n",
       "      <td>6965</td>\n",
       "      <td>5894316387</td>\n",
       "      <td>0</td>\n",
       "      <td>13.756664</td>\n",
       "      <td>0</td>\n",
       "      <td>5923841487</td>\n",
       "    </tr>\n",
       "    <tr>\n",
       "      <th>1</th>\n",
       "      <td>6965</td>\n",
       "      <td>5894321388</td>\n",
       "      <td>1</td>\n",
       "      <td>13.756664</td>\n",
       "      <td>0</td>\n",
       "      <td>5923841487</td>\n",
       "    </tr>\n",
       "    <tr>\n",
       "      <th>2</th>\n",
       "      <td>6965</td>\n",
       "      <td>5897553564</td>\n",
       "      <td>0</td>\n",
       "      <td>14.449810</td>\n",
       "      <td>0</td>\n",
       "      <td>5923841487</td>\n",
       "    </tr>\n",
       "    <tr>\n",
       "      <th>3</th>\n",
       "      <td>6965</td>\n",
       "      <td>5897563463</td>\n",
       "      <td>1</td>\n",
       "      <td>10.527763</td>\n",
       "      <td>0</td>\n",
       "      <td>5923841487</td>\n",
       "    </tr>\n",
       "    <tr>\n",
       "      <th>4</th>\n",
       "      <td>6965</td>\n",
       "      <td>5897564598</td>\n",
       "      <td>1</td>\n",
       "      <td>13.651303</td>\n",
       "      <td>0</td>\n",
       "      <td>5923841487</td>\n",
       "    </tr>\n",
       "  </tbody>\n",
       "</table>\n",
       "</div>"
      ],
      "text/plain": [
       "   用户id        流水时间  交易类型       交易金额  工资收入标记        放款时间\n",
       "0  6965  5894316387     0  13.756664       0  5923841487\n",
       "1  6965  5894321388     1  13.756664       0  5923841487\n",
       "2  6965  5897553564     0  14.449810       0  5923841487\n",
       "3  6965  5897563463     1  10.527763       0  5923841487\n",
       "4  6965  5897564598     1  13.651303       0  5923841487"
      ]
     },
     "execution_count": 6,
     "metadata": {},
     "output_type": "execute_result"
    }
   ],
   "source": [
    "# 要选出流水时间小于放款时间的\n",
    "table1 = bank_table[bank_table.流水时间 <= bank_table.放款时间]\n",
    "table1.head()"
   ]
  },
  {
   "cell_type": "code",
   "execution_count": 7,
   "metadata": {},
   "outputs": [],
   "source": [
    "bank_user = table1[[\"用户id\"]]"
   ]
  },
  {
   "cell_type": "code",
   "execution_count": 8,
   "metadata": {},
   "outputs": [],
   "source": [
    "bank_user = bank_user.drop_duplicates(subset=\"用户id\", keep=\"first\")"
   ]
  },
  {
   "cell_type": "code",
   "execution_count": 9,
   "metadata": {},
   "outputs": [
    {
     "name": "stdout",
     "output_type": "stream",
     "text": [
      "<class 'pandas.core.frame.DataFrame'>\n",
      "Int64Index: 9271 entries, 0 to 6069672\n",
      "Data columns (total 1 columns):\n",
      " #   Column  Non-Null Count  Dtype\n",
      "---  ------  --------------  -----\n",
      " 0   用户id    9271 non-null   int64\n",
      "dtypes: int64(1)\n",
      "memory usage: 144.9 KB\n"
     ]
    }
   ],
   "source": [
    "bank_user.info()"
   ]
  },
  {
   "cell_type": "code",
   "execution_count": 10,
   "metadata": {},
   "outputs": [
    {
     "name": "stdout",
     "output_type": "stream",
     "text": [
      "<class 'pandas.core.frame.DataFrame'>\n",
      "Int64Index: 46739 entries, 0 to 2338115\n",
      "Data columns (total 1 columns):\n",
      " #   Column  Non-Null Count  Dtype\n",
      "---  ------  --------------  -----\n",
      " 0   用户id    46739 non-null  int64\n",
      "dtypes: int64(1)\n",
      "memory usage: 730.3 KB\n"
     ]
    }
   ],
   "source": [
    "# 其他几张表进行同样操作\n",
    "\n",
    "bill_table = pd.merge(left=train_bill_detail,\n",
    "                      right=train_loan_time, how=\"left\", on=\"用户id\")\n",
    "bill_user = bill_table[bill_table.时间 <= bill_table.放款时间][[\"用户id\"]]\n",
    "bill_user = bill_user.drop_duplicates(subset=\"用户id\", keep=\"first\")\n",
    "bill_user.info()"
   ]
  },
  {
   "cell_type": "code",
   "execution_count": 11,
   "metadata": {},
   "outputs": [
    {
     "name": "stdout",
     "output_type": "stream",
     "text": [
      "<class 'pandas.core.frame.DataFrame'>\n",
      "Int64Index: 44945 entries, 0 to 22919430\n",
      "Data columns (total 1 columns):\n",
      " #   Column  Non-Null Count  Dtype\n",
      "---  ------  --------------  -----\n",
      " 0   用户id    44945 non-null  int64\n",
      "dtypes: int64(1)\n",
      "memory usage: 702.3 KB\n"
     ]
    }
   ],
   "source": [
    "browse_table = pd.merge(left=train_browse_history,\n",
    "                        right=train_loan_time, how=\"left\", on=\"用户id\")\n",
    "browse_user = browse_table[browse_table.浏览时间 <= browse_table.放款时间][[\"用户id\"]]\n",
    "browse_user = browse_user.drop_duplicates(subset=\"用户id\", keep=\"first\")\n",
    "browse_user.info()"
   ]
  },
  {
   "cell_type": "code",
   "execution_count": 12,
   "metadata": {},
   "outputs": [
    {
     "data": {
      "text/plain": [
       "44"
      ]
     },
     "execution_count": 12,
     "metadata": {},
     "output_type": "execute_result"
    }
   ],
   "source": [
    "# 清理内存\n",
    "import gc\n",
    "del table1\n",
    "del bank_table\n",
    "del bill_table\n",
    "del browse_table\n",
    "\n",
    "gc.collect()"
   ]
  },
  {
   "cell_type": "code",
   "execution_count": 13,
   "metadata": {},
   "outputs": [
    {
     "name": "stdout",
     "output_type": "stream",
     "text": [
      "<class 'pandas.core.frame.DataFrame'>\n",
      "Int64Index: 5735 entries, 0 to 5734\n",
      "Data columns (total 1 columns):\n",
      " #   Column  Non-Null Count  Dtype\n",
      "---  ------  --------------  -----\n",
      " 0   用户id    5735 non-null   int64\n",
      "dtypes: int64(1)\n",
      "memory usage: 89.6 KB\n"
     ]
    }
   ],
   "source": [
    "# 现在获取三个user_id表中的都有的用户id\n",
    "\n",
    "user1 = pd.merge(left=bank_user, right=bill_user, how=\"inner\", on=\"用户id\")\n",
    "user2 = pd.merge(left=user1, right=browse_user, how=\"inner\", on=\"用户id\")\n",
    "user2.info()"
   ]
  },
  {
   "cell_type": "code",
   "execution_count": 14,
   "metadata": {},
   "outputs": [
    {
     "name": "stdout",
     "output_type": "stream",
     "text": [
      "autopep8\t bank_user\t bill_user\t browse_user\t gc\t json\t np\t p\t pd\t \n",
      "plt\t sns\t train_bank_detail\t train_bill_detail\t train_browse_history\t train_loan_time\t train_overdue\t train_user_info\t user1\t \n",
      "user2\t \n"
     ]
    }
   ],
   "source": [
    "%who"
   ]
  },
  {
   "cell_type": "markdown",
   "metadata": {},
   "source": [
    "# 筛选数据"
   ]
  },
  {
   "cell_type": "markdown",
   "metadata": {},
   "source": [
    "从指定的用户中筛选出数据  \n",
    "用于之后进一步的处理"
   ]
  },
  {
   "cell_type": "markdown",
   "metadata": {},
   "source": [
    "## 银行流水"
   ]
  },
  {
   "cell_type": "code",
   "execution_count": 15,
   "metadata": {},
   "outputs": [],
   "source": [
    "bank = pd.merge(left=train_bank_detail, right=user2, how=\"inner\", on=\"用户id\")"
   ]
  },
  {
   "cell_type": "code",
   "execution_count": 16,
   "metadata": {},
   "outputs": [
    {
     "data": {
      "text/plain": [
       "80"
      ]
     },
     "execution_count": 16,
     "metadata": {},
     "output_type": "execute_result"
    }
   ],
   "source": [
    "del train_bank_detail\n",
    "gc.collect()"
   ]
  },
  {
   "cell_type": "code",
   "execution_count": 17,
   "metadata": {},
   "outputs": [
    {
     "data": {
      "text/html": [
       "<div>\n",
       "<style scoped>\n",
       "    .dataframe tbody tr th:only-of-type {\n",
       "        vertical-align: middle;\n",
       "    }\n",
       "\n",
       "    .dataframe tbody tr th {\n",
       "        vertical-align: top;\n",
       "    }\n",
       "\n",
       "    .dataframe thead th {\n",
       "        text-align: right;\n",
       "    }\n",
       "</style>\n",
       "<table border=\"1\" class=\"dataframe\">\n",
       "  <thead>\n",
       "    <tr style=\"text-align: right;\">\n",
       "      <th></th>\n",
       "      <th>用户id</th>\n",
       "      <th>流水时间</th>\n",
       "      <th>交易类型</th>\n",
       "      <th>交易金额</th>\n",
       "      <th>工资收入标记</th>\n",
       "    </tr>\n",
       "  </thead>\n",
       "  <tbody>\n",
       "    <tr>\n",
       "      <th>0</th>\n",
       "      <td>6965</td>\n",
       "      <td>5894316387</td>\n",
       "      <td>0</td>\n",
       "      <td>13.756664</td>\n",
       "      <td>0</td>\n",
       "    </tr>\n",
       "    <tr>\n",
       "      <th>1</th>\n",
       "      <td>6965</td>\n",
       "      <td>5894321388</td>\n",
       "      <td>1</td>\n",
       "      <td>13.756664</td>\n",
       "      <td>0</td>\n",
       "    </tr>\n",
       "    <tr>\n",
       "      <th>2</th>\n",
       "      <td>6965</td>\n",
       "      <td>5897553564</td>\n",
       "      <td>0</td>\n",
       "      <td>14.449810</td>\n",
       "      <td>0</td>\n",
       "    </tr>\n",
       "    <tr>\n",
       "      <th>3</th>\n",
       "      <td>6965</td>\n",
       "      <td>5897563463</td>\n",
       "      <td>1</td>\n",
       "      <td>10.527763</td>\n",
       "      <td>0</td>\n",
       "    </tr>\n",
       "    <tr>\n",
       "      <th>4</th>\n",
       "      <td>6965</td>\n",
       "      <td>5897564598</td>\n",
       "      <td>1</td>\n",
       "      <td>13.651303</td>\n",
       "      <td>0</td>\n",
       "    </tr>\n",
       "  </tbody>\n",
       "</table>\n",
       "</div>"
      ],
      "text/plain": [
       "   用户id        流水时间  交易类型       交易金额  工资收入标记\n",
       "0  6965  5894316387     0  13.756664       0\n",
       "1  6965  5894321388     1  13.756664       0\n",
       "2  6965  5897553564     0  14.449810       0\n",
       "3  6965  5897563463     1  10.527763       0\n",
       "4  6965  5897564598     1  13.651303       0"
      ]
     },
     "execution_count": 17,
     "metadata": {},
     "output_type": "execute_result"
    }
   ],
   "source": [
    "bank.head()"
   ]
  },
  {
   "cell_type": "code",
   "execution_count": 18,
   "metadata": {},
   "outputs": [],
   "source": [
    "bank_income = bank[bank[\"交易类型\"] == 0].groupby(\"用户id\", as_index=False)  # 收入"
   ]
  },
  {
   "cell_type": "code",
   "execution_count": 19,
   "metadata": {},
   "outputs": [],
   "source": [
    "bank_income = bank_income[\"交易金额\"].agg(\n",
    "    {\n",
    "        \"收入次数\": \"count\",\n",
    "        \"总收入\": \"sum\"\n",
    "    }\n",
    ")"
   ]
  },
  {
   "cell_type": "code",
   "execution_count": 20,
   "metadata": {},
   "outputs": [],
   "source": [
    "bank_pay = bank[bank[\"交易类型\"] == 1].groupby(\"用户id\", as_index=False)  # 支出"
   ]
  },
  {
   "cell_type": "code",
   "execution_count": 21,
   "metadata": {},
   "outputs": [],
   "source": [
    "bank_pay = bank_pay[\"交易金额\"].agg(\n",
    "    {\n",
    "        \"支出次数\": \"count\",\n",
    "        \"总支出\": \"sum\"\n",
    "    }\n",
    ")"
   ]
  },
  {
   "cell_type": "code",
   "execution_count": 22,
   "metadata": {},
   "outputs": [],
   "source": [
    "bank_salary = bank[bank[\"工资收入标记\"] == 1].groupby(\"用户id\", as_index=False)  # 收入工资"
   ]
  },
  {
   "cell_type": "code",
   "execution_count": 23,
   "metadata": {},
   "outputs": [],
   "source": [
    "bank_salary = bank_salary[\"交易金额\"].agg(\n",
    "    {\n",
    "        \"工资收入次数\": \"count\",\n",
    "        \"总工资\": \"sum\"\n",
    "    }\n",
    ")"
   ]
  },
  {
   "cell_type": "code",
   "execution_count": 24,
   "metadata": {},
   "outputs": [
    {
     "name": "stdout",
     "output_type": "stream",
     "text": [
      "用户id    5734\n",
      "dtype: int64 用户id    5730\n",
      "dtype: int64 用户id    1950\n",
      "dtype: int64\n"
     ]
    }
   ],
   "source": [
    "print(\n",
    "    bank_income[[\"用户id\"]].count(),\n",
    "    bank_pay[[\"用户id\"]].count(),\n",
    "    bank_salary[[\"用户id\"]].count()\n",
    ")"
   ]
  },
  {
   "cell_type": "markdown",
   "metadata": {},
   "source": [
    " 可以发现很多用户没有工资收入，  \n",
    " 也有几个用户只有支出，没有收入  \n",
    " 所以按照前面得到的user2来构建信息表，缺少的填0"
   ]
  },
  {
   "cell_type": "code",
   "execution_count": 25,
   "metadata": {},
   "outputs": [],
   "source": [
    "t1 = pd.merge(left=user2, right=bank_income, how=\"left\", on=\"用户id\")\n",
    "t1.fillna(0, inplace=True)\n",
    "\n",
    "t2 = pd.merge(left=user2, right=bank_pay, how=\"left\", on=\"用户id\")\n",
    "t2.fillna(0, inplace=True)\n",
    "\n",
    "t3 = pd.merge(left=user2, right=bank_salary, how=\"left\", on=\"用户id\")\n",
    "t3.fillna(0, inplace=True)"
   ]
  },
  {
   "cell_type": "code",
   "execution_count": 26,
   "metadata": {},
   "outputs": [],
   "source": [
    "bank_train = pd.merge(left=t1, right=t2, how=\"inner\", on=\"用户id\")\n",
    "bank_train = pd.merge(left=bank_train, right=t3, how=\"inner\", on=\"用户id\")"
   ]
  },
  {
   "cell_type": "code",
   "execution_count": 27,
   "metadata": {},
   "outputs": [
    {
     "name": "stdout",
     "output_type": "stream",
     "text": [
      "<class 'pandas.core.frame.DataFrame'>\n",
      "Int64Index: 5735 entries, 0 to 5734\n",
      "Data columns (total 7 columns):\n",
      " #   Column  Non-Null Count  Dtype  \n",
      "---  ------  --------------  -----  \n",
      " 0   用户id    5735 non-null   int64  \n",
      " 1   收入次数    5735 non-null   float64\n",
      " 2   总收入     5735 non-null   float64\n",
      " 3   支出次数    5735 non-null   float64\n",
      " 4   总支出     5735 non-null   float64\n",
      " 5   工资收入次数  5735 non-null   float64\n",
      " 6   总工资     5735 non-null   float64\n",
      "dtypes: float64(6), int64(1)\n",
      "memory usage: 358.4 KB\n"
     ]
    }
   ],
   "source": [
    "bank_train.info()"
   ]
  },
  {
   "cell_type": "code",
   "execution_count": 28,
   "metadata": {},
   "outputs": [
    {
     "data": {
      "text/html": [
       "<div>\n",
       "<style scoped>\n",
       "    .dataframe tbody tr th:only-of-type {\n",
       "        vertical-align: middle;\n",
       "    }\n",
       "\n",
       "    .dataframe tbody tr th {\n",
       "        vertical-align: top;\n",
       "    }\n",
       "\n",
       "    .dataframe thead th {\n",
       "        text-align: right;\n",
       "    }\n",
       "</style>\n",
       "<table border=\"1\" class=\"dataframe\">\n",
       "  <thead>\n",
       "    <tr style=\"text-align: right;\">\n",
       "      <th></th>\n",
       "      <th>用户id</th>\n",
       "      <th>收入次数</th>\n",
       "      <th>总收入</th>\n",
       "      <th>支出次数</th>\n",
       "      <th>总支出</th>\n",
       "      <th>工资收入次数</th>\n",
       "      <th>总工资</th>\n",
       "    </tr>\n",
       "  </thead>\n",
       "  <tbody>\n",
       "    <tr>\n",
       "      <th>0</th>\n",
       "      <td>6965</td>\n",
       "      <td>75.0</td>\n",
       "      <td>972.850228</td>\n",
       "      <td>289.0</td>\n",
       "      <td>3234.531975</td>\n",
       "      <td>0.0</td>\n",
       "      <td>0.000000</td>\n",
       "    </tr>\n",
       "    <tr>\n",
       "      <th>1</th>\n",
       "      <td>1265</td>\n",
       "      <td>125.0</td>\n",
       "      <td>1708.206195</td>\n",
       "      <td>294.0</td>\n",
       "      <td>3662.457063</td>\n",
       "      <td>0.0</td>\n",
       "      <td>0.000000</td>\n",
       "    </tr>\n",
       "    <tr>\n",
       "      <th>2</th>\n",
       "      <td>2583</td>\n",
       "      <td>213.0</td>\n",
       "      <td>2736.475318</td>\n",
       "      <td>618.0</td>\n",
       "      <td>7064.310678</td>\n",
       "      <td>0.0</td>\n",
       "      <td>0.000000</td>\n",
       "    </tr>\n",
       "    <tr>\n",
       "      <th>3</th>\n",
       "      <td>29165</td>\n",
       "      <td>189.0</td>\n",
       "      <td>2277.607807</td>\n",
       "      <td>473.0</td>\n",
       "      <td>5099.861165</td>\n",
       "      <td>14.0</td>\n",
       "      <td>202.630532</td>\n",
       "    </tr>\n",
       "    <tr>\n",
       "      <th>4</th>\n",
       "      <td>2443</td>\n",
       "      <td>252.0</td>\n",
       "      <td>3020.288782</td>\n",
       "      <td>341.0</td>\n",
       "      <td>3762.790364</td>\n",
       "      <td>0.0</td>\n",
       "      <td>0.000000</td>\n",
       "    </tr>\n",
       "  </tbody>\n",
       "</table>\n",
       "</div>"
      ],
      "text/plain": [
       "    用户id   收入次数          总收入   支出次数          总支出  工资收入次数         总工资\n",
       "0   6965   75.0   972.850228  289.0  3234.531975     0.0    0.000000\n",
       "1   1265  125.0  1708.206195  294.0  3662.457063     0.0    0.000000\n",
       "2   2583  213.0  2736.475318  618.0  7064.310678     0.0    0.000000\n",
       "3  29165  189.0  2277.607807  473.0  5099.861165    14.0  202.630532\n",
       "4   2443  252.0  3020.288782  341.0  3762.790364     0.0    0.000000"
      ]
     },
     "execution_count": 28,
     "metadata": {},
     "output_type": "execute_result"
    }
   ],
   "source": [
    "bank_train.head()"
   ]
  },
  {
   "cell_type": "code",
   "execution_count": 29,
   "metadata": {},
   "outputs": [
    {
     "name": "stdout",
     "output_type": "stream",
     "text": [
      "autopep8\t bank\t bank_income\t bank_pay\t bank_salary\t bank_train\t bank_user\t bill_user\t browse_user\t \n",
      "gc\t json\t np\t p\t pd\t plt\t sns\t t1\t t2\t \n",
      "t3\t train_bill_detail\t train_browse_history\t train_loan_time\t train_overdue\t train_user_info\t user1\t user2\t \n"
     ]
    }
   ],
   "source": [
    "%who"
   ]
  },
  {
   "cell_type": "code",
   "execution_count": 30,
   "metadata": {},
   "outputs": [
    {
     "data": {
      "text/plain": [
       "80"
      ]
     },
     "execution_count": 30,
     "metadata": {},
     "output_type": "execute_result"
    }
   ],
   "source": [
    "del t1\n",
    "del t2\n",
    "del t3\n",
    "del bank_income\n",
    "del bank_pay\n",
    "del bank_salary\n",
    "del user1\n",
    "del bank_user\n",
    "del browse_user\n",
    "del bill_user\n",
    "\n",
    "gc.collect()"
   ]
  },
  {
   "cell_type": "code",
   "execution_count": 31,
   "metadata": {},
   "outputs": [
    {
     "name": "stdout",
     "output_type": "stream",
     "text": [
      "autopep8\t bank\t bank_train\t gc\t json\t np\t p\t pd\t plt\t \n",
      "sns\t train_bill_detail\t train_browse_history\t train_loan_time\t train_overdue\t train_user_info\t user2\t \n"
     ]
    }
   ],
   "source": [
    "%who"
   ]
  },
  {
   "cell_type": "markdown",
   "metadata": {},
   "source": [
    "## 浏览记录"
   ]
  },
  {
   "cell_type": "code",
   "execution_count": 32,
   "metadata": {},
   "outputs": [],
   "source": [
    "browse = pd.merge(left=user2, right=train_browse_history,\n",
    "                  how=\"inner\", on=\"用户id\")"
   ]
  },
  {
   "cell_type": "code",
   "execution_count": 33,
   "metadata": {},
   "outputs": [
    {
     "data": {
      "text/html": [
       "<div>\n",
       "<style scoped>\n",
       "    .dataframe tbody tr th:only-of-type {\n",
       "        vertical-align: middle;\n",
       "    }\n",
       "\n",
       "    .dataframe tbody tr th {\n",
       "        vertical-align: top;\n",
       "    }\n",
       "\n",
       "    .dataframe thead th {\n",
       "        text-align: right;\n",
       "    }\n",
       "</style>\n",
       "<table border=\"1\" class=\"dataframe\">\n",
       "  <thead>\n",
       "    <tr style=\"text-align: right;\">\n",
       "      <th></th>\n",
       "      <th>用户id</th>\n",
       "      <th>浏览时间</th>\n",
       "      <th>浏览行为数据</th>\n",
       "      <th>浏览子行为编号</th>\n",
       "    </tr>\n",
       "  </thead>\n",
       "  <tbody>\n",
       "    <tr>\n",
       "      <th>0</th>\n",
       "      <td>6965</td>\n",
       "      <td>5891711961</td>\n",
       "      <td>201</td>\n",
       "      <td>1</td>\n",
       "    </tr>\n",
       "    <tr>\n",
       "      <th>1</th>\n",
       "      <td>6965</td>\n",
       "      <td>5891711898</td>\n",
       "      <td>201</td>\n",
       "      <td>1</td>\n",
       "    </tr>\n",
       "    <tr>\n",
       "      <th>2</th>\n",
       "      <td>6965</td>\n",
       "      <td>5891711898</td>\n",
       "      <td>50</td>\n",
       "      <td>6</td>\n",
       "    </tr>\n",
       "    <tr>\n",
       "      <th>3</th>\n",
       "      <td>6965</td>\n",
       "      <td>5891711898</td>\n",
       "      <td>173</td>\n",
       "      <td>1</td>\n",
       "    </tr>\n",
       "    <tr>\n",
       "      <th>4</th>\n",
       "      <td>6965</td>\n",
       "      <td>5891711898</td>\n",
       "      <td>164</td>\n",
       "      <td>4</td>\n",
       "    </tr>\n",
       "    <tr>\n",
       "      <th>...</th>\n",
       "      <td>...</td>\n",
       "      <td>...</td>\n",
       "      <td>...</td>\n",
       "      <td>...</td>\n",
       "    </tr>\n",
       "    <tr>\n",
       "      <th>3899703</th>\n",
       "      <td>8917</td>\n",
       "      <td>5924543657</td>\n",
       "      <td>110</td>\n",
       "      <td>7</td>\n",
       "    </tr>\n",
       "    <tr>\n",
       "      <th>3899704</th>\n",
       "      <td>8917</td>\n",
       "      <td>5924543657</td>\n",
       "      <td>173</td>\n",
       "      <td>1</td>\n",
       "    </tr>\n",
       "    <tr>\n",
       "      <th>3899705</th>\n",
       "      <td>8917</td>\n",
       "      <td>5924543657</td>\n",
       "      <td>101</td>\n",
       "      <td>1</td>\n",
       "    </tr>\n",
       "    <tr>\n",
       "      <th>3899706</th>\n",
       "      <td>8917</td>\n",
       "      <td>5924543657</td>\n",
       "      <td>118</td>\n",
       "      <td>1</td>\n",
       "    </tr>\n",
       "    <tr>\n",
       "      <th>3899707</th>\n",
       "      <td>8917</td>\n",
       "      <td>5923796793</td>\n",
       "      <td>101</td>\n",
       "      <td>1</td>\n",
       "    </tr>\n",
       "  </tbody>\n",
       "</table>\n",
       "<p>28675 rows × 4 columns</p>\n",
       "</div>"
      ],
      "text/plain": [
       "         用户id        浏览时间  浏览行为数据  浏览子行为编号\n",
       "0        6965  5891711961     201        1\n",
       "1        6965  5891711898     201        1\n",
       "2        6965  5891711898      50        6\n",
       "3        6965  5891711898     173        1\n",
       "4        6965  5891711898     164        4\n",
       "...       ...         ...     ...      ...\n",
       "3899703  8917  5924543657     110        7\n",
       "3899704  8917  5924543657     173        1\n",
       "3899705  8917  5924543657     101        1\n",
       "3899706  8917  5924543657     118        1\n",
       "3899707  8917  5923796793     101        1\n",
       "\n",
       "[28675 rows x 4 columns]"
      ]
     },
     "execution_count": 33,
     "metadata": {},
     "output_type": "execute_result"
    }
   ],
   "source": [
    "browse_group = browse.groupby(\"用户id\", as_index=False)\n",
    "browse_group.head()"
   ]
  },
  {
   "cell_type": "code",
   "execution_count": 34,
   "metadata": {},
   "outputs": [],
   "source": [
    "browse_train = browse_group[\"用户id\"].agg({\n",
    "    \"浏览次数\": \"count\"\n",
    "})"
   ]
  },
  {
   "cell_type": "code",
   "execution_count": 35,
   "metadata": {},
   "outputs": [
    {
     "name": "stdout",
     "output_type": "stream",
     "text": [
      "<class 'pandas.core.frame.DataFrame'>\n",
      "Int64Index: 5735 entries, 0 to 5734\n",
      "Data columns (total 2 columns):\n",
      " #   Column  Non-Null Count  Dtype\n",
      "---  ------  --------------  -----\n",
      " 0   用户id    5735 non-null   int64\n",
      " 1   浏览次数    5735 non-null   int64\n",
      "dtypes: int64(2)\n",
      "memory usage: 134.4 KB\n"
     ]
    }
   ],
   "source": [
    "browse_train.info()"
   ]
  },
  {
   "cell_type": "code",
   "execution_count": 36,
   "metadata": {},
   "outputs": [
    {
     "data": {
      "text/plain": [
       "20"
      ]
     },
     "execution_count": 36,
     "metadata": {},
     "output_type": "execute_result"
    }
   ],
   "source": [
    "del browse_group\n",
    "del browse\n",
    "del train_browse_history\n",
    "gc.collect()"
   ]
  },
  {
   "cell_type": "markdown",
   "metadata": {},
   "source": [
    "## 账单"
   ]
  },
  {
   "cell_type": "code",
   "execution_count": 37,
   "metadata": {},
   "outputs": [],
   "source": [
    "bill = pd.merge(left=user2, right=train_bill_detail, how=\"inner\", on=\"用户id\")"
   ]
  },
  {
   "cell_type": "code",
   "execution_count": 38,
   "metadata": {},
   "outputs": [
    {
     "data": {
      "text/html": [
       "<div>\n",
       "<style scoped>\n",
       "    .dataframe tbody tr th:only-of-type {\n",
       "        vertical-align: middle;\n",
       "    }\n",
       "\n",
       "    .dataframe tbody tr th {\n",
       "        vertical-align: top;\n",
       "    }\n",
       "\n",
       "    .dataframe thead th {\n",
       "        text-align: right;\n",
       "    }\n",
       "</style>\n",
       "<table border=\"1\" class=\"dataframe\">\n",
       "  <thead>\n",
       "    <tr style=\"text-align: right;\">\n",
       "      <th></th>\n",
       "      <th>用户id</th>\n",
       "      <th>上期账单金额</th>\n",
       "      <th>上期还款金额</th>\n",
       "      <th>信用卡额度</th>\n",
       "      <th>本期账单余额</th>\n",
       "      <th>本期账单最低还款额</th>\n",
       "      <th>消费笔数</th>\n",
       "      <th>本期账单金额</th>\n",
       "      <th>调整金额</th>\n",
       "      <th>循环利息</th>\n",
       "      <th>可用余额</th>\n",
       "      <th>预借现金额度</th>\n",
       "    </tr>\n",
       "  </thead>\n",
       "  <tbody>\n",
       "    <tr>\n",
       "      <th>0</th>\n",
       "      <td>6965</td>\n",
       "      <td>20.027371</td>\n",
       "      <td>19.317344</td>\n",
       "      <td>19.971271</td>\n",
       "      <td>19.983264</td>\n",
       "      <td>16.987546</td>\n",
       "      <td>5</td>\n",
       "      <td>19.194742</td>\n",
       "      <td>0.0</td>\n",
       "      <td>15.728101</td>\n",
       "      <td>0.0</td>\n",
       "      <td>19.278123</td>\n",
       "    </tr>\n",
       "    <tr>\n",
       "      <th>1</th>\n",
       "      <td>6965</td>\n",
       "      <td>19.983264</td>\n",
       "      <td>17.915546</td>\n",
       "      <td>19.971271</td>\n",
       "      <td>19.889440</td>\n",
       "      <td>16.893721</td>\n",
       "      <td>2</td>\n",
       "      <td>16.166307</td>\n",
       "      <td>0.0</td>\n",
       "      <td>15.778343</td>\n",
       "      <td>0.0</td>\n",
       "      <td>19.278123</td>\n",
       "    </tr>\n",
       "    <tr>\n",
       "      <th>2</th>\n",
       "      <td>6965</td>\n",
       "      <td>0.000000</td>\n",
       "      <td>6.849967</td>\n",
       "      <td>19.971271</td>\n",
       "      <td>19.978909</td>\n",
       "      <td>17.499557</td>\n",
       "      <td>18</td>\n",
       "      <td>19.969689</td>\n",
       "      <td>0.0</td>\n",
       "      <td>15.288139</td>\n",
       "      <td>0.0</td>\n",
       "      <td>19.971271</td>\n",
       "    </tr>\n",
       "    <tr>\n",
       "      <th>3</th>\n",
       "      <td>6965</td>\n",
       "      <td>0.000000</td>\n",
       "      <td>6.849967</td>\n",
       "      <td>19.971271</td>\n",
       "      <td>19.978909</td>\n",
       "      <td>17.499557</td>\n",
       "      <td>18</td>\n",
       "      <td>19.969689</td>\n",
       "      <td>0.0</td>\n",
       "      <td>15.288139</td>\n",
       "      <td>0.0</td>\n",
       "      <td>19.971271</td>\n",
       "    </tr>\n",
       "    <tr>\n",
       "      <th>4</th>\n",
       "      <td>1265</td>\n",
       "      <td>20.170074</td>\n",
       "      <td>21.438223</td>\n",
       "      <td>20.153592</td>\n",
       "      <td>20.050741</td>\n",
       "      <td>17.055015</td>\n",
       "      <td>0</td>\n",
       "      <td>21.406063</td>\n",
       "      <td>0.0</td>\n",
       "      <td>0.000000</td>\n",
       "      <td>0.0</td>\n",
       "      <td>0.000000</td>\n",
       "    </tr>\n",
       "  </tbody>\n",
       "</table>\n",
       "</div>"
      ],
      "text/plain": [
       "   用户id     上期账单金额     上期还款金额      信用卡额度     本期账单余额  本期账单最低还款额  消费笔数  \\\n",
       "0  6965  20.027371  19.317344  19.971271  19.983264  16.987546     5   \n",
       "1  6965  19.983264  17.915546  19.971271  19.889440  16.893721     2   \n",
       "2  6965   0.000000   6.849967  19.971271  19.978909  17.499557    18   \n",
       "3  6965   0.000000   6.849967  19.971271  19.978909  17.499557    18   \n",
       "4  1265  20.170074  21.438223  20.153592  20.050741  17.055015     0   \n",
       "\n",
       "      本期账单金额  调整金额       循环利息  可用余额     预借现金额度  \n",
       "0  19.194742   0.0  15.728101   0.0  19.278123  \n",
       "1  16.166307   0.0  15.778343   0.0  19.278123  \n",
       "2  19.969689   0.0  15.288139   0.0  19.971271  \n",
       "3  19.969689   0.0  15.288139   0.0  19.971271  \n",
       "4  21.406063   0.0   0.000000   0.0   0.000000  "
      ]
     },
     "execution_count": 38,
     "metadata": {},
     "output_type": "execute_result"
    }
   ],
   "source": [
    "bill.drop([\"时间\", \"银行标识\", \"还款状态\"], axis=1, inplace=True)\n",
    "bill.head()"
   ]
  },
  {
   "cell_type": "code",
   "execution_count": 39,
   "metadata": {},
   "outputs": [],
   "source": [
    "bill_train = bill.groupby(\"用户id\", as_index=False).mean().rename(\n",
    "    columns={\n",
    "        \"上期账单金额\":         \"平均上期账单金额\",\n",
    "        \"上期还款金额\":         \"平均上期还款金额\",\n",
    "        \"用卡额度\":         \"平均用卡额度\",\n",
    "        \"本期账单余额\":         \"平均本期账单余额\",\n",
    "        \"本期账单最低还款额\":         \"平均本期账单最低还款额\",\n",
    "        \"消费笔数\":         \"平均消费笔数\",\n",
    "        \"本期账单金额\":         \"平均本期账单金额\",\n",
    "        \"调整金额\":         \"平均调整金额\",\n",
    "        \"循环利息\":         \"平均循环利息\",\n",
    "        \"可用余额\":         \"平均可用余额\",\n",
    "        \"预借现金额度\":         \"平均预借现金额度\"\n",
    "    }\n",
    ")"
   ]
  },
  {
   "cell_type": "code",
   "execution_count": 40,
   "metadata": {},
   "outputs": [
    {
     "data": {
      "text/plain": [
       "80"
      ]
     },
     "execution_count": 40,
     "metadata": {},
     "output_type": "execute_result"
    }
   ],
   "source": [
    "del bill\n",
    "gc.collect()"
   ]
  },
  {
   "cell_type": "markdown",
   "metadata": {},
   "source": [
    "## 逾期用户"
   ]
  },
  {
   "cell_type": "code",
   "execution_count": 41,
   "metadata": {},
   "outputs": [],
   "source": [
    "overdue_train = pd.merge(\n",
    "    left=user2, right=train_overdue, how=\"inner\", on=\"用户id\")"
   ]
  },
  {
   "cell_type": "code",
   "execution_count": 42,
   "metadata": {},
   "outputs": [
    {
     "data": {
      "text/html": [
       "<div>\n",
       "<style scoped>\n",
       "    .dataframe tbody tr th:only-of-type {\n",
       "        vertical-align: middle;\n",
       "    }\n",
       "\n",
       "    .dataframe tbody tr th {\n",
       "        vertical-align: top;\n",
       "    }\n",
       "\n",
       "    .dataframe thead th {\n",
       "        text-align: right;\n",
       "    }\n",
       "</style>\n",
       "<table border=\"1\" class=\"dataframe\">\n",
       "  <thead>\n",
       "    <tr style=\"text-align: right;\">\n",
       "      <th></th>\n",
       "      <th>用户id</th>\n",
       "      <th>是否逾期</th>\n",
       "    </tr>\n",
       "  </thead>\n",
       "  <tbody>\n",
       "    <tr>\n",
       "      <th>0</th>\n",
       "      <td>6965</td>\n",
       "      <td>0</td>\n",
       "    </tr>\n",
       "    <tr>\n",
       "      <th>1</th>\n",
       "      <td>1265</td>\n",
       "      <td>0</td>\n",
       "    </tr>\n",
       "    <tr>\n",
       "      <th>2</th>\n",
       "      <td>2583</td>\n",
       "      <td>0</td>\n",
       "    </tr>\n",
       "    <tr>\n",
       "      <th>3</th>\n",
       "      <td>29165</td>\n",
       "      <td>0</td>\n",
       "    </tr>\n",
       "    <tr>\n",
       "      <th>4</th>\n",
       "      <td>2443</td>\n",
       "      <td>0</td>\n",
       "    </tr>\n",
       "  </tbody>\n",
       "</table>\n",
       "</div>"
      ],
      "text/plain": [
       "    用户id  是否逾期\n",
       "0   6965     0\n",
       "1   1265     0\n",
       "2   2583     0\n",
       "3  29165     0\n",
       "4   2443     0"
      ]
     },
     "execution_count": 42,
     "metadata": {},
     "output_type": "execute_result"
    }
   ],
   "source": [
    "overdue_train.head()"
   ]
  },
  {
   "cell_type": "markdown",
   "metadata": {},
   "source": [
    "## 表的整合"
   ]
  },
  {
   "cell_type": "code",
   "execution_count": 43,
   "metadata": {},
   "outputs": [],
   "source": [
    "train_table = pd.merge(left=user2, right=train_user_info,\n",
    "                       how=\"left\", on=\"用户id\")\n",
    "train_table = train_table.merge(bank_train)\n",
    "train_table = train_table.merge(browse_train)\n",
    "train_table = train_table.merge(bill_train)\n",
    "train_table = train_table.merge(overdue_train)"
   ]
  },
  {
   "cell_type": "code",
   "execution_count": 44,
   "metadata": {},
   "outputs": [
    {
     "name": "stdout",
     "output_type": "stream",
     "text": [
      "<class 'pandas.core.frame.DataFrame'>\n",
      "Int64Index: 5735 entries, 0 to 5734\n",
      "Data columns (total 25 columns):\n",
      " #   Column       Non-Null Count  Dtype  \n",
      "---  ------       --------------  -----  \n",
      " 0   用户id         5735 non-null   int64  \n",
      " 1   用户性别         5735 non-null   int64  \n",
      " 2   用户职业         5735 non-null   int64  \n",
      " 3   用户教育程度       5735 non-null   int64  \n",
      " 4   用户婚姻状态       5735 non-null   int64  \n",
      " 5   用户户口类型       5735 non-null   int64  \n",
      " 6   收入次数         5735 non-null   float64\n",
      " 7   总收入          5735 non-null   float64\n",
      " 8   支出次数         5735 non-null   float64\n",
      " 9   总支出          5735 non-null   float64\n",
      " 10  工资收入次数       5735 non-null   float64\n",
      " 11  总工资          5735 non-null   float64\n",
      " 12  浏览次数         5735 non-null   int64  \n",
      " 13  平均上期账单金额     5735 non-null   float64\n",
      " 14  平均上期还款金额     5735 non-null   float64\n",
      " 15  信用卡额度        5735 non-null   float64\n",
      " 16  平均本期账单余额     5735 non-null   float64\n",
      " 17  平均本期账单最低还款额  5735 non-null   float64\n",
      " 18  平均消费笔数       5735 non-null   float64\n",
      " 19  平均本期账单金额     5735 non-null   float64\n",
      " 20  平均调整金额       5735 non-null   float64\n",
      " 21  平均循环利息       5735 non-null   float64\n",
      " 22  平均可用余额       5735 non-null   float64\n",
      " 23  平均预借现金额度     5735 non-null   float64\n",
      " 24  是否逾期         5735 non-null   int64  \n",
      "dtypes: float64(17), int64(8)\n",
      "memory usage: 1.1 MB\n"
     ]
    }
   ],
   "source": [
    "train_table.info()"
   ]
  },
  {
   "cell_type": "code",
   "execution_count": 45,
   "metadata": {},
   "outputs": [
    {
     "data": {
      "text/html": [
       "<div>\n",
       "<style scoped>\n",
       "    .dataframe tbody tr th:only-of-type {\n",
       "        vertical-align: middle;\n",
       "    }\n",
       "\n",
       "    .dataframe tbody tr th {\n",
       "        vertical-align: top;\n",
       "    }\n",
       "\n",
       "    .dataframe thead th {\n",
       "        text-align: right;\n",
       "    }\n",
       "</style>\n",
       "<table border=\"1\" class=\"dataframe\">\n",
       "  <thead>\n",
       "    <tr style=\"text-align: right;\">\n",
       "      <th></th>\n",
       "      <th>用户id</th>\n",
       "      <th>用户性别</th>\n",
       "      <th>用户职业</th>\n",
       "      <th>用户教育程度</th>\n",
       "      <th>用户婚姻状态</th>\n",
       "      <th>用户户口类型</th>\n",
       "      <th>收入次数</th>\n",
       "      <th>总收入</th>\n",
       "      <th>支出次数</th>\n",
       "      <th>总支出</th>\n",
       "      <th>...</th>\n",
       "      <th>信用卡额度</th>\n",
       "      <th>平均本期账单余额</th>\n",
       "      <th>平均本期账单最低还款额</th>\n",
       "      <th>平均消费笔数</th>\n",
       "      <th>平均本期账单金额</th>\n",
       "      <th>平均调整金额</th>\n",
       "      <th>平均循环利息</th>\n",
       "      <th>平均可用余额</th>\n",
       "      <th>平均预借现金额度</th>\n",
       "      <th>是否逾期</th>\n",
       "    </tr>\n",
       "  </thead>\n",
       "  <tbody>\n",
       "    <tr>\n",
       "      <th>0</th>\n",
       "      <td>6965</td>\n",
       "      <td>1</td>\n",
       "      <td>2</td>\n",
       "      <td>4</td>\n",
       "      <td>3</td>\n",
       "      <td>2</td>\n",
       "      <td>75.0</td>\n",
       "      <td>972.850228</td>\n",
       "      <td>289.0</td>\n",
       "      <td>3234.531975</td>\n",
       "      <td>...</td>\n",
       "      <td>19.971271</td>\n",
       "      <td>19.957631</td>\n",
       "      <td>17.220095</td>\n",
       "      <td>10.750000</td>\n",
       "      <td>18.825107</td>\n",
       "      <td>0.000000</td>\n",
       "      <td>15.520681</td>\n",
       "      <td>0.0</td>\n",
       "      <td>19.624697</td>\n",
       "      <td>0</td>\n",
       "    </tr>\n",
       "    <tr>\n",
       "      <th>1</th>\n",
       "      <td>1265</td>\n",
       "      <td>1</td>\n",
       "      <td>3</td>\n",
       "      <td>4</td>\n",
       "      <td>3</td>\n",
       "      <td>1</td>\n",
       "      <td>125.0</td>\n",
       "      <td>1708.206195</td>\n",
       "      <td>294.0</td>\n",
       "      <td>3662.457063</td>\n",
       "      <td>...</td>\n",
       "      <td>19.973385</td>\n",
       "      <td>19.909123</td>\n",
       "      <td>17.866453</td>\n",
       "      <td>1.444444</td>\n",
       "      <td>19.007284</td>\n",
       "      <td>0.000000</td>\n",
       "      <td>5.175483</td>\n",
       "      <td>0.0</td>\n",
       "      <td>9.702118</td>\n",
       "      <td>0</td>\n",
       "    </tr>\n",
       "    <tr>\n",
       "      <th>2</th>\n",
       "      <td>2583</td>\n",
       "      <td>2</td>\n",
       "      <td>2</td>\n",
       "      <td>2</td>\n",
       "      <td>1</td>\n",
       "      <td>1</td>\n",
       "      <td>213.0</td>\n",
       "      <td>2736.475318</td>\n",
       "      <td>618.0</td>\n",
       "      <td>7064.310678</td>\n",
       "      <td>...</td>\n",
       "      <td>18.307126</td>\n",
       "      <td>17.736937</td>\n",
       "      <td>10.292788</td>\n",
       "      <td>1.791667</td>\n",
       "      <td>17.199134</td>\n",
       "      <td>0.000000</td>\n",
       "      <td>6.478271</td>\n",
       "      <td>0.0</td>\n",
       "      <td>11.014650</td>\n",
       "      <td>0</td>\n",
       "    </tr>\n",
       "    <tr>\n",
       "      <th>3</th>\n",
       "      <td>29165</td>\n",
       "      <td>1</td>\n",
       "      <td>2</td>\n",
       "      <td>4</td>\n",
       "      <td>1</td>\n",
       "      <td>4</td>\n",
       "      <td>189.0</td>\n",
       "      <td>2277.607807</td>\n",
       "      <td>473.0</td>\n",
       "      <td>5099.861165</td>\n",
       "      <td>...</td>\n",
       "      <td>19.740221</td>\n",
       "      <td>17.921520</td>\n",
       "      <td>15.902257</td>\n",
       "      <td>0.000000</td>\n",
       "      <td>12.969975</td>\n",
       "      <td>0.000000</td>\n",
       "      <td>0.000000</td>\n",
       "      <td>0.0</td>\n",
       "      <td>6.001719</td>\n",
       "      <td>0</td>\n",
       "    </tr>\n",
       "    <tr>\n",
       "      <th>4</th>\n",
       "      <td>2443</td>\n",
       "      <td>1</td>\n",
       "      <td>4</td>\n",
       "      <td>4</td>\n",
       "      <td>3</td>\n",
       "      <td>1</td>\n",
       "      <td>252.0</td>\n",
       "      <td>3020.288782</td>\n",
       "      <td>341.0</td>\n",
       "      <td>3762.790364</td>\n",
       "      <td>...</td>\n",
       "      <td>17.309158</td>\n",
       "      <td>19.397134</td>\n",
       "      <td>18.206423</td>\n",
       "      <td>2.251572</td>\n",
       "      <td>15.892834</td>\n",
       "      <td>0.229931</td>\n",
       "      <td>4.082358</td>\n",
       "      <td>0.0</td>\n",
       "      <td>10.873986</td>\n",
       "      <td>0</td>\n",
       "    </tr>\n",
       "  </tbody>\n",
       "</table>\n",
       "<p>5 rows × 25 columns</p>\n",
       "</div>"
      ],
      "text/plain": [
       "    用户id  用户性别  用户职业  用户教育程度  用户婚姻状态  用户户口类型   收入次数          总收入   支出次数  \\\n",
       "0   6965     1     2       4       3       2   75.0   972.850228  289.0   \n",
       "1   1265     1     3       4       3       1  125.0  1708.206195  294.0   \n",
       "2   2583     2     2       2       1       1  213.0  2736.475318  618.0   \n",
       "3  29165     1     2       4       1       4  189.0  2277.607807  473.0   \n",
       "4   2443     1     4       4       3       1  252.0  3020.288782  341.0   \n",
       "\n",
       "           总支出  ...      信用卡额度   平均本期账单余额  平均本期账单最低还款额     平均消费笔数   平均本期账单金额  \\\n",
       "0  3234.531975  ...  19.971271  19.957631    17.220095  10.750000  18.825107   \n",
       "1  3662.457063  ...  19.973385  19.909123    17.866453   1.444444  19.007284   \n",
       "2  7064.310678  ...  18.307126  17.736937    10.292788   1.791667  17.199134   \n",
       "3  5099.861165  ...  19.740221  17.921520    15.902257   0.000000  12.969975   \n",
       "4  3762.790364  ...  17.309158  19.397134    18.206423   2.251572  15.892834   \n",
       "\n",
       "     平均调整金额     平均循环利息  平均可用余额   平均预借现金额度  是否逾期  \n",
       "0  0.000000  15.520681     0.0  19.624697     0  \n",
       "1  0.000000   5.175483     0.0   9.702118     0  \n",
       "2  0.000000   6.478271     0.0  11.014650     0  \n",
       "3  0.000000   0.000000     0.0   6.001719     0  \n",
       "4  0.229931   4.082358     0.0  10.873986     0  \n",
       "\n",
       "[5 rows x 25 columns]"
      ]
     },
     "execution_count": 45,
     "metadata": {},
     "output_type": "execute_result"
    }
   ],
   "source": [
    "train_table.head()"
   ]
  },
  {
   "cell_type": "code",
   "execution_count": 46,
   "metadata": {},
   "outputs": [
    {
     "name": "stdout",
     "output_type": "stream",
     "text": [
      "autopep8\t bank\t bank_train\t bill_train\t browse_train\t gc\t json\t np\t overdue_train\t \n",
      "p\t pd\t plt\t sns\t train_bill_detail\t train_loan_time\t train_overdue\t train_table\t train_user_info\t \n",
      "user2\t \n"
     ]
    }
   ],
   "source": [
    "%who"
   ]
  },
  {
   "cell_type": "code",
   "execution_count": 47,
   "metadata": {},
   "outputs": [
    {
     "data": {
      "text/plain": [
       "60"
      ]
     },
     "execution_count": 47,
     "metadata": {},
     "output_type": "execute_result"
    }
   ],
   "source": [
    "del train_bill_detail\n",
    "del train_loan_time\n",
    "del train_overdue\n",
    "del train_user_info\n",
    "del user2\n",
    "del browse_train\n",
    "del overdue_train\n",
    "gc.collect()"
   ]
  },
  {
   "cell_type": "code",
   "execution_count": 48,
   "metadata": {},
   "outputs": [
    {
     "name": "stdout",
     "output_type": "stream",
     "text": [
      "autopep8\t bank\t bank_train\t bill_train\t gc\t json\t np\t p\t pd\t \n",
      "plt\t sns\t train_table\t \n"
     ]
    }
   ],
   "source": [
    "%who"
   ]
  },
  {
   "cell_type": "markdown",
   "metadata": {},
   "source": [
    "将筛选过后的数据保存"
   ]
  },
  {
   "cell_type": "code",
   "execution_count": 49,
   "metadata": {},
   "outputs": [],
   "source": [
    "train_table.to_csv(\"./product/filter_data.csv\",index=False)"
   ]
  },
  {
   "cell_type": "markdown",
   "metadata": {},
   "source": [
    "# 特征工程"
   ]
  },
  {
   "cell_type": "markdown",
   "metadata": {},
   "source": [
    "## 银行流水分析"
   ]
  },
  {
   "cell_type": "code",
   "execution_count": 50,
   "metadata": {},
   "outputs": [
    {
     "data": {
      "text/plain": [
       "<AxesSubplot:>"
      ]
     },
     "execution_count": 50,
     "metadata": {},
     "output_type": "execute_result"
    },
    {
     "data": {
      "image/png": "[encoded data removed]",
      "text/plain": [
       "<Figure size 720x720 with 2 Axes>"
      ]
     },
     "metadata": {},
     "output_type": "display_data"
    }
   ],
   "source": [
    "plt.figure(figsize=(10, 10))\n",
    "sns.heatmap(train_table.iloc[:, 6:12].corr(), annot=True)"
   ]
  },
  {
   "cell_type": "code",
   "execution_count": 51,
   "metadata": {},
   "outputs": [
    {
     "data": {
      "text/plain": [
       "<seaborn.axisgrid.PairGrid at 0x1de000a86a0>"
      ]
     },
     "execution_count": 51,
     "metadata": {},
     "output_type": "execute_result"
    },
    {
     "data": {
      "image/png": "[encoded data removed]",
      "text/plain": [
       "<Figure size 1080x1080 with 42 Axes>"
      ]
     },
     "metadata": {},
     "output_type": "display_data"
    }
   ],
   "source": [
    "sns.pairplot(train_table.iloc[:, 6:12])"
   ]
  },
  {
   "cell_type": "markdown",
   "metadata": {},
   "source": [
    "收入次数和总收入基本线性关系，但收入主要靠工资，所以这里使用后面的工资代表收入程度   \n",
    "支出次数和总支出基本线性关系， 可以通过计算平均每次的支出代表支出程度   \n",
    "\n",
    "工资收入次数和工资多少虽说呈线性，但是这是因为有接近一半的人没有工资，需要重新筛选画图才能得出结论"
   ]
  },
  {
   "cell_type": "code",
   "execution_count": 52,
   "metadata": {},
   "outputs": [
    {
     "data": {
      "text/plain": [
       "<AxesSubplot:>"
      ]
     },
     "execution_count": 52,
     "metadata": {},
     "output_type": "execute_result"
    },
    {
     "data": {
      "image/png": "[encoded data removed]",
      "text/plain": [
       "<Figure size 360x360 with 2 Axes>"
      ]
     },
     "metadata": {},
     "output_type": "display_data"
    }
   ],
   "source": [
    "plt.figure(figsize=(5, 5))\n",
    "sns.heatmap(train_table[train_table[\"总工资\"] !=\n",
    "                        0].iloc[:, 10:12].corr(), annot=True)"
   ]
  },
  {
   "cell_type": "code",
   "execution_count": 53,
   "metadata": {},
   "outputs": [
    {
     "data": {
      "text/plain": [
       "<seaborn.axisgrid.FacetGrid at 0x1de06c63820>"
      ]
     },
     "execution_count": 53,
     "metadata": {},
     "output_type": "execute_result"
    },
    {
     "data": {
      "image/png": "[encoded data removed]",
      "text/plain": [
       "<Figure size 360x360 with 1 Axes>"
      ]
     },
     "metadata": {},
     "output_type": "display_data"
    }
   ],
   "source": [
    "sns.lmplot(data=train_table[train_table[\"总工资\"] !=\n",
    "                            0].iloc[:, 10:12], x=\"工资收入次数\", y=\"总工资\")"
   ]
  },
  {
   "cell_type": "markdown",
   "metadata": {},
   "source": [
    "的确呈线程，工资收入次数和工资多少呈线性，可以取平均用来代表工资程度"
   ]
  },
  {
   "cell_type": "markdown",
   "metadata": {},
   "source": [
    "## 账单分析"
   ]
  },
  {
   "cell_type": "code",
   "execution_count": 54,
   "metadata": {
    "scrolled": false
   },
   "outputs": [
    {
     "data": {
      "text/plain": [
       "<AxesSubplot:>"
      ]
     },
     "execution_count": 54,
     "metadata": {},
     "output_type": "execute_result"
    },
    {
     "data": {
      "image/png": "[encoded data removed]",
      "text/plain": [
       "<Figure size 1080x720 with 2 Axes>"
      ]
     },
     "metadata": {},
     "output_type": "display_data"
    }
   ],
   "source": [
    "plt.figure(figsize=(15, 10))\n",
    "sns.heatmap(train_table.iloc[:, 13:24].corr(), annot=True)"
   ]
  },
  {
   "cell_type": "markdown",
   "metadata": {},
   "source": [
    "**本期应还金额 = 上期账单金额-上期还款金额 + 本期账单金额 - 本期调整金额 + 循环利息**\n",
    "\n",
    "上期还款金额 <上期账单的最低还款额（一般是账单金额*10%）或者不还，就视为逾期，而且本期的还款要加上循环利息和上期未还款的那部分。\n",
    "\n",
    "上期最低还款额<上期还款金额<上期账单金额，不视为逾期，但本期的还款要加上循环利息\n",
    "\n",
    "上期还款金额 >上期账单金额，也就是说用户还多了，那么本期的还款会减去一个调整金额（多还的那部分），循环利息不计。  (举个例子，在当期你使用信用卡在线支付了1000元飞机票，然而由于原因你退掉了这张飞机票，那么银行会将之前扣掉的1000元在给你打回账户中。这个1000元就是本期调整金额。)\n",
    "\n",
    "也就是说上期还款金额和本次还款金额相关,主要在于上期还款金额与上期最低还款额，上期账单金额的大小关系  \n",
    "但是这里没有上期最低还款恩度，所以只能计算上期还款金额-上期账单大小"
   ]
  },
  {
   "cell_type": "markdown",
   "metadata": {},
   "source": [
    "预借现金额度，是指持卡人使用信用卡通过ATM等自助终端提取现金的最高额度，取现额度包含于信用额度之内，一般是信用额度的50%左右，所以可以不用这个特征，选择信用额度即可"
   ]
  },
  {
   "cell_type": "markdown",
   "metadata": {},
   "source": [
    "## 数据处理"
   ]
  },
  {
   "cell_type": "markdown",
   "metadata": {},
   "source": [
    "- 目标特征：\n",
    "    - 用户属性\n",
    "        - 性别\n",
    "        - 教育程度\n",
    "        - 婚姻状况\n",
    "        - 职业\n",
    "        - 户口类型\n",
    "    - 用户浏览情况：\n",
    "        - 浏览次数\n",
    "    - 经济情况\n",
    "        - 收入程度\n",
    "        - 支出程度\n",
    "    - 账单记录\n",
    "        - 上期还款差额（上期还款金额-上期账单金额）\n",
    "        - 本期账单金额\n",
    "        - 本期最低还款额\n",
    "        - 消费笔数\n",
    "        - 信用卡额度\n",
    "        - ~上期还款达标差（上期还款金额-上期最低还款额）(无法计算)~"
   ]
  },
  {
   "cell_type": "code",
   "execution_count": 55,
   "metadata": {},
   "outputs": [],
   "source": [
    "train_table[\"收入程度\"] = train_table.apply(\n",
    "    lambda x: x.总工资/x.工资收入次数 if x.工资收入次数 != 0 else 0, axis=1)"
   ]
  },
  {
   "cell_type": "code",
   "execution_count": 56,
   "metadata": {},
   "outputs": [],
   "source": [
    "train_table[\"支出程度\"] = train_table.apply(\n",
    "    lambda x: x.总支出/x.支出次数 if x.支出次数 != 0 else 0, axis=1)"
   ]
  },
  {
   "cell_type": "code",
   "execution_count": 57,
   "metadata": {},
   "outputs": [],
   "source": [
    "train_table[\"上期还款差额\"] = train_table.apply(\n",
    "    lambda x: x.平均上期还款金额-x.平均上期账单金额, axis=1)"
   ]
  },
  {
   "cell_type": "code",
   "execution_count": 58,
   "metadata": {},
   "outputs": [],
   "source": [
    "train_table2 = train_table.drop([\"收入次数\", \"总收入\", \"支出次数\", \"总支出\", \"工资收入次数\", \"总工资\", \"平均上期账单金额\",\n",
    "                                 \"平均上期还款金额\", \"平均本期账单余额\",  \"平均调整金额\", \"平均循环利息\", \"平均可用余额\", \"平均预借现金额度\"], axis=1)"
   ]
  },
  {
   "cell_type": "code",
   "execution_count": 59,
   "metadata": {
    "scrolled": true
   },
   "outputs": [
    {
     "name": "stdout",
     "output_type": "stream",
     "text": [
      "<class 'pandas.core.frame.DataFrame'>\n",
      "Int64Index: 5735 entries, 0 to 5734\n",
      "Data columns (total 15 columns):\n",
      " #   Column       Non-Null Count  Dtype  \n",
      "---  ------       --------------  -----  \n",
      " 0   用户id         5735 non-null   int64  \n",
      " 1   用户性别         5735 non-null   int64  \n",
      " 2   用户职业         5735 non-null   int64  \n",
      " 3   用户教育程度       5735 non-null   int64  \n",
      " 4   用户婚姻状态       5735 non-null   int64  \n",
      " 5   用户户口类型       5735 non-null   int64  \n",
      " 6   浏览次数         5735 non-null   int64  \n",
      " 7   信用卡额度        5735 non-null   float64\n",
      " 8   平均本期账单最低还款额  5735 non-null   float64\n",
      " 9   平均消费笔数       5735 non-null   float64\n",
      " 10  平均本期账单金额     5735 non-null   float64\n",
      " 11  是否逾期         5735 non-null   int64  \n",
      " 12  收入程度         5735 non-null   float64\n",
      " 13  支出程度         5735 non-null   float64\n",
      " 14  上期还款差额       5735 non-null   float64\n",
      "dtypes: float64(7), int64(8)\n",
      "memory usage: 716.9 KB\n"
     ]
    }
   ],
   "source": [
    "train_table2.info()"
   ]
  },
  {
   "cell_type": "markdown",
   "metadata": {},
   "source": [
    "# 特征选择"
   ]
  },
  {
   "cell_type": "markdown",
   "metadata": {},
   "source": [
    "## 使用嵌入法挑选"
   ]
  },
  {
   "cell_type": "code",
   "execution_count": 60,
   "metadata": {},
   "outputs": [],
   "source": [
    "from sklearn.feature_selection import SelectFromModel\n",
    "from sklearn.ensemble import RandomForestClassifier as RFC"
   ]
  },
  {
   "cell_type": "code",
   "execution_count": 61,
   "metadata": {},
   "outputs": [],
   "source": [
    "s = SelectFromModel(RFC()).fit(train_table.drop(\n",
    "    [\"用户id\", \"是否逾期\"], axis=1), train_table[\"是否逾期\"])"
   ]
  },
  {
   "cell_type": "code",
   "execution_count": 62,
   "metadata": {},
   "outputs": [
    {
     "data": {
      "text/plain": [
       "array([0.02208979, 0.01051374, 0.013773  , 0.01721807, 0.01878753,\n",
       "       0.04785051, 0.05117001, 0.04933981, 0.05185985, 0.01304462,\n",
       "       0.01913989, 0.05703171, 0.05142498, 0.05193783, 0.05091266,\n",
       "       0.05887154, 0.0568992 , 0.04741253, 0.05057222, 0.01835842,\n",
       "       0.02422822, 0.01745688, 0.04310027, 0.01879194, 0.07135357,\n",
       "       0.06686122])"
      ]
     },
     "execution_count": 62,
     "metadata": {},
     "output_type": "execute_result"
    }
   ],
   "source": [
    "s.estimator_.feature_importances_"
   ]
  },
  {
   "cell_type": "code",
   "execution_count": 63,
   "metadata": {},
   "outputs": [
    {
     "data": {
      "text/plain": [
       "0.038461538461538464"
      ]
     },
     "execution_count": 63,
     "metadata": {},
     "output_type": "execute_result"
    }
   ],
   "source": [
    "s.threshold_"
   ]
  },
  {
   "cell_type": "code",
   "execution_count": 64,
   "metadata": {},
   "outputs": [
    {
     "data": {
      "text/plain": [
       "array([False, False, False, False, False,  True,  True,  True,  True,\n",
       "       False, False,  True,  True,  True,  True,  True,  True,  True,\n",
       "        True, False, False, False,  True, False,  True,  True])"
      ]
     },
     "execution_count": 64,
     "metadata": {},
     "output_type": "execute_result"
    }
   ],
   "source": [
    "s.get_support()"
   ]
  },
  {
   "cell_type": "code",
   "execution_count": 65,
   "metadata": {},
   "outputs": [],
   "source": [
    "s1 = SelectFromModel(RFC()).fit(train_table2.drop(\n",
    "    [\"是否逾期\", \"用户id\"], axis=1), train_table2[\"是否逾期\"])"
   ]
  },
  {
   "cell_type": "code",
   "execution_count": 66,
   "metadata": {},
   "outputs": [
    {
     "data": {
      "text/plain": [
       "array([0.02882919, 0.0202585 , 0.02744414, 0.03012934, 0.0372017 ,\n",
       "       0.11358153, 0.10783144, 0.1202756 , 0.09468498, 0.10406112,\n",
       "       0.04948566, 0.13981084, 0.12640597])"
      ]
     },
     "execution_count": 66,
     "metadata": {},
     "output_type": "execute_result"
    }
   ],
   "source": [
    "s1.estimator_.feature_importances_"
   ]
  },
  {
   "cell_type": "code",
   "execution_count": 67,
   "metadata": {},
   "outputs": [
    {
     "data": {
      "text/plain": [
       "0.07692307692307693"
      ]
     },
     "execution_count": 67,
     "metadata": {},
     "output_type": "execute_result"
    }
   ],
   "source": [
    "s1.threshold_"
   ]
  },
  {
   "cell_type": "code",
   "execution_count": 68,
   "metadata": {},
   "outputs": [
    {
     "data": {
      "text/html": [
       "<div>\n",
       "<style scoped>\n",
       "    .dataframe tbody tr th:only-of-type {\n",
       "        vertical-align: middle;\n",
       "    }\n",
       "\n",
       "    .dataframe tbody tr th {\n",
       "        vertical-align: top;\n",
       "    }\n",
       "\n",
       "    .dataframe thead th {\n",
       "        text-align: right;\n",
       "    }\n",
       "</style>\n",
       "<table border=\"1\" class=\"dataframe\">\n",
       "  <thead>\n",
       "    <tr style=\"text-align: right;\">\n",
       "      <th></th>\n",
       "      <th>0</th>\n",
       "      <th>1</th>\n",
       "      <th>2</th>\n",
       "    </tr>\n",
       "  </thead>\n",
       "  <tbody>\n",
       "    <tr>\n",
       "      <th>1</th>\n",
       "      <td>用户职业</td>\n",
       "      <td>False</td>\n",
       "      <td>0.020258</td>\n",
       "    </tr>\n",
       "    <tr>\n",
       "      <th>2</th>\n",
       "      <td>用户教育程度</td>\n",
       "      <td>False</td>\n",
       "      <td>0.027444</td>\n",
       "    </tr>\n",
       "    <tr>\n",
       "      <th>0</th>\n",
       "      <td>用户性别</td>\n",
       "      <td>False</td>\n",
       "      <td>0.028829</td>\n",
       "    </tr>\n",
       "    <tr>\n",
       "      <th>3</th>\n",
       "      <td>用户婚姻状态</td>\n",
       "      <td>False</td>\n",
       "      <td>0.030129</td>\n",
       "    </tr>\n",
       "    <tr>\n",
       "      <th>4</th>\n",
       "      <td>用户户口类型</td>\n",
       "      <td>False</td>\n",
       "      <td>0.037202</td>\n",
       "    </tr>\n",
       "    <tr>\n",
       "      <th>10</th>\n",
       "      <td>收入程度</td>\n",
       "      <td>False</td>\n",
       "      <td>0.049486</td>\n",
       "    </tr>\n",
       "    <tr>\n",
       "      <th>8</th>\n",
       "      <td>平均消费笔数</td>\n",
       "      <td>True</td>\n",
       "      <td>0.094685</td>\n",
       "    </tr>\n",
       "    <tr>\n",
       "      <th>9</th>\n",
       "      <td>平均本期账单金额</td>\n",
       "      <td>True</td>\n",
       "      <td>0.104061</td>\n",
       "    </tr>\n",
       "    <tr>\n",
       "      <th>6</th>\n",
       "      <td>信用卡额度</td>\n",
       "      <td>True</td>\n",
       "      <td>0.107831</td>\n",
       "    </tr>\n",
       "    <tr>\n",
       "      <th>5</th>\n",
       "      <td>浏览次数</td>\n",
       "      <td>True</td>\n",
       "      <td>0.113582</td>\n",
       "    </tr>\n",
       "    <tr>\n",
       "      <th>7</th>\n",
       "      <td>平均本期账单最低还款额</td>\n",
       "      <td>True</td>\n",
       "      <td>0.120276</td>\n",
       "    </tr>\n",
       "    <tr>\n",
       "      <th>12</th>\n",
       "      <td>上期还款差额</td>\n",
       "      <td>True</td>\n",
       "      <td>0.126406</td>\n",
       "    </tr>\n",
       "    <tr>\n",
       "      <th>11</th>\n",
       "      <td>支出程度</td>\n",
       "      <td>True</td>\n",
       "      <td>0.139811</td>\n",
       "    </tr>\n",
       "  </tbody>\n",
       "</table>\n",
       "</div>"
      ],
      "text/plain": [
       "              0      1         2\n",
       "1          用户职业  False  0.020258\n",
       "2        用户教育程度  False  0.027444\n",
       "0          用户性别  False  0.028829\n",
       "3        用户婚姻状态  False  0.030129\n",
       "4        用户户口类型  False  0.037202\n",
       "10         收入程度  False  0.049486\n",
       "8        平均消费笔数   True  0.094685\n",
       "9      平均本期账单金额   True  0.104061\n",
       "6         信用卡额度   True  0.107831\n",
       "5          浏览次数   True  0.113582\n",
       "7   平均本期账单最低还款额   True  0.120276\n",
       "12       上期还款差额   True  0.126406\n",
       "11         支出程度   True  0.139811"
      ]
     },
     "execution_count": 68,
     "metadata": {},
     "output_type": "execute_result"
    }
   ],
   "source": [
    "pd.DataFrame(list(zip(list(train_table2.drop([\"是否逾期\", \"用户id\"], axis=1).columns), s1.get_support(\n",
    "), s1.estimator_.feature_importances_))).sort_values(by=2)"
   ]
  },
  {
   "cell_type": "markdown",
   "metadata": {},
   "source": [
    "可以发现特征筛选后的确有效果"
   ]
  },
  {
   "cell_type": "markdown",
   "metadata": {},
   "source": [
    "## 使用f_classif 过滤"
   ]
  },
  {
   "cell_type": "code",
   "execution_count": 69,
   "metadata": {},
   "outputs": [],
   "source": [
    "from sklearn.feature_selection import f_classif, SelectKBest"
   ]
  },
  {
   "cell_type": "code",
   "execution_count": 70,
   "metadata": {},
   "outputs": [],
   "source": [
    "select_k_bset = SelectKBest(f_classif, k=5)"
   ]
  },
  {
   "cell_type": "code",
   "execution_count": 71,
   "metadata": {},
   "outputs": [],
   "source": [
    "a = select_k_bset.fit(train_table2.drop(\n",
    "    [\"是否逾期\", \"用户id\"], axis=1), train_table2[\"是否逾期\"])"
   ]
  },
  {
   "cell_type": "code",
   "execution_count": 72,
   "metadata": {},
   "outputs": [
    {
     "data": {
      "text/plain": [
       "array([ True, False,  True, False, False, False, False,  True, False,\n",
       "       False,  True,  True, False])"
      ]
     },
     "execution_count": 72,
     "metadata": {},
     "output_type": "execute_result"
    }
   ],
   "source": [
    "a.get_support()"
   ]
  },
  {
   "cell_type": "code",
   "execution_count": 73,
   "metadata": {},
   "outputs": [
    {
     "data": {
      "text/plain": [
       "[('用户性别', True),\n",
       " ('用户职业', False),\n",
       " ('用户教育程度', True),\n",
       " ('用户婚姻状态', False),\n",
       " ('用户户口类型', False),\n",
       " ('浏览次数', False),\n",
       " ('信用卡额度', False),\n",
       " ('平均本期账单最低还款额', True),\n",
       " ('平均消费笔数', False),\n",
       " ('平均本期账单金额', False),\n",
       " ('收入程度', True),\n",
       " ('支出程度', True),\n",
       " ('上期还款差额', False)]"
      ]
     },
     "execution_count": 73,
     "metadata": {},
     "output_type": "execute_result"
    }
   ],
   "source": [
    "list(zip(train_table2.drop([\"是否逾期\", \"用户id\"], axis=1).columns, a.get_support()))"
   ]
  },
  {
   "cell_type": "markdown",
   "metadata": {},
   "source": [
    "## 得到结果"
   ]
  },
  {
   "cell_type": "markdown",
   "metadata": {},
   "source": [
    "综合两者，使用以下特征：\n",
    "\n",
    "- 用户性别\n",
    "- 用户教育程度\n",
    "- 收入程度\n",
    "- 支出程度\n",
    "- 浏览次数\n",
    "- 上期还款差额\n",
    "- 信用卡额度\n",
    "- 平均本期账单最低还款额\n",
    "- 平均消费笔数\n",
    "- 平均本期账单金额\n",
    "\n"
   ]
  },
  {
   "cell_type": "code",
   "execution_count": 74,
   "metadata": {},
   "outputs": [],
   "source": [
    "train_table2 = train_table2.loc[:, [\"用户性别\", \"用户教育程度\", \"收入程度\", \"支出程度\",\n",
    "                                    \"浏览次数\", \"上期还款差额\", \"信用卡额度\", \"平均本期账单最低还款额\", \"平均消费笔数\", \"平均本期账单金额\", \"是否逾期\"]]"
   ]
  },
  {
   "cell_type": "code",
   "execution_count": 75,
   "metadata": {},
   "outputs": [
    {
     "data": {
      "text/html": [
       "<div>\n",
       "<style scoped>\n",
       "    .dataframe tbody tr th:only-of-type {\n",
       "        vertical-align: middle;\n",
       "    }\n",
       "\n",
       "    .dataframe tbody tr th {\n",
       "        vertical-align: top;\n",
       "    }\n",
       "\n",
       "    .dataframe thead th {\n",
       "        text-align: right;\n",
       "    }\n",
       "</style>\n",
       "<table border=\"1\" class=\"dataframe\">\n",
       "  <thead>\n",
       "    <tr style=\"text-align: right;\">\n",
       "      <th></th>\n",
       "      <th>用户性别</th>\n",
       "      <th>用户教育程度</th>\n",
       "      <th>收入程度</th>\n",
       "      <th>支出程度</th>\n",
       "      <th>浏览次数</th>\n",
       "      <th>上期还款差额</th>\n",
       "      <th>信用卡额度</th>\n",
       "      <th>平均本期账单最低还款额</th>\n",
       "      <th>平均消费笔数</th>\n",
       "      <th>平均本期账单金额</th>\n",
       "      <th>是否逾期</th>\n",
       "    </tr>\n",
       "  </thead>\n",
       "  <tbody>\n",
       "    <tr>\n",
       "      <th>0</th>\n",
       "      <td>1</td>\n",
       "      <td>4</td>\n",
       "      <td>0.000000</td>\n",
       "      <td>11.192152</td>\n",
       "      <td>1710</td>\n",
       "      <td>2.730547</td>\n",
       "      <td>19.971271</td>\n",
       "      <td>17.220095</td>\n",
       "      <td>10.750000</td>\n",
       "      <td>18.825107</td>\n",
       "      <td>0</td>\n",
       "    </tr>\n",
       "    <tr>\n",
       "      <th>1</th>\n",
       "      <td>1</td>\n",
       "      <td>4</td>\n",
       "      <td>0.000000</td>\n",
       "      <td>12.457337</td>\n",
       "      <td>420</td>\n",
       "      <td>-3.524092</td>\n",
       "      <td>19.973385</td>\n",
       "      <td>17.866453</td>\n",
       "      <td>1.444444</td>\n",
       "      <td>19.007284</td>\n",
       "      <td>0</td>\n",
       "    </tr>\n",
       "    <tr>\n",
       "      <th>2</th>\n",
       "      <td>2</td>\n",
       "      <td>2</td>\n",
       "      <td>0.000000</td>\n",
       "      <td>11.430923</td>\n",
       "      <td>702</td>\n",
       "      <td>0.073337</td>\n",
       "      <td>18.307126</td>\n",
       "      <td>10.292788</td>\n",
       "      <td>1.791667</td>\n",
       "      <td>17.199134</td>\n",
       "      <td>0</td>\n",
       "    </tr>\n",
       "    <tr>\n",
       "      <th>3</th>\n",
       "      <td>1</td>\n",
       "      <td>4</td>\n",
       "      <td>14.473609</td>\n",
       "      <td>10.781947</td>\n",
       "      <td>783</td>\n",
       "      <td>19.825318</td>\n",
       "      <td>19.740221</td>\n",
       "      <td>15.902257</td>\n",
       "      <td>0.000000</td>\n",
       "      <td>12.969975</td>\n",
       "      <td>0</td>\n",
       "    </tr>\n",
       "    <tr>\n",
       "      <th>4</th>\n",
       "      <td>1</td>\n",
       "      <td>4</td>\n",
       "      <td>0.000000</td>\n",
       "      <td>11.034576</td>\n",
       "      <td>671</td>\n",
       "      <td>-12.607495</td>\n",
       "      <td>17.309158</td>\n",
       "      <td>18.206423</td>\n",
       "      <td>2.251572</td>\n",
       "      <td>15.892834</td>\n",
       "      <td>0</td>\n",
       "    </tr>\n",
       "  </tbody>\n",
       "</table>\n",
       "</div>"
      ],
      "text/plain": [
       "   用户性别  用户教育程度       收入程度       支出程度  浏览次数     上期还款差额      信用卡额度  \\\n",
       "0     1       4   0.000000  11.192152  1710   2.730547  19.971271   \n",
       "1     1       4   0.000000  12.457337   420  -3.524092  19.973385   \n",
       "2     2       2   0.000000  11.430923   702   0.073337  18.307126   \n",
       "3     1       4  14.473609  10.781947   783  19.825318  19.740221   \n",
       "4     1       4   0.000000  11.034576   671 -12.607495  17.309158   \n",
       "\n",
       "   平均本期账单最低还款额     平均消费笔数   平均本期账单金额  是否逾期  \n",
       "0    17.220095  10.750000  18.825107     0  \n",
       "1    17.866453   1.444444  19.007284     0  \n",
       "2    10.292788   1.791667  17.199134     0  \n",
       "3    15.902257   0.000000  12.969975     0  \n",
       "4    18.206423   2.251572  15.892834     0  "
      ]
     },
     "execution_count": 75,
     "metadata": {},
     "output_type": "execute_result"
    }
   ],
   "source": [
    "train_table2.head()"
   ]
  },
  {
   "cell_type": "code",
   "execution_count": 76,
   "metadata": {},
   "outputs": [],
   "source": [
    "train_table2.to_csv(\"./product/filter_feature.csv\",index=False)"
   ]
  },
  {
   "cell_type": "markdown",
   "metadata": {},
   "source": [
    "# 不同处理程度后跑分比较"
   ]
  },
  {
   "cell_type": "markdown",
   "metadata": {},
   "source": [
    "比较不同处理程度的数据集哪一个更有效"
   ]
  },
  {
   "cell_type": "code",
   "execution_count": 77,
   "metadata": {},
   "outputs": [],
   "source": [
    "feature_label = pd.read_csv(\"./product/filter_feature.csv\")"
   ]
  },
  {
   "cell_type": "code",
   "execution_count": 78,
   "metadata": {},
   "outputs": [
    {
     "name": "stdout",
     "output_type": "stream",
     "text": [
      "<class 'pandas.core.frame.DataFrame'>\n",
      "RangeIndex: 5735 entries, 0 to 5734\n",
      "Data columns (total 11 columns):\n",
      " #   Column       Non-Null Count  Dtype  \n",
      "---  ------       --------------  -----  \n",
      " 0   用户性别         5735 non-null   int64  \n",
      " 1   用户教育程度       5735 non-null   int64  \n",
      " 2   收入程度         5735 non-null   float64\n",
      " 3   支出程度         5735 non-null   float64\n",
      " 4   浏览次数         5735 non-null   int64  \n",
      " 5   上期还款差额       5735 non-null   float64\n",
      " 6   信用卡额度        5735 non-null   float64\n",
      " 7   平均本期账单最低还款额  5735 non-null   float64\n",
      " 8   平均消费笔数       5735 non-null   float64\n",
      " 9   平均本期账单金额     5735 non-null   float64\n",
      " 10  是否逾期         5735 non-null   int64  \n",
      "dtypes: float64(7), int64(4)\n",
      "memory usage: 493.0 KB\n"
     ]
    }
   ],
   "source": [
    "# 经过清洗并且提取完特征后的数据集\n",
    "feature_label.info()"
   ]
  },
  {
   "cell_type": "code",
   "execution_count": 79,
   "metadata": {},
   "outputs": [],
   "source": [
    "feature_label_rough = pd.read_csv(\"./product/filter_data.csv\")"
   ]
  },
  {
   "cell_type": "code",
   "execution_count": 80,
   "metadata": {
    "scrolled": true
   },
   "outputs": [
    {
     "name": "stdout",
     "output_type": "stream",
     "text": [
      "<class 'pandas.core.frame.DataFrame'>\n",
      "RangeIndex: 5735 entries, 0 to 5734\n",
      "Data columns (total 25 columns):\n",
      " #   Column       Non-Null Count  Dtype  \n",
      "---  ------       --------------  -----  \n",
      " 0   用户id         5735 non-null   int64  \n",
      " 1   用户性别         5735 non-null   int64  \n",
      " 2   用户职业         5735 non-null   int64  \n",
      " 3   用户教育程度       5735 non-null   int64  \n",
      " 4   用户婚姻状态       5735 non-null   int64  \n",
      " 5   用户户口类型       5735 non-null   int64  \n",
      " 6   收入次数         5735 non-null   float64\n",
      " 7   总收入          5735 non-null   float64\n",
      " 8   支出次数         5735 non-null   float64\n",
      " 9   总支出          5735 non-null   float64\n",
      " 10  工资收入次数       5735 non-null   float64\n",
      " 11  总工资          5735 non-null   float64\n",
      " 12  浏览次数         5735 non-null   int64  \n",
      " 13  平均上期账单金额     5735 non-null   float64\n",
      " 14  平均上期还款金额     5735 non-null   float64\n",
      " 15  信用卡额度        5735 non-null   float64\n",
      " 16  平均本期账单余额     5735 non-null   float64\n",
      " 17  平均本期账单最低还款额  5735 non-null   float64\n",
      " 18  平均消费笔数       5735 non-null   float64\n",
      " 19  平均本期账单金额     5735 non-null   float64\n",
      " 20  平均调整金额       5735 non-null   float64\n",
      " 21  平均循环利息       5735 non-null   float64\n",
      " 22  平均可用余额       5735 non-null   float64\n",
      " 23  平均预借现金额度     5735 non-null   float64\n",
      " 24  是否逾期         5735 non-null   int64  \n",
      "dtypes: float64(17), int64(8)\n",
      "memory usage: 1.1 MB\n"
     ]
    }
   ],
   "source": [
    "# 经过清洗，并且保留主要特征后的数据集。\n",
    "feature_label_rough.info()"
   ]
  },
  {
   "cell_type": "code",
   "execution_count": 81,
   "metadata": {},
   "outputs": [],
   "source": [
    "from sklearn.tree import DecisionTreeClassifier\n",
    "from sklearn.ensemble import RandomForestClassifier\n",
    "from sklearn.linear_model import LogisticRegression\n",
    "from sklearn.svm import SVC\n",
    "from xgboost import XGBClassifier\n",
    "from sklearn.model_selection import train_test_split"
   ]
  },
  {
   "cell_type": "code",
   "execution_count": 82,
   "metadata": {},
   "outputs": [],
   "source": [
    "x_train,x_test,y_train,y_test = train_test_split(feature_label.iloc[:,0:-1],feature_label[\"是否逾期\"],test_size=0.25)"
   ]
  },
  {
   "cell_type": "code",
   "execution_count": 83,
   "metadata": {},
   "outputs": [],
   "source": [
    "x_train2,x_test2,y_train2,y_test2 = train_test_split(feature_label_rough.drop(\"是否逾期\",axis=1),feature_label[\"是否逾期\"],test_size=0.25)"
   ]
  },
  {
   "cell_type": "code",
   "execution_count": 84,
   "metadata": {},
   "outputs": [
    {
     "name": "stdout",
     "output_type": "stream",
     "text": [
      "<class 'pandas.core.frame.DataFrame'>\n",
      "Int64Index: 4301 entries, 1795 to 4909\n",
      "Data columns (total 10 columns):\n",
      " #   Column       Non-Null Count  Dtype  \n",
      "---  ------       --------------  -----  \n",
      " 0   用户性别         4301 non-null   int64  \n",
      " 1   用户教育程度       4301 non-null   int64  \n",
      " 2   收入程度         4301 non-null   float64\n",
      " 3   支出程度         4301 non-null   float64\n",
      " 4   浏览次数         4301 non-null   int64  \n",
      " 5   上期还款差额       4301 non-null   float64\n",
      " 6   信用卡额度        4301 non-null   float64\n",
      " 7   平均本期账单最低还款额  4301 non-null   float64\n",
      " 8   平均消费笔数       4301 non-null   float64\n",
      " 9   平均本期账单金额     4301 non-null   float64\n",
      "dtypes: float64(7), int64(3)\n",
      "memory usage: 369.6 KB\n"
     ]
    }
   ],
   "source": [
    "x_train.info()"
   ]
  },
  {
   "cell_type": "code",
   "execution_count": 85,
   "metadata": {
    "scrolled": true
   },
   "outputs": [
    {
     "name": "stdout",
     "output_type": "stream",
     "text": [
      "<class 'pandas.core.frame.DataFrame'>\n",
      "Int64Index: 4301 entries, 2873 to 5514\n",
      "Data columns (total 24 columns):\n",
      " #   Column       Non-Null Count  Dtype  \n",
      "---  ------       --------------  -----  \n",
      " 0   用户id         4301 non-null   int64  \n",
      " 1   用户性别         4301 non-null   int64  \n",
      " 2   用户职业         4301 non-null   int64  \n",
      " 3   用户教育程度       4301 non-null   int64  \n",
      " 4   用户婚姻状态       4301 non-null   int64  \n",
      " 5   用户户口类型       4301 non-null   int64  \n",
      " 6   收入次数         4301 non-null   float64\n",
      " 7   总收入          4301 non-null   float64\n",
      " 8   支出次数         4301 non-null   float64\n",
      " 9   总支出          4301 non-null   float64\n",
      " 10  工资收入次数       4301 non-null   float64\n",
      " 11  总工资          4301 non-null   float64\n",
      " 12  浏览次数         4301 non-null   int64  \n",
      " 13  平均上期账单金额     4301 non-null   float64\n",
      " 14  平均上期还款金额     4301 non-null   float64\n",
      " 15  信用卡额度        4301 non-null   float64\n",
      " 16  平均本期账单余额     4301 non-null   float64\n",
      " 17  平均本期账单最低还款额  4301 non-null   float64\n",
      " 18  平均消费笔数       4301 non-null   float64\n",
      " 19  平均本期账单金额     4301 non-null   float64\n",
      " 20  平均调整金额       4301 non-null   float64\n",
      " 21  平均循环利息       4301 non-null   float64\n",
      " 22  平均可用余额       4301 non-null   float64\n",
      " 23  平均预借现金额度     4301 non-null   float64\n",
      "dtypes: float64(17), int64(7)\n",
      "memory usage: 840.0 KB\n"
     ]
    }
   ],
   "source": [
    "x_train2.info()"
   ]
  },
  {
   "cell_type": "markdown",
   "metadata": {},
   "source": [
    "## 筛选过特征"
   ]
  },
  {
   "cell_type": "code",
   "execution_count": 86,
   "metadata": {},
   "outputs": [
    {
     "name": "stderr",
     "output_type": "stream",
     "text": [
      "D:\\learn\\anaconda3\\envs\\learn\\lib\\site-packages\\sklearn\\linear_model\\_logistic.py:762: ConvergenceWarning: lbfgs failed to converge (status=1):\n",
      "STOP: TOTAL NO. of ITERATIONS REACHED LIMIT.\n",
      "\n",
      "Increase the number of iterations (max_iter) or scale the data as shown in:\n",
      "    https://scikit-learn.org/stable/modules/preprocessing.html\n",
      "Please also refer to the documentation for alternative solver options:\n",
      "    https://scikit-learn.org/stable/modules/linear_model.html#logistic-regression\n",
      "  n_iter_i = _check_optimize_result(\n"
     ]
    },
    {
     "data": {
      "text/plain": [
       "0.8507670850767085"
      ]
     },
     "execution_count": 86,
     "metadata": {},
     "output_type": "execute_result"
    }
   ],
   "source": [
    "LogisticRegression().fit(x_train,y_train).score(x_test,y_test)"
   ]
  },
  {
   "cell_type": "code",
   "execution_count": 87,
   "metadata": {},
   "outputs": [
    {
     "data": {
      "text/plain": [
       "0.7426778242677824"
      ]
     },
     "execution_count": 87,
     "metadata": {},
     "output_type": "execute_result"
    }
   ],
   "source": [
    "DecisionTreeClassifier().fit(x_train,y_train).score(x_test,y_test)"
   ]
  },
  {
   "cell_type": "code",
   "execution_count": 88,
   "metadata": {},
   "outputs": [
    {
     "data": {
      "text/plain": [
       "0.8479776847977685"
      ]
     },
     "execution_count": 88,
     "metadata": {},
     "output_type": "execute_result"
    }
   ],
   "source": [
    "RandomForestClassifier().fit(x_train,y_train).score(x_test,y_test)"
   ]
  },
  {
   "cell_type": "code",
   "execution_count": 89,
   "metadata": {},
   "outputs": [
    {
     "data": {
      "text/plain": [
       "0.8507670850767085"
      ]
     },
     "execution_count": 89,
     "metadata": {},
     "output_type": "execute_result"
    }
   ],
   "source": [
    "SVC().fit(x_train,y_train).score(x_test,y_test)"
   ]
  },
  {
   "cell_type": "code",
   "execution_count": 90,
   "metadata": {},
   "outputs": [
    {
     "data": {
      "text/plain": [
       "0.8479776847977685"
      ]
     },
     "execution_count": 90,
     "metadata": {},
     "output_type": "execute_result"
    }
   ],
   "source": [
    "XGBClassifier().fit(x_train,y_train).score(x_test,y_test)"
   ]
  },
  {
   "cell_type": "markdown",
   "metadata": {},
   "source": [
    "## 仅清洗过，未筛选特征"
   ]
  },
  {
   "cell_type": "code",
   "execution_count": 91,
   "metadata": {},
   "outputs": [
    {
     "name": "stderr",
     "output_type": "stream",
     "text": [
      "D:\\learn\\anaconda3\\envs\\learn\\lib\\site-packages\\sklearn\\linear_model\\_logistic.py:762: ConvergenceWarning: lbfgs failed to converge (status=1):\n",
      "STOP: TOTAL NO. of ITERATIONS REACHED LIMIT.\n",
      "\n",
      "Increase the number of iterations (max_iter) or scale the data as shown in:\n",
      "    https://scikit-learn.org/stable/modules/preprocessing.html\n",
      "Please also refer to the documentation for alternative solver options:\n",
      "    https://scikit-learn.org/stable/modules/linear_model.html#logistic-regression\n",
      "  n_iter_i = _check_optimize_result(\n"
     ]
    },
    {
     "data": {
      "text/plain": [
       "0.8472803347280334"
      ]
     },
     "execution_count": 91,
     "metadata": {},
     "output_type": "execute_result"
    }
   ],
   "source": [
    "LogisticRegression().fit(x_train2,y_train2).score(x_test2,y_test2)"
   ]
  },
  {
   "cell_type": "code",
   "execution_count": 92,
   "metadata": {},
   "outputs": [
    {
     "data": {
      "text/plain": [
       "0.7266387726638772"
      ]
     },
     "execution_count": 92,
     "metadata": {},
     "output_type": "execute_result"
    }
   ],
   "source": [
    "DecisionTreeClassifier().fit(x_train2,y_train2).score(x_test2,y_test2)"
   ]
  },
  {
   "cell_type": "code",
   "execution_count": 93,
   "metadata": {},
   "outputs": [
    {
     "data": {
      "text/plain": [
       "0.8500697350069735"
      ]
     },
     "execution_count": 93,
     "metadata": {},
     "output_type": "execute_result"
    }
   ],
   "source": [
    "RandomForestClassifier().fit(x_train2,y_train2).score(x_test2,y_test2)"
   ]
  },
  {
   "cell_type": "code",
   "execution_count": 94,
   "metadata": {},
   "outputs": [
    {
     "data": {
      "text/plain": [
       "0.8479776847977685"
      ]
     },
     "execution_count": 94,
     "metadata": {},
     "output_type": "execute_result"
    }
   ],
   "source": [
    "SVC().fit(x_train2,y_train2).score(x_test2,y_test2)"
   ]
  },
  {
   "cell_type": "code",
   "execution_count": 95,
   "metadata": {},
   "outputs": [
    {
     "data": {
      "text/plain": [
       "0.8403068340306834"
      ]
     },
     "execution_count": 95,
     "metadata": {},
     "output_type": "execute_result"
    }
   ],
   "source": [
    "XGBClassifier().fit(x_train2,y_train2).score(x_test2,y_test2)"
   ]
  },
  {
   "cell_type": "markdown",
   "metadata": {},
   "source": [
    "## 结论"
   ]
  },
  {
   "cell_type": "markdown",
   "metadata": {},
   "source": [
    "可以发现，列数降低为了原来的三分之一，而正确率变化都在百分之一之内。特征处理十分成功"
   ]
  },
  {
   "cell_type": "code",
   "execution_count": null,
   "metadata": {},
   "outputs": [],
   "source": []
  }
 ],
 "metadata": {
  "kernelspec": {
   "display_name": "Python 3.8.5",
   "language": "python",
   "name": "python3"
  },
  "language_info": {
   "codemirror_mode": {
    "name": "ipython",
    "version": 3
   },
   "file_extension": ".py",
   "mimetype": "text/x-python",
   "name": "python",
   "nbconvert_exporter": "python",
   "pygments_lexer": "ipython3",
   "version": "3.8.5"
  },
  "toc": {
   "base_numbering": 1,
   "nav_menu": {},
   "number_sections": true,
   "sideBar": true,
   "skip_h1_title": false,
   "title_cell": "Table of Contents",
   "title_sidebar": "Contents",
   "toc_cell": false,
   "toc_position": {},
   "toc_section_display": true,
   "toc_window_display": true
  }
 },
 "nbformat": 4,
 "nbformat_minor": 4
}
