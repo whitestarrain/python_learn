{
 "cells": [
  {
   "cell_type": "code",
   "execution_count": 1,
   "metadata": {},
   "outputs": [],
   "source": [
    "import numpy as np\n",
    "import pandas as pd\n",
    "import matplotlib.pyplot as plt\n",
    "import seaborn as sns\n",
    "\n",
    "plt.rcParams['font.sans-serif'] = 'Microsoft YaHei'\n",
    "plt.rcParams['axes.unicode_minus'] = False\n",
    "# plt.style.use(\"ggplot\")\n",
    "\n",
    "%matplotlib inline\n",
    "\n",
    "p = sns.color_palette()\n",
    "sns.set_style(\"darkgrid\", {\"font.sans-serif\": ['simhei', 'Arial']})"
   ]
  },
  {
   "cell_type": "markdown",
   "metadata": {},
   "source": [
    "因为各个数据文件间设计时间的先后，具体处理会放到数据预处理  \n",
    "此处仅仅是为了对数据整体有一个全面的认识"
   ]
  },
  {
   "cell_type": "markdown",
   "metadata": {},
   "source": [
    "文件组成：\n",
    "1.\t用户的基本属性user_info.txt\n",
    "\t> 共6个字段，其中字段性别为0表示性别未知。\n",
    "\t- 字段组成：\n",
    "        - 用户id\n",
    "        - 性别\n",
    "        - 职业\n",
    "        - 教育程度\n",
    "        - 婚姻状态\n",
    "        - 户口类型\n",
    "2.\t银行流水记录bank_detail.txt\n",
    "\t> 共5个字段，其中，第2个字段，时间戳为0表示时间未知；第3个字段，交易类型有两个值，1表示支出、0表示收入；第5个字段，工资收入标记为1时，表示工资收入。\n",
    "\t字段组成：\n",
    "\t- 用户id,\n",
    "        - 间戳\n",
    "        - 交易类型\n",
    "        - 交易金额\n",
    "        - 工资收入标记\n",
    "3.\t用户浏览行为browse_history.txt\n",
    "\t> 共4个字段。其中，第2个字段，时间戳为0表示时间未知\n",
    "\t- 字段组成：\n",
    "        - 用户id\n",
    "        - 时间戳\n",
    "        - 浏览行为数据\n",
    "        - 浏览子行为编号\n",
    "4.\t信用卡账单记录bill_detail.txt\n",
    "\t> 共15个字段，其中，第2个字段，时间戳为0表示时间未知\n",
    "\t- 字段组成：\n",
    "        - 用户id\n",
    "        - 账单时间戳\n",
    "        - 银行id\n",
    "        - 上期账单金额\n",
    "        - 上期还款金额\n",
    "        - 信用卡额度\n",
    "        - 本期账单余额\n",
    "        - 本期账单最低还款额\n",
    "        - 消费笔数\n",
    "        - 本期账单金额\n",
    "        - 调整金额\n",
    "        - 循环利息\n",
    "        - 可用金额\n",
    "        - 预借现金额度\n",
    "        - 还款状态\n",
    "5.\t放款时间loan_time.txt\n",
    "\t- 字段组成：\n",
    "        - 用户id、\n",
    "        - 放款时间   \n",
    "6.\t顾客是否发生逾期行为的记录overdue.txt。\n",
    "\t> 样本标签为1，表示逾期30天以上；样本标签为0，表示逾期10天以内。注意：逾期10天~30天之内的用户，并不在此问题考虑的范围内\n",
    "\t- 字段组成：\n",
    "        - 用户id\n",
    "        - 是否逾期\n",
    "        \n",
    "        \n",
    "注意：并非每一位用户都有非常完整的记录，如有些用户并没有信用卡账单记录，有些用户却没有银行流水记录。\n",
    "同时进行了脱敏处理：\n",
    "- (a)\t隐藏了用户的id信息；\n",
    "- (b)\t将用户属性信息全部数字化；\n",
    "- (c)\t将时间戳和所有金额的值都做了函数变换。\n",
    "\n",
    "\n"
   ]
  },
  {
   "cell_type": "markdown",
   "metadata": {},
   "source": [
    "# 训练集载入"
   ]
  },
  {
   "cell_type": "code",
   "execution_count": 2,
   "metadata": {},
   "outputs": [],
   "source": [
    "# 查看文件发现没有header，需要手动指定\n",
    "train_load_time = pd.read_csv(\n",
    "    \"./data/train/loan_time_train.txt\", header=None, names=[\"用户id\", \"放款时间\"])"
   ]
  },
  {
   "cell_type": "code",
   "execution_count": 3,
   "metadata": {},
   "outputs": [
    {
     "data": {
      "text/html": [
       "<div>\n",
       "<style scoped>\n",
       "    .dataframe tbody tr th:only-of-type {\n",
       "        vertical-align: middle;\n",
       "    }\n",
       "\n",
       "    .dataframe tbody tr th {\n",
       "        vertical-align: top;\n",
       "    }\n",
       "\n",
       "    .dataframe thead th {\n",
       "        text-align: right;\n",
       "    }\n",
       "</style>\n",
       "<table border=\"1\" class=\"dataframe\">\n",
       "  <thead>\n",
       "    <tr style=\"text-align: right;\">\n",
       "      <th></th>\n",
       "      <th>用户id</th>\n",
       "      <th>放款时间</th>\n",
       "    </tr>\n",
       "  </thead>\n",
       "  <tbody>\n",
       "    <tr>\n",
       "      <th>0</th>\n",
       "      <td>1</td>\n",
       "      <td>5914855887</td>\n",
       "    </tr>\n",
       "    <tr>\n",
       "      <th>1</th>\n",
       "      <td>2</td>\n",
       "      <td>5914855887</td>\n",
       "    </tr>\n",
       "    <tr>\n",
       "      <th>2</th>\n",
       "      <td>3</td>\n",
       "      <td>5914855887</td>\n",
       "    </tr>\n",
       "    <tr>\n",
       "      <th>3</th>\n",
       "      <td>4</td>\n",
       "      <td>5914855887</td>\n",
       "    </tr>\n",
       "    <tr>\n",
       "      <th>4</th>\n",
       "      <td>5</td>\n",
       "      <td>5914855887</td>\n",
       "    </tr>\n",
       "  </tbody>\n",
       "</table>\n",
       "</div>"
      ],
      "text/plain": [
       "   用户id        放款时间\n",
       "0     1  5914855887\n",
       "1     2  5914855887\n",
       "2     3  5914855887\n",
       "3     4  5914855887\n",
       "4     5  5914855887"
      ]
     },
     "execution_count": 3,
     "metadata": {},
     "output_type": "execute_result"
    }
   ],
   "source": [
    "# 是按照时间戳类型\n",
    "train_load_time.head()"
   ]
  },
  {
   "cell_type": "code",
   "execution_count": 4,
   "metadata": {},
   "outputs": [],
   "source": [
    "train_load_time[\"放款时间\"] = train_load_time[\"放款时间\"]//(60*60*24)\n",
    "# 因为不涉及"
   ]
  },
  {
   "cell_type": "code",
   "execution_count": 5,
   "metadata": {},
   "outputs": [
    {
     "data": {
      "text/html": [
       "<div>\n",
       "<style scoped>\n",
       "    .dataframe tbody tr th:only-of-type {\n",
       "        vertical-align: middle;\n",
       "    }\n",
       "\n",
       "    .dataframe tbody tr th {\n",
       "        vertical-align: top;\n",
       "    }\n",
       "\n",
       "    .dataframe thead th {\n",
       "        text-align: right;\n",
       "    }\n",
       "</style>\n",
       "<table border=\"1\" class=\"dataframe\">\n",
       "  <thead>\n",
       "    <tr style=\"text-align: right;\">\n",
       "      <th></th>\n",
       "      <th>用户id</th>\n",
       "      <th>放款时间</th>\n",
       "    </tr>\n",
       "  </thead>\n",
       "  <tbody>\n",
       "    <tr>\n",
       "      <th>0</th>\n",
       "      <td>1</td>\n",
       "      <td>68458</td>\n",
       "    </tr>\n",
       "    <tr>\n",
       "      <th>1</th>\n",
       "      <td>2</td>\n",
       "      <td>68458</td>\n",
       "    </tr>\n",
       "    <tr>\n",
       "      <th>2</th>\n",
       "      <td>3</td>\n",
       "      <td>68458</td>\n",
       "    </tr>\n",
       "    <tr>\n",
       "      <th>3</th>\n",
       "      <td>4</td>\n",
       "      <td>68458</td>\n",
       "    </tr>\n",
       "    <tr>\n",
       "      <th>4</th>\n",
       "      <td>5</td>\n",
       "      <td>68458</td>\n",
       "    </tr>\n",
       "  </tbody>\n",
       "</table>\n",
       "</div>"
      ],
      "text/plain": [
       "   用户id   放款时间\n",
       "0     1  68458\n",
       "1     2  68458\n",
       "2     3  68458\n",
       "3     4  68458\n",
       "4     5  68458"
      ]
     },
     "execution_count": 5,
     "metadata": {},
     "output_type": "execute_result"
    }
   ],
   "source": [
    "train_load_time.head()"
   ]
  },
  {
   "cell_type": "code",
   "execution_count": 6,
   "metadata": {},
   "outputs": [],
   "source": [
    "train_user_info = pd.read_csv(\"./data/train/user_info_train.txt\",\n",
    "                              header=None, names=['用户id', '用户性别', '用户职业', '用户教育程度',\n",
    "                                                  '用户婚姻状态', '用户户口类型'])"
   ]
  },
  {
   "cell_type": "code",
   "execution_count": 7,
   "metadata": {
    "scrolled": true
   },
   "outputs": [
    {
     "data": {
      "text/html": [
       "<div>\n",
       "<style scoped>\n",
       "    .dataframe tbody tr th:only-of-type {\n",
       "        vertical-align: middle;\n",
       "    }\n",
       "\n",
       "    .dataframe tbody tr th {\n",
       "        vertical-align: top;\n",
       "    }\n",
       "\n",
       "    .dataframe thead th {\n",
       "        text-align: right;\n",
       "    }\n",
       "</style>\n",
       "<table border=\"1\" class=\"dataframe\">\n",
       "  <thead>\n",
       "    <tr style=\"text-align: right;\">\n",
       "      <th></th>\n",
       "      <th>用户id</th>\n",
       "      <th>用户性别</th>\n",
       "      <th>用户职业</th>\n",
       "      <th>用户教育程度</th>\n",
       "      <th>用户婚姻状态</th>\n",
       "      <th>用户户口类型</th>\n",
       "    </tr>\n",
       "  </thead>\n",
       "  <tbody>\n",
       "    <tr>\n",
       "      <th>0</th>\n",
       "      <td>3150</td>\n",
       "      <td>1</td>\n",
       "      <td>2</td>\n",
       "      <td>4</td>\n",
       "      <td>1</td>\n",
       "      <td>4</td>\n",
       "    </tr>\n",
       "    <tr>\n",
       "      <th>1</th>\n",
       "      <td>6965</td>\n",
       "      <td>1</td>\n",
       "      <td>2</td>\n",
       "      <td>4</td>\n",
       "      <td>3</td>\n",
       "      <td>2</td>\n",
       "    </tr>\n",
       "    <tr>\n",
       "      <th>2</th>\n",
       "      <td>1265</td>\n",
       "      <td>1</td>\n",
       "      <td>3</td>\n",
       "      <td>4</td>\n",
       "      <td>3</td>\n",
       "      <td>1</td>\n",
       "    </tr>\n",
       "    <tr>\n",
       "      <th>3</th>\n",
       "      <td>6360</td>\n",
       "      <td>1</td>\n",
       "      <td>2</td>\n",
       "      <td>4</td>\n",
       "      <td>3</td>\n",
       "      <td>2</td>\n",
       "    </tr>\n",
       "    <tr>\n",
       "      <th>4</th>\n",
       "      <td>2583</td>\n",
       "      <td>2</td>\n",
       "      <td>2</td>\n",
       "      <td>2</td>\n",
       "      <td>1</td>\n",
       "      <td>1</td>\n",
       "    </tr>\n",
       "  </tbody>\n",
       "</table>\n",
       "</div>"
      ],
      "text/plain": [
       "   用户id  用户性别  用户职业  用户教育程度  用户婚姻状态  用户户口类型\n",
       "0  3150     1     2       4       1       4\n",
       "1  6965     1     2       4       3       2\n",
       "2  1265     1     3       4       3       1\n",
       "3  6360     1     2       4       3       2\n",
       "4  2583     2     2       2       1       1"
      ]
     },
     "execution_count": 7,
     "metadata": {},
     "output_type": "execute_result"
    }
   ],
   "source": [
    "train_user_info.head()"
   ]
  },
  {
   "cell_type": "code",
   "execution_count": 8,
   "metadata": {},
   "outputs": [],
   "source": [
    "train_bill_detail = pd.read_csv(\"./data/train/bill_detail_train.txt\", header=None,\n",
    "                                names=['用户id', '时间', '银行标识', '上期账单金额', '上期还款金额', '信用卡额度',\n",
    "                                       '本期账单余额', '本期账单最低还款额', '消费笔数', '本期账单金额', '调整金额',\n",
    "                                       '循环利息', '可用余额', '预借现金额度', '还款状态'])"
   ]
  },
  {
   "cell_type": "code",
   "execution_count": 9,
   "metadata": {},
   "outputs": [
    {
     "data": {
      "text/html": [
       "<div>\n",
       "<style scoped>\n",
       "    .dataframe tbody tr th:only-of-type {\n",
       "        vertical-align: middle;\n",
       "    }\n",
       "\n",
       "    .dataframe tbody tr th {\n",
       "        vertical-align: top;\n",
       "    }\n",
       "\n",
       "    .dataframe thead th {\n",
       "        text-align: right;\n",
       "    }\n",
       "</style>\n",
       "<table border=\"1\" class=\"dataframe\">\n",
       "  <thead>\n",
       "    <tr style=\"text-align: right;\">\n",
       "      <th></th>\n",
       "      <th>用户id</th>\n",
       "      <th>时间</th>\n",
       "      <th>银行标识</th>\n",
       "      <th>上期账单金额</th>\n",
       "      <th>上期还款金额</th>\n",
       "      <th>信用卡额度</th>\n",
       "      <th>本期账单余额</th>\n",
       "      <th>本期账单最低还款额</th>\n",
       "      <th>消费笔数</th>\n",
       "      <th>本期账单金额</th>\n",
       "      <th>调整金额</th>\n",
       "      <th>循环利息</th>\n",
       "      <th>可用余额</th>\n",
       "      <th>预借现金额度</th>\n",
       "      <th>还款状态</th>\n",
       "    </tr>\n",
       "  </thead>\n",
       "  <tbody>\n",
       "    <tr>\n",
       "      <th>0</th>\n",
       "      <td>3150</td>\n",
       "      <td>5906744363</td>\n",
       "      <td>6</td>\n",
       "      <td>18.626118</td>\n",
       "      <td>18.661937</td>\n",
       "      <td>20.664418</td>\n",
       "      <td>18.905766</td>\n",
       "      <td>17.847133</td>\n",
       "      <td>1</td>\n",
       "      <td>0.0</td>\n",
       "      <td>0.0</td>\n",
       "      <td>0.0</td>\n",
       "      <td>0.0</td>\n",
       "      <td>19.971271</td>\n",
       "      <td>0</td>\n",
       "    </tr>\n",
       "    <tr>\n",
       "      <th>1</th>\n",
       "      <td>3150</td>\n",
       "      <td>5906744401</td>\n",
       "      <td>6</td>\n",
       "      <td>18.905766</td>\n",
       "      <td>18.909954</td>\n",
       "      <td>20.664418</td>\n",
       "      <td>19.113305</td>\n",
       "      <td>17.911506</td>\n",
       "      <td>1</td>\n",
       "      <td>0.0</td>\n",
       "      <td>0.0</td>\n",
       "      <td>0.0</td>\n",
       "      <td>0.0</td>\n",
       "      <td>19.971271</td>\n",
       "      <td>0</td>\n",
       "    </tr>\n",
       "    <tr>\n",
       "      <th>2</th>\n",
       "      <td>3150</td>\n",
       "      <td>5906744427</td>\n",
       "      <td>6</td>\n",
       "      <td>19.113305</td>\n",
       "      <td>19.150290</td>\n",
       "      <td>20.664418</td>\n",
       "      <td>19.300194</td>\n",
       "      <td>17.977610</td>\n",
       "      <td>1</td>\n",
       "      <td>0.0</td>\n",
       "      <td>0.0</td>\n",
       "      <td>0.0</td>\n",
       "      <td>0.0</td>\n",
       "      <td>19.971271</td>\n",
       "      <td>0</td>\n",
       "    </tr>\n",
       "    <tr>\n",
       "      <th>3</th>\n",
       "      <td>3150</td>\n",
       "      <td>5906744515</td>\n",
       "      <td>6</td>\n",
       "      <td>19.300194</td>\n",
       "      <td>19.300280</td>\n",
       "      <td>21.000890</td>\n",
       "      <td>20.303240</td>\n",
       "      <td>18.477177</td>\n",
       "      <td>1</td>\n",
       "      <td>0.0</td>\n",
       "      <td>0.0</td>\n",
       "      <td>0.0</td>\n",
       "      <td>0.0</td>\n",
       "      <td>20.307743</td>\n",
       "      <td>0</td>\n",
       "    </tr>\n",
       "    <tr>\n",
       "      <th>4</th>\n",
       "      <td>3150</td>\n",
       "      <td>5906744562</td>\n",
       "      <td>6</td>\n",
       "      <td>20.303240</td>\n",
       "      <td>20.307744</td>\n",
       "      <td>21.000890</td>\n",
       "      <td>20.357134</td>\n",
       "      <td>18.510985</td>\n",
       "      <td>1</td>\n",
       "      <td>0.0</td>\n",
       "      <td>0.0</td>\n",
       "      <td>0.0</td>\n",
       "      <td>0.0</td>\n",
       "      <td>20.307743</td>\n",
       "      <td>0</td>\n",
       "    </tr>\n",
       "  </tbody>\n",
       "</table>\n",
       "</div>"
      ],
      "text/plain": [
       "   用户id          时间  银行标识     上期账单金额     上期还款金额      信用卡额度     本期账单余额  \\\n",
       "0  3150  5906744363     6  18.626118  18.661937  20.664418  18.905766   \n",
       "1  3150  5906744401     6  18.905766  18.909954  20.664418  19.113305   \n",
       "2  3150  5906744427     6  19.113305  19.150290  20.664418  19.300194   \n",
       "3  3150  5906744515     6  19.300194  19.300280  21.000890  20.303240   \n",
       "4  3150  5906744562     6  20.303240  20.307744  21.000890  20.357134   \n",
       "\n",
       "   本期账单最低还款额  消费笔数  本期账单金额  调整金额  循环利息  可用余额     预借现金额度  还款状态  \n",
       "0  17.847133     1     0.0   0.0   0.0   0.0  19.971271     0  \n",
       "1  17.911506     1     0.0   0.0   0.0   0.0  19.971271     0  \n",
       "2  17.977610     1     0.0   0.0   0.0   0.0  19.971271     0  \n",
       "3  18.477177     1     0.0   0.0   0.0   0.0  20.307743     0  \n",
       "4  18.510985     1     0.0   0.0   0.0   0.0  20.307743     0  "
      ]
     },
     "execution_count": 9,
     "metadata": {},
     "output_type": "execute_result"
    }
   ],
   "source": [
    "train_bill_detail.head()"
   ]
  },
  {
   "cell_type": "code",
   "execution_count": 10,
   "metadata": {},
   "outputs": [],
   "source": [
    "# 因为时间也是时间戳类型，所以这里转换为天数\n",
    "train_bill_detail[\"时间\"] = train_bill_detail[\"时间\"]//(60*60*24)"
   ]
  },
  {
   "cell_type": "code",
   "execution_count": 11,
   "metadata": {},
   "outputs": [
    {
     "data": {
      "text/html": [
       "<div>\n",
       "<style scoped>\n",
       "    .dataframe tbody tr th:only-of-type {\n",
       "        vertical-align: middle;\n",
       "    }\n",
       "\n",
       "    .dataframe tbody tr th {\n",
       "        vertical-align: top;\n",
       "    }\n",
       "\n",
       "    .dataframe thead th {\n",
       "        text-align: right;\n",
       "    }\n",
       "</style>\n",
       "<table border=\"1\" class=\"dataframe\">\n",
       "  <thead>\n",
       "    <tr style=\"text-align: right;\">\n",
       "      <th></th>\n",
       "      <th>用户id</th>\n",
       "      <th>时间</th>\n",
       "      <th>银行标识</th>\n",
       "      <th>上期账单金额</th>\n",
       "      <th>上期还款金额</th>\n",
       "      <th>信用卡额度</th>\n",
       "      <th>本期账单余额</th>\n",
       "      <th>本期账单最低还款额</th>\n",
       "      <th>消费笔数</th>\n",
       "      <th>本期账单金额</th>\n",
       "      <th>调整金额</th>\n",
       "      <th>循环利息</th>\n",
       "      <th>可用余额</th>\n",
       "      <th>预借现金额度</th>\n",
       "      <th>还款状态</th>\n",
       "    </tr>\n",
       "  </thead>\n",
       "  <tbody>\n",
       "    <tr>\n",
       "      <th>0</th>\n",
       "      <td>3150</td>\n",
       "      <td>68365</td>\n",
       "      <td>6</td>\n",
       "      <td>18.626118</td>\n",
       "      <td>18.661937</td>\n",
       "      <td>20.664418</td>\n",
       "      <td>18.905766</td>\n",
       "      <td>17.847133</td>\n",
       "      <td>1</td>\n",
       "      <td>0.0</td>\n",
       "      <td>0.0</td>\n",
       "      <td>0.0</td>\n",
       "      <td>0.0</td>\n",
       "      <td>19.971271</td>\n",
       "      <td>0</td>\n",
       "    </tr>\n",
       "    <tr>\n",
       "      <th>1</th>\n",
       "      <td>3150</td>\n",
       "      <td>68365</td>\n",
       "      <td>6</td>\n",
       "      <td>18.905766</td>\n",
       "      <td>18.909954</td>\n",
       "      <td>20.664418</td>\n",
       "      <td>19.113305</td>\n",
       "      <td>17.911506</td>\n",
       "      <td>1</td>\n",
       "      <td>0.0</td>\n",
       "      <td>0.0</td>\n",
       "      <td>0.0</td>\n",
       "      <td>0.0</td>\n",
       "      <td>19.971271</td>\n",
       "      <td>0</td>\n",
       "    </tr>\n",
       "    <tr>\n",
       "      <th>2</th>\n",
       "      <td>3150</td>\n",
       "      <td>68365</td>\n",
       "      <td>6</td>\n",
       "      <td>19.113305</td>\n",
       "      <td>19.150290</td>\n",
       "      <td>20.664418</td>\n",
       "      <td>19.300194</td>\n",
       "      <td>17.977610</td>\n",
       "      <td>1</td>\n",
       "      <td>0.0</td>\n",
       "      <td>0.0</td>\n",
       "      <td>0.0</td>\n",
       "      <td>0.0</td>\n",
       "      <td>19.971271</td>\n",
       "      <td>0</td>\n",
       "    </tr>\n",
       "    <tr>\n",
       "      <th>3</th>\n",
       "      <td>3150</td>\n",
       "      <td>68365</td>\n",
       "      <td>6</td>\n",
       "      <td>19.300194</td>\n",
       "      <td>19.300280</td>\n",
       "      <td>21.000890</td>\n",
       "      <td>20.303240</td>\n",
       "      <td>18.477177</td>\n",
       "      <td>1</td>\n",
       "      <td>0.0</td>\n",
       "      <td>0.0</td>\n",
       "      <td>0.0</td>\n",
       "      <td>0.0</td>\n",
       "      <td>20.307743</td>\n",
       "      <td>0</td>\n",
       "    </tr>\n",
       "    <tr>\n",
       "      <th>4</th>\n",
       "      <td>3150</td>\n",
       "      <td>68365</td>\n",
       "      <td>6</td>\n",
       "      <td>20.303240</td>\n",
       "      <td>20.307744</td>\n",
       "      <td>21.000890</td>\n",
       "      <td>20.357134</td>\n",
       "      <td>18.510985</td>\n",
       "      <td>1</td>\n",
       "      <td>0.0</td>\n",
       "      <td>0.0</td>\n",
       "      <td>0.0</td>\n",
       "      <td>0.0</td>\n",
       "      <td>20.307743</td>\n",
       "      <td>0</td>\n",
       "    </tr>\n",
       "  </tbody>\n",
       "</table>\n",
       "</div>"
      ],
      "text/plain": [
       "   用户id     时间  银行标识     上期账单金额     上期还款金额      信用卡额度     本期账单余额  本期账单最低还款额  \\\n",
       "0  3150  68365     6  18.626118  18.661937  20.664418  18.905766  17.847133   \n",
       "1  3150  68365     6  18.905766  18.909954  20.664418  19.113305  17.911506   \n",
       "2  3150  68365     6  19.113305  19.150290  20.664418  19.300194  17.977610   \n",
       "3  3150  68365     6  19.300194  19.300280  21.000890  20.303240  18.477177   \n",
       "4  3150  68365     6  20.303240  20.307744  21.000890  20.357134  18.510985   \n",
       "\n",
       "   消费笔数  本期账单金额  调整金额  循环利息  可用余额     预借现金额度  还款状态  \n",
       "0     1     0.0   0.0   0.0   0.0  19.971271     0  \n",
       "1     1     0.0   0.0   0.0   0.0  19.971271     0  \n",
       "2     1     0.0   0.0   0.0   0.0  19.971271     0  \n",
       "3     1     0.0   0.0   0.0   0.0  20.307743     0  \n",
       "4     1     0.0   0.0   0.0   0.0  20.307743     0  "
      ]
     },
     "execution_count": 11,
     "metadata": {},
     "output_type": "execute_result"
    }
   ],
   "source": [
    "train_bill_detail.head()"
   ]
  },
  {
   "cell_type": "code",
   "execution_count": 12,
   "metadata": {},
   "outputs": [],
   "source": [
    "train_browse_history = pd.read_csv(\"./data/train/browse_history_train.txt\", header=None,\n",
    "                                   names=['用户id', '浏览时间', '浏览行为数据', '浏览子行为编号'])"
   ]
  },
  {
   "cell_type": "code",
   "execution_count": 13,
   "metadata": {},
   "outputs": [],
   "source": [
    "train_browse_history['浏览时间'] = train_browse_history['浏览时间']//(60*60*24)"
   ]
  },
  {
   "cell_type": "code",
   "execution_count": 14,
   "metadata": {},
   "outputs": [],
   "source": [
    "train_bank_detail = pd.read_csv(\"./data/train/bank_detail_train.txt\").rename(columns={\"uid\": \"用户id\", \"timespan\": \"流水时间\",\n",
    "                                                                                      \"type\": \"交易类型\", \"amount\": \"交易金额\", \"markup\": \"工资收入标记\"})"
   ]
  },
  {
   "cell_type": "code",
   "execution_count": 15,
   "metadata": {},
   "outputs": [],
   "source": [
    "train_bank_detail['流水时间'] = train_bank_detail['流水时间']//(60*60*24)"
   ]
  },
  {
   "cell_type": "code",
   "execution_count": 16,
   "metadata": {},
   "outputs": [],
   "source": [
    "train_overdue = pd.read_csv(\"./data/train/overdue_train.txt\", header=None,\n",
    "                            names=['用户id', '是否逾期'])"
   ]
  },
  {
   "cell_type": "markdown",
   "metadata": {},
   "source": [
    "# 用户信息相关"
   ]
  },
  {
   "cell_type": "code",
   "execution_count": 17,
   "metadata": {},
   "outputs": [],
   "source": [
    "train_user_info_overdue = pd.merge(\n",
    "    train_overdue, train_user_info, how='inner', on=\"用户id\")"
   ]
  },
  {
   "cell_type": "code",
   "execution_count": 18,
   "metadata": {},
   "outputs": [
    {
     "data": {
      "text/html": [
       "<div>\n",
       "<style scoped>\n",
       "    .dataframe tbody tr th:only-of-type {\n",
       "        vertical-align: middle;\n",
       "    }\n",
       "\n",
       "    .dataframe tbody tr th {\n",
       "        vertical-align: top;\n",
       "    }\n",
       "\n",
       "    .dataframe thead th {\n",
       "        text-align: right;\n",
       "    }\n",
       "</style>\n",
       "<table border=\"1\" class=\"dataframe\">\n",
       "  <thead>\n",
       "    <tr style=\"text-align: right;\">\n",
       "      <th></th>\n",
       "      <th>用户id</th>\n",
       "      <th>是否逾期</th>\n",
       "      <th>用户性别</th>\n",
       "      <th>用户职业</th>\n",
       "      <th>用户教育程度</th>\n",
       "      <th>用户婚姻状态</th>\n",
       "      <th>用户户口类型</th>\n",
       "    </tr>\n",
       "  </thead>\n",
       "  <tbody>\n",
       "    <tr>\n",
       "      <th>0</th>\n",
       "      <td>1</td>\n",
       "      <td>0</td>\n",
       "      <td>1</td>\n",
       "      <td>2</td>\n",
       "      <td>3</td>\n",
       "      <td>1</td>\n",
       "      <td>3</td>\n",
       "    </tr>\n",
       "    <tr>\n",
       "      <th>1</th>\n",
       "      <td>2</td>\n",
       "      <td>0</td>\n",
       "      <td>1</td>\n",
       "      <td>2</td>\n",
       "      <td>3</td>\n",
       "      <td>2</td>\n",
       "      <td>1</td>\n",
       "    </tr>\n",
       "    <tr>\n",
       "      <th>2</th>\n",
       "      <td>3</td>\n",
       "      <td>0</td>\n",
       "      <td>1</td>\n",
       "      <td>4</td>\n",
       "      <td>4</td>\n",
       "      <td>1</td>\n",
       "      <td>4</td>\n",
       "    </tr>\n",
       "    <tr>\n",
       "      <th>3</th>\n",
       "      <td>4</td>\n",
       "      <td>1</td>\n",
       "      <td>1</td>\n",
       "      <td>4</td>\n",
       "      <td>4</td>\n",
       "      <td>3</td>\n",
       "      <td>2</td>\n",
       "    </tr>\n",
       "    <tr>\n",
       "      <th>4</th>\n",
       "      <td>5</td>\n",
       "      <td>0</td>\n",
       "      <td>1</td>\n",
       "      <td>2</td>\n",
       "      <td>2</td>\n",
       "      <td>3</td>\n",
       "      <td>1</td>\n",
       "    </tr>\n",
       "  </tbody>\n",
       "</table>\n",
       "</div>"
      ],
      "text/plain": [
       "   用户id  是否逾期  用户性别  用户职业  用户教育程度  用户婚姻状态  用户户口类型\n",
       "0     1     0     1     2       3       1       3\n",
       "1     2     0     1     2       3       2       1\n",
       "2     3     0     1     4       4       1       4\n",
       "3     4     1     1     4       4       3       2\n",
       "4     5     0     1     2       2       3       1"
      ]
     },
     "execution_count": 18,
     "metadata": {},
     "output_type": "execute_result"
    }
   ],
   "source": [
    "train_user_info_overdue.head()"
   ]
  },
  {
   "cell_type": "code",
   "execution_count": 19,
   "metadata": {},
   "outputs": [
    {
     "data": {
      "text/html": [
       "<div>\n",
       "<style scoped>\n",
       "    .dataframe tbody tr th:only-of-type {\n",
       "        vertical-align: middle;\n",
       "    }\n",
       "\n",
       "    .dataframe tbody tr th {\n",
       "        vertical-align: top;\n",
       "    }\n",
       "\n",
       "    .dataframe thead th {\n",
       "        text-align: right;\n",
       "    }\n",
       "</style>\n",
       "<table border=\"1\" class=\"dataframe\">\n",
       "  <thead>\n",
       "    <tr style=\"text-align: right;\">\n",
       "      <th></th>\n",
       "      <th>用户性别</th>\n",
       "      <th>逾期</th>\n",
       "      <th>总数</th>\n",
       "      <th>性别比</th>\n",
       "    </tr>\n",
       "  </thead>\n",
       "  <tbody>\n",
       "    <tr>\n",
       "      <th>0</th>\n",
       "      <td>0</td>\n",
       "      <td>654</td>\n",
       "      <td>1669</td>\n",
       "      <td>0.391851</td>\n",
       "    </tr>\n",
       "    <tr>\n",
       "      <th>1</th>\n",
       "      <td>1</td>\n",
       "      <td>5638</td>\n",
       "      <td>44254</td>\n",
       "      <td>0.127401</td>\n",
       "    </tr>\n",
       "    <tr>\n",
       "      <th>2</th>\n",
       "      <td>2</td>\n",
       "      <td>891</td>\n",
       "      <td>9673</td>\n",
       "      <td>0.092112</td>\n",
       "    </tr>\n",
       "  </tbody>\n",
       "</table>\n",
       "</div>"
      ],
      "text/plain": [
       "   用户性别    逾期     总数       性别比\n",
       "0     0   654   1669  0.391851\n",
       "1     1  5638  44254  0.127401\n",
       "2     2   891   9673  0.092112"
      ]
     },
     "execution_count": 19,
     "metadata": {},
     "output_type": "execute_result"
    }
   ],
   "source": [
    "gender_distribution = train_user_info_overdue.groupby(\n",
    "    '用户性别', as_index=False)['是否逾期'].agg({'逾期': 'sum', '总数': 'count'})\n",
    "gender_distribution[\"性别比\"] = gender_distribution[\"逾期\"] / \\\n",
    "    gender_distribution[\"总数\"]\n",
    "gender_distribution"
   ]
  },
  {
   "cell_type": "code",
   "execution_count": 20,
   "metadata": {},
   "outputs": [
    {
     "data": {
      "text/html": [
       "<div>\n",
       "<style scoped>\n",
       "    .dataframe tbody tr th:only-of-type {\n",
       "        vertical-align: middle;\n",
       "    }\n",
       "\n",
       "    .dataframe tbody tr th {\n",
       "        vertical-align: top;\n",
       "    }\n",
       "\n",
       "    .dataframe thead th {\n",
       "        text-align: right;\n",
       "    }\n",
       "</style>\n",
       "<table border=\"1\" class=\"dataframe\">\n",
       "  <thead>\n",
       "    <tr style=\"text-align: right;\">\n",
       "      <th></th>\n",
       "      <th>用户职业</th>\n",
       "      <th>逾期</th>\n",
       "      <th>总数</th>\n",
       "      <th>性别比</th>\n",
       "    </tr>\n",
       "  </thead>\n",
       "  <tbody>\n",
       "    <tr>\n",
       "      <th>0</th>\n",
       "      <td>0</td>\n",
       "      <td>75</td>\n",
       "      <td>368</td>\n",
       "      <td>0.203804</td>\n",
       "    </tr>\n",
       "    <tr>\n",
       "      <th>1</th>\n",
       "      <td>1</td>\n",
       "      <td>17</td>\n",
       "      <td>93</td>\n",
       "      <td>0.182796</td>\n",
       "    </tr>\n",
       "    <tr>\n",
       "      <th>2</th>\n",
       "      <td>2</td>\n",
       "      <td>5204</td>\n",
       "      <td>41150</td>\n",
       "      <td>0.126464</td>\n",
       "    </tr>\n",
       "    <tr>\n",
       "      <th>3</th>\n",
       "      <td>3</td>\n",
       "      <td>746</td>\n",
       "      <td>5898</td>\n",
       "      <td>0.126484</td>\n",
       "    </tr>\n",
       "    <tr>\n",
       "      <th>4</th>\n",
       "      <td>4</td>\n",
       "      <td>1141</td>\n",
       "      <td>8087</td>\n",
       "      <td>0.141091</td>\n",
       "    </tr>\n",
       "  </tbody>\n",
       "</table>\n",
       "</div>"
      ],
      "text/plain": [
       "   用户职业    逾期     总数       性别比\n",
       "0     0    75    368  0.203804\n",
       "1     1    17     93  0.182796\n",
       "2     2  5204  41150  0.126464\n",
       "3     3   746   5898  0.126484\n",
       "4     4  1141   8087  0.141091"
      ]
     },
     "execution_count": 20,
     "metadata": {},
     "output_type": "execute_result"
    }
   ],
   "source": [
    "job_distribution = train_user_info_overdue.groupby('用户职业', as_index=False)[\n",
    "    '是否逾期'].agg({'逾期': 'sum', '总数': 'count'})\n",
    "job_distribution[\"性别比\"] = job_distribution[\"逾期\"]/job_distribution[\"总数\"]\n",
    "job_distribution"
   ]
  },
  {
   "cell_type": "code",
   "execution_count": 21,
   "metadata": {},
   "outputs": [
    {
     "data": {
      "text/html": [
       "<div>\n",
       "<style scoped>\n",
       "    .dataframe tbody tr th:only-of-type {\n",
       "        vertical-align: middle;\n",
       "    }\n",
       "\n",
       "    .dataframe tbody tr th {\n",
       "        vertical-align: top;\n",
       "    }\n",
       "\n",
       "    .dataframe thead th {\n",
       "        text-align: right;\n",
       "    }\n",
       "</style>\n",
       "<table border=\"1\" class=\"dataframe\">\n",
       "  <thead>\n",
       "    <tr style=\"text-align: right;\">\n",
       "      <th></th>\n",
       "      <th>用户户口类型</th>\n",
       "      <th>逾期</th>\n",
       "      <th>总数</th>\n",
       "      <th>性别比</th>\n",
       "    </tr>\n",
       "  </thead>\n",
       "  <tbody>\n",
       "    <tr>\n",
       "      <th>0</th>\n",
       "      <td>0</td>\n",
       "      <td>75</td>\n",
       "      <td>369</td>\n",
       "      <td>0.203252</td>\n",
       "    </tr>\n",
       "    <tr>\n",
       "      <th>1</th>\n",
       "      <td>1</td>\n",
       "      <td>2033</td>\n",
       "      <td>17105</td>\n",
       "      <td>0.118854</td>\n",
       "    </tr>\n",
       "    <tr>\n",
       "      <th>2</th>\n",
       "      <td>2</td>\n",
       "      <td>2145</td>\n",
       "      <td>15557</td>\n",
       "      <td>0.137880</td>\n",
       "    </tr>\n",
       "    <tr>\n",
       "      <th>3</th>\n",
       "      <td>3</td>\n",
       "      <td>978</td>\n",
       "      <td>8216</td>\n",
       "      <td>0.119036</td>\n",
       "    </tr>\n",
       "    <tr>\n",
       "      <th>4</th>\n",
       "      <td>4</td>\n",
       "      <td>1952</td>\n",
       "      <td>14349</td>\n",
       "      <td>0.136037</td>\n",
       "    </tr>\n",
       "  </tbody>\n",
       "</table>\n",
       "</div>"
      ],
      "text/plain": [
       "   用户户口类型    逾期     总数       性别比\n",
       "0       0    75    369  0.203252\n",
       "1       1  2033  17105  0.118854\n",
       "2       2  2145  15557  0.137880\n",
       "3       3   978   8216  0.119036\n",
       "4       4  1952  14349  0.136037"
      ]
     },
     "execution_count": 21,
     "metadata": {},
     "output_type": "execute_result"
    }
   ],
   "source": [
    "hukou_type = train_user_info_overdue.groupby('用户户口类型', as_index=False)[\n",
    "    '是否逾期'].agg({'逾期': 'sum', '总数': 'count'})\n",
    "hukou_type[\"性别比\"] = hukou_type[\"逾期\"]/hukou_type[\"总数\"]\n",
    "hukou_type"
   ]
  },
  {
   "cell_type": "code",
   "execution_count": 22,
   "metadata": {},
   "outputs": [
    {
     "data": {
      "text/html": [
       "<div>\n",
       "<style scoped>\n",
       "    .dataframe tbody tr th:only-of-type {\n",
       "        vertical-align: middle;\n",
       "    }\n",
       "\n",
       "    .dataframe tbody tr th {\n",
       "        vertical-align: top;\n",
       "    }\n",
       "\n",
       "    .dataframe thead th {\n",
       "        text-align: right;\n",
       "    }\n",
       "</style>\n",
       "<table border=\"1\" class=\"dataframe\">\n",
       "  <thead>\n",
       "    <tr style=\"text-align: right;\">\n",
       "      <th></th>\n",
       "      <th>用户婚姻状态</th>\n",
       "      <th>逾期</th>\n",
       "      <th>总数</th>\n",
       "      <th>性别比</th>\n",
       "    </tr>\n",
       "  </thead>\n",
       "  <tbody>\n",
       "    <tr>\n",
       "      <th>0</th>\n",
       "      <td>0</td>\n",
       "      <td>75</td>\n",
       "      <td>370</td>\n",
       "      <td>0.202703</td>\n",
       "    </tr>\n",
       "    <tr>\n",
       "      <th>1</th>\n",
       "      <td>1</td>\n",
       "      <td>3169</td>\n",
       "      <td>25098</td>\n",
       "      <td>0.126265</td>\n",
       "    </tr>\n",
       "    <tr>\n",
       "      <th>2</th>\n",
       "      <td>2</td>\n",
       "      <td>805</td>\n",
       "      <td>6038</td>\n",
       "      <td>0.133322</td>\n",
       "    </tr>\n",
       "    <tr>\n",
       "      <th>3</th>\n",
       "      <td>3</td>\n",
       "      <td>2909</td>\n",
       "      <td>22554</td>\n",
       "      <td>0.128979</td>\n",
       "    </tr>\n",
       "    <tr>\n",
       "      <th>4</th>\n",
       "      <td>4</td>\n",
       "      <td>210</td>\n",
       "      <td>1471</td>\n",
       "      <td>0.142760</td>\n",
       "    </tr>\n",
       "    <tr>\n",
       "      <th>5</th>\n",
       "      <td>5</td>\n",
       "      <td>15</td>\n",
       "      <td>65</td>\n",
       "      <td>0.230769</td>\n",
       "    </tr>\n",
       "  </tbody>\n",
       "</table>\n",
       "</div>"
      ],
      "text/plain": [
       "   用户婚姻状态    逾期     总数       性别比\n",
       "0       0    75    370  0.202703\n",
       "1       1  3169  25098  0.126265\n",
       "2       2   805   6038  0.133322\n",
       "3       3  2909  22554  0.128979\n",
       "4       4   210   1471  0.142760\n",
       "5       5    15     65  0.230769"
      ]
     },
     "execution_count": 22,
     "metadata": {},
     "output_type": "execute_result"
    }
   ],
   "source": [
    "marital_status = train_user_info_overdue.groupby('用户婚姻状态', as_index=False)[\n",
    "    '是否逾期'].agg({'逾期': 'sum', '总数': 'count'})\n",
    "marital_status[\"性别比\"] = marital_status[\"逾期\"]/marital_status[\"总数\"]\n",
    "marital_status"
   ]
  },
  {
   "cell_type": "code",
   "execution_count": 23,
   "metadata": {},
   "outputs": [
    {
     "data": {
      "text/html": [
       "<div>\n",
       "<style scoped>\n",
       "    .dataframe tbody tr th:only-of-type {\n",
       "        vertical-align: middle;\n",
       "    }\n",
       "\n",
       "    .dataframe tbody tr th {\n",
       "        vertical-align: top;\n",
       "    }\n",
       "\n",
       "    .dataframe thead th {\n",
       "        text-align: right;\n",
       "    }\n",
       "</style>\n",
       "<table border=\"1\" class=\"dataframe\">\n",
       "  <thead>\n",
       "    <tr style=\"text-align: right;\">\n",
       "      <th></th>\n",
       "      <th>用户教育程度</th>\n",
       "      <th>逾期</th>\n",
       "      <th>总数</th>\n",
       "      <th>性别比</th>\n",
       "    </tr>\n",
       "  </thead>\n",
       "  <tbody>\n",
       "    <tr>\n",
       "      <th>0</th>\n",
       "      <td>0</td>\n",
       "      <td>75</td>\n",
       "      <td>369</td>\n",
       "      <td>0.203252</td>\n",
       "    </tr>\n",
       "    <tr>\n",
       "      <th>1</th>\n",
       "      <td>1</td>\n",
       "      <td>18</td>\n",
       "      <td>226</td>\n",
       "      <td>0.079646</td>\n",
       "    </tr>\n",
       "    <tr>\n",
       "      <th>2</th>\n",
       "      <td>2</td>\n",
       "      <td>813</td>\n",
       "      <td>8483</td>\n",
       "      <td>0.095839</td>\n",
       "    </tr>\n",
       "    <tr>\n",
       "      <th>3</th>\n",
       "      <td>3</td>\n",
       "      <td>2977</td>\n",
       "      <td>23530</td>\n",
       "      <td>0.126519</td>\n",
       "    </tr>\n",
       "    <tr>\n",
       "      <th>4</th>\n",
       "      <td>4</td>\n",
       "      <td>3300</td>\n",
       "      <td>22988</td>\n",
       "      <td>0.143553</td>\n",
       "    </tr>\n",
       "  </tbody>\n",
       "</table>\n",
       "</div>"
      ],
      "text/plain": [
       "   用户教育程度    逾期     总数       性别比\n",
       "0       0    75    369  0.203252\n",
       "1       1    18    226  0.079646\n",
       "2       2   813   8483  0.095839\n",
       "3       3  2977  23530  0.126519\n",
       "4       4  3300  22988  0.143553"
      ]
     },
     "execution_count": 23,
     "metadata": {},
     "output_type": "execute_result"
    }
   ],
   "source": [
    "education_level = train_user_info_overdue.groupby('用户教育程度', as_index=False)[\n",
    "    '是否逾期'].agg({'逾期': 'sum', '总数': 'count'})\n",
    "education_level[\"性别比\"] = education_level[\"逾期\"]/education_level[\"总数\"]\n",
    "education_level"
   ]
  },
  {
   "cell_type": "code",
   "execution_count": 24,
   "metadata": {},
   "outputs": [
    {
     "data": {
      "image/png": "[encoded data removed]",
      "text/plain": [
       "<Figure size 1440x1440 with 5 Axes>"
      ]
     },
     "metadata": {},
     "output_type": "display_data"
    }
   ],
   "source": [
    "fig = plt.figure(figsize=(20, 20))\n",
    "\n",
    "\n",
    "ax1 = fig.add_subplot(3, 2, 1)\n",
    "ax1 = sns.barplot(x=job_distribution.index,\n",
    "                  y=job_distribution['逾期']/job_distribution['总数'], alpha=0.8, color=p[0], label='train')\n",
    "ax1.legend()\n",
    "ax1.set_title(u'职业分布情况')\n",
    "ax1.set_xlabel(u'用户职业')\n",
    "ax1.set_ylabel(u'逾期用户比例')\n",
    "\n",
    "ax2 = fig.add_subplot(3, 2, 2)\n",
    "ax2 = sns.barplot(x=gender_distribution.index,\n",
    "                  y=gender_distribution['逾期']/gender_distribution[\"总数\"], alpha=0.8, color=p[1], label='train')\n",
    "ax2.legend()\n",
    "ax2.set_title(u'性别分布情况')\n",
    "ax2.set_xlabel(u'用户性别')\n",
    "ax2.set_ylabel(u'逾期用户比例')\n",
    "\n",
    "ax3 = fig.add_subplot(3, 2, 3)\n",
    "ax3 = sns.barplot(x=education_level.index,\n",
    "                  y=education_level['逾期']/education_level['总数'], alpha=0.8, color=p[2], label='train')\n",
    "ax3.legend()\n",
    "ax3.set_title(u'教育程度分布')\n",
    "ax3.set_xlabel(u'教育程度')\n",
    "ax3.set_ylabel(u'逾期用户比例')\n",
    "\n",
    "ax4 = fig.add_subplot(3, 2, 4)\n",
    "ax4 = sns.barplot(x=marital_status.index,\n",
    "                  y=marital_status[\"逾期\"]/marital_status['总数'], alpha=0.8, color=p[3], label='train')\n",
    "ax4.legend()\n",
    "ax4.set_title(u'用户婚姻状态')\n",
    "ax4.set_xlabel(u'用户婚姻状态')\n",
    "ax4.set_ylabel(u'逾期用户比例')\n",
    "\n",
    "ax5 = fig.add_subplot(3, 2, 5)\n",
    "ax5 = sns.barplot(x=hukou_type.index,\n",
    "                  y=hukou_type['逾期']/hukou_type['总数'], alpha=0.8, color=p[4], label='train')\n",
    "ax5.legend()\n",
    "ax5.set_title(u'用户户口类型')\n",
    "ax5.set_xlabel(u'用户户口类型')\n",
    "ax5.set_ylabel(u'逾期用户比例')\n",
    "\n",
    "plt.show()"
   ]
  },
  {
   "cell_type": "code",
   "execution_count": 25,
   "metadata": {},
   "outputs": [
    {
     "data": {
      "image/png": "[encoded data removed]",
      "text/plain": [
       "<Figure size 432x288 with 2 Axes>"
      ]
     },
     "metadata": {},
     "output_type": "display_data"
    }
   ],
   "source": [
    "# 热力图\n",
    "ax6 = sns.heatmap(train_user_info_overdue.corr(),annot=True)"
   ]
  },
  {
   "cell_type": "markdown",
   "metadata": {},
   "source": [
    "# 银行流水相关"
   ]
  },
  {
   "cell_type": "code",
   "execution_count": 26,
   "metadata": {},
   "outputs": [
    {
     "name": "stdout",
     "output_type": "stream",
     "text": [
      "<class 'pandas.core.frame.DataFrame'>\n",
      "RangeIndex: 6070197 entries, 0 to 6070196\n",
      "Data columns (total 5 columns):\n",
      " #   Column  Dtype  \n",
      "---  ------  -----  \n",
      " 0   用户id    int64  \n",
      " 1   流水时间    int64  \n",
      " 2   交易类型    int64  \n",
      " 3   交易金额    float64\n",
      " 4   工资收入标记  int64  \n",
      "dtypes: float64(1), int64(4)\n",
      "memory usage: 231.6 MB\n"
     ]
    }
   ],
   "source": [
    "train_bank_detail.info()"
   ]
  },
  {
   "cell_type": "code",
   "execution_count": 27,
   "metadata": {},
   "outputs": [
    {
     "data": {
      "text/html": [
       "<div>\n",
       "<style scoped>\n",
       "    .dataframe tbody tr th:only-of-type {\n",
       "        vertical-align: middle;\n",
       "    }\n",
       "\n",
       "    .dataframe tbody tr th {\n",
       "        vertical-align: top;\n",
       "    }\n",
       "\n",
       "    .dataframe thead th {\n",
       "        text-align: right;\n",
       "    }\n",
       "</style>\n",
       "<table border=\"1\" class=\"dataframe\">\n",
       "  <thead>\n",
       "    <tr style=\"text-align: right;\">\n",
       "      <th></th>\n",
       "      <th>用户id</th>\n",
       "      <th>流水时间</th>\n",
       "      <th>交易类型</th>\n",
       "      <th>交易金额</th>\n",
       "      <th>工资收入标记</th>\n",
       "    </tr>\n",
       "  </thead>\n",
       "  <tbody>\n",
       "    <tr>\n",
       "      <th>0</th>\n",
       "      <td>6965</td>\n",
       "      <td>68221</td>\n",
       "      <td>0</td>\n",
       "      <td>13.756664</td>\n",
       "      <td>0</td>\n",
       "    </tr>\n",
       "    <tr>\n",
       "      <th>1</th>\n",
       "      <td>6965</td>\n",
       "      <td>68221</td>\n",
       "      <td>1</td>\n",
       "      <td>13.756664</td>\n",
       "      <td>0</td>\n",
       "    </tr>\n",
       "    <tr>\n",
       "      <th>2</th>\n",
       "      <td>6965</td>\n",
       "      <td>68258</td>\n",
       "      <td>0</td>\n",
       "      <td>14.449810</td>\n",
       "      <td>0</td>\n",
       "    </tr>\n",
       "    <tr>\n",
       "      <th>3</th>\n",
       "      <td>6965</td>\n",
       "      <td>68258</td>\n",
       "      <td>1</td>\n",
       "      <td>10.527763</td>\n",
       "      <td>0</td>\n",
       "    </tr>\n",
       "    <tr>\n",
       "      <th>4</th>\n",
       "      <td>6965</td>\n",
       "      <td>68258</td>\n",
       "      <td>1</td>\n",
       "      <td>13.651303</td>\n",
       "      <td>0</td>\n",
       "    </tr>\n",
       "  </tbody>\n",
       "</table>\n",
       "</div>"
      ],
      "text/plain": [
       "   用户id   流水时间  交易类型       交易金额  工资收入标记\n",
       "0  6965  68221     0  13.756664       0\n",
       "1  6965  68221     1  13.756664       0\n",
       "2  6965  68258     0  14.449810       0\n",
       "3  6965  68258     1  10.527763       0\n",
       "4  6965  68258     1  13.651303       0"
      ]
     },
     "execution_count": 27,
     "metadata": {},
     "output_type": "execute_result"
    }
   ],
   "source": [
    "train_bank_detail.head()"
   ]
  },
  {
   "cell_type": "code",
   "execution_count": 28,
   "metadata": {},
   "outputs": [
    {
     "data": {
      "text/plain": [
       "<AxesSubplot:>"
      ]
     },
     "execution_count": 28,
     "metadata": {},
     "output_type": "execute_result"
    },
    {
     "data": {
      "image/png": "[encoded data removed]",
      "text/plain": [
       "<Figure size 432x288 with 2 Axes>"
      ]
     },
     "metadata": {},
     "output_type": "display_data"
    }
   ],
   "source": [
    "sns.heatmap(train_bank_detail.corr(),square=True,annot=True)"
   ]
  },
  {
   "cell_type": "code",
   "execution_count": 29,
   "metadata": {},
   "outputs": [
    {
     "data": {
      "text/html": [
       "<div>\n",
       "<style scoped>\n",
       "    .dataframe tbody tr th:only-of-type {\n",
       "        vertical-align: middle;\n",
       "    }\n",
       "\n",
       "    .dataframe tbody tr th {\n",
       "        vertical-align: top;\n",
       "    }\n",
       "\n",
       "    .dataframe thead th {\n",
       "        text-align: right;\n",
       "    }\n",
       "</style>\n",
       "<table border=\"1\" class=\"dataframe\">\n",
       "  <thead>\n",
       "    <tr style=\"text-align: right;\">\n",
       "      <th></th>\n",
       "      <th>用户id</th>\n",
       "      <th>流水时间</th>\n",
       "      <th>交易类型</th>\n",
       "      <th>交易金额</th>\n",
       "      <th>工资收入标记</th>\n",
       "    </tr>\n",
       "  </thead>\n",
       "  <tbody>\n",
       "    <tr>\n",
       "      <th>1632</th>\n",
       "      <td>29165</td>\n",
       "      <td>68278</td>\n",
       "      <td>0</td>\n",
       "      <td>14.847955</td>\n",
       "      <td>1</td>\n",
       "    </tr>\n",
       "    <tr>\n",
       "      <th>1684</th>\n",
       "      <td>29165</td>\n",
       "      <td>68309</td>\n",
       "      <td>0</td>\n",
       "      <td>14.717024</td>\n",
       "      <td>1</td>\n",
       "    </tr>\n",
       "    <tr>\n",
       "      <th>1740</th>\n",
       "      <td>29165</td>\n",
       "      <td>68341</td>\n",
       "      <td>0</td>\n",
       "      <td>14.637385</td>\n",
       "      <td>1</td>\n",
       "    </tr>\n",
       "    <tr>\n",
       "      <th>1785</th>\n",
       "      <td>29165</td>\n",
       "      <td>68370</td>\n",
       "      <td>0</td>\n",
       "      <td>14.911227</td>\n",
       "      <td>1</td>\n",
       "    </tr>\n",
       "    <tr>\n",
       "      <th>1824</th>\n",
       "      <td>29165</td>\n",
       "      <td>68401</td>\n",
       "      <td>0</td>\n",
       "      <td>14.931199</td>\n",
       "      <td>1</td>\n",
       "    </tr>\n",
       "    <tr>\n",
       "      <th>...</th>\n",
       "      <td>...</td>\n",
       "      <td>...</td>\n",
       "      <td>...</td>\n",
       "      <td>...</td>\n",
       "      <td>...</td>\n",
       "    </tr>\n",
       "    <tr>\n",
       "      <th>6069656</th>\n",
       "      <td>15286</td>\n",
       "      <td>68382</td>\n",
       "      <td>0</td>\n",
       "      <td>11.461659</td>\n",
       "      <td>1</td>\n",
       "    </tr>\n",
       "    <tr>\n",
       "      <th>6069661</th>\n",
       "      <td>15286</td>\n",
       "      <td>68593</td>\n",
       "      <td>0</td>\n",
       "      <td>7.255079</td>\n",
       "      <td>1</td>\n",
       "    </tr>\n",
       "    <tr>\n",
       "      <th>6069668</th>\n",
       "      <td>15286</td>\n",
       "      <td>68594</td>\n",
       "      <td>0</td>\n",
       "      <td>12.840374</td>\n",
       "      <td>1</td>\n",
       "    </tr>\n",
       "    <tr>\n",
       "      <th>6069669</th>\n",
       "      <td>15286</td>\n",
       "      <td>68607</td>\n",
       "      <td>0</td>\n",
       "      <td>9.151598</td>\n",
       "      <td>1</td>\n",
       "    </tr>\n",
       "    <tr>\n",
       "      <th>6069670</th>\n",
       "      <td>15286</td>\n",
       "      <td>68609</td>\n",
       "      <td>0</td>\n",
       "      <td>13.938985</td>\n",
       "      <td>1</td>\n",
       "    </tr>\n",
       "  </tbody>\n",
       "</table>\n",
       "<p>36970 rows × 5 columns</p>\n",
       "</div>"
      ],
      "text/plain": [
       "          用户id   流水时间  交易类型       交易金额  工资收入标记\n",
       "1632     29165  68278     0  14.847955       1\n",
       "1684     29165  68309     0  14.717024       1\n",
       "1740     29165  68341     0  14.637385       1\n",
       "1785     29165  68370     0  14.911227       1\n",
       "1824     29165  68401     0  14.931199       1\n",
       "...        ...    ...   ...        ...     ...\n",
       "6069656  15286  68382     0  11.461659       1\n",
       "6069661  15286  68593     0   7.255079       1\n",
       "6069668  15286  68594     0  12.840374       1\n",
       "6069669  15286  68607     0   9.151598       1\n",
       "6069670  15286  68609     0  13.938985       1\n",
       "\n",
       "[36970 rows x 5 columns]"
      ]
     },
     "execution_count": 29,
     "metadata": {},
     "output_type": "execute_result"
    }
   ],
   "source": [
    "# 工资收入，对应交易类型为0,即收入\n",
    "train_bank_detail[train_bank_detail[\"工资收入标记\"] == 1]"
   ]
  },
  {
   "cell_type": "code",
   "execution_count": 30,
   "metadata": {},
   "outputs": [],
   "source": [
    "train_bank_detail.loc[train_bank_detail[\"交易类型\"] == 1, [\"交易类型\"]] = -1"
   ]
  },
  {
   "cell_type": "code",
   "execution_count": 31,
   "metadata": {},
   "outputs": [],
   "source": [
    "train_bank_detail.loc[train_bank_detail[\"交易类型\"] == 0, [\"交易类型\"]] = 1"
   ]
  },
  {
   "cell_type": "code",
   "execution_count": 32,
   "metadata": {},
   "outputs": [],
   "source": [
    "train_bank_detail[\"交易金额\"] = train_bank_detail[\"交易类型\"]*train_bank_detail[\"交易金额\"]"
   ]
  },
  {
   "cell_type": "code",
   "execution_count": 33,
   "metadata": {},
   "outputs": [],
   "source": [
    "train_bank_detail.drop(\"交易类型\", axis=1, inplace=True)"
   ]
  },
  {
   "cell_type": "code",
   "execution_count": 34,
   "metadata": {},
   "outputs": [
    {
     "data": {
      "text/html": [
       "<div>\n",
       "<style scoped>\n",
       "    .dataframe tbody tr th:only-of-type {\n",
       "        vertical-align: middle;\n",
       "    }\n",
       "\n",
       "    .dataframe tbody tr th {\n",
       "        vertical-align: top;\n",
       "    }\n",
       "\n",
       "    .dataframe thead th {\n",
       "        text-align: right;\n",
       "    }\n",
       "</style>\n",
       "<table border=\"1\" class=\"dataframe\">\n",
       "  <thead>\n",
       "    <tr style=\"text-align: right;\">\n",
       "      <th></th>\n",
       "      <th>用户id</th>\n",
       "      <th>流水时间</th>\n",
       "      <th>交易金额</th>\n",
       "      <th>工资收入标记</th>\n",
       "    </tr>\n",
       "  </thead>\n",
       "  <tbody>\n",
       "    <tr>\n",
       "      <th>0</th>\n",
       "      <td>6965</td>\n",
       "      <td>68221</td>\n",
       "      <td>13.756664</td>\n",
       "      <td>0</td>\n",
       "    </tr>\n",
       "    <tr>\n",
       "      <th>1</th>\n",
       "      <td>6965</td>\n",
       "      <td>68221</td>\n",
       "      <td>-13.756664</td>\n",
       "      <td>0</td>\n",
       "    </tr>\n",
       "    <tr>\n",
       "      <th>2</th>\n",
       "      <td>6965</td>\n",
       "      <td>68258</td>\n",
       "      <td>14.449810</td>\n",
       "      <td>0</td>\n",
       "    </tr>\n",
       "    <tr>\n",
       "      <th>3</th>\n",
       "      <td>6965</td>\n",
       "      <td>68258</td>\n",
       "      <td>-10.527763</td>\n",
       "      <td>0</td>\n",
       "    </tr>\n",
       "    <tr>\n",
       "      <th>4</th>\n",
       "      <td>6965</td>\n",
       "      <td>68258</td>\n",
       "      <td>-13.651303</td>\n",
       "      <td>0</td>\n",
       "    </tr>\n",
       "  </tbody>\n",
       "</table>\n",
       "</div>"
      ],
      "text/plain": [
       "   用户id   流水时间       交易金额  工资收入标记\n",
       "0  6965  68221  13.756664       0\n",
       "1  6965  68221 -13.756664       0\n",
       "2  6965  68258  14.449810       0\n",
       "3  6965  68258 -10.527763       0\n",
       "4  6965  68258 -13.651303       0"
      ]
     },
     "execution_count": 34,
     "metadata": {},
     "output_type": "execute_result"
    }
   ],
   "source": [
    "train_bank_detail.head()"
   ]
  },
  {
   "cell_type": "code",
   "execution_count": 35,
   "metadata": {},
   "outputs": [],
   "source": [
    "train_bank_detail_table = train_bank_detail.loc[:, [\n",
    "    \"用户id\", \"交易金额\"]].groupby(\"用户id\").sum()"
   ]
  },
  {
   "cell_type": "code",
   "execution_count": 36,
   "metadata": {},
   "outputs": [],
   "source": [
    "train_bank_detail_table = pd.merge(\n",
    "    train_bank_detail_table, train_overdue, how=\"inner\", on=\"用户id\")"
   ]
  },
  {
   "cell_type": "code",
   "execution_count": 37,
   "metadata": {},
   "outputs": [
    {
     "data": {
      "text/html": [
       "<div>\n",
       "<style scoped>\n",
       "    .dataframe tbody tr th:only-of-type {\n",
       "        vertical-align: middle;\n",
       "    }\n",
       "\n",
       "    .dataframe tbody tr th {\n",
       "        vertical-align: top;\n",
       "    }\n",
       "\n",
       "    .dataframe thead th {\n",
       "        text-align: right;\n",
       "    }\n",
       "</style>\n",
       "<table border=\"1\" class=\"dataframe\">\n",
       "  <thead>\n",
       "    <tr style=\"text-align: right;\">\n",
       "      <th></th>\n",
       "      <th>用户id</th>\n",
       "      <th>交易金额</th>\n",
       "      <th>是否逾期</th>\n",
       "    </tr>\n",
       "  </thead>\n",
       "  <tbody>\n",
       "    <tr>\n",
       "      <th>0</th>\n",
       "      <td>1</td>\n",
       "      <td>-195.332507</td>\n",
       "      <td>0</td>\n",
       "    </tr>\n",
       "    <tr>\n",
       "      <th>1</th>\n",
       "      <td>3</td>\n",
       "      <td>-2707.084161</td>\n",
       "      <td>0</td>\n",
       "    </tr>\n",
       "    <tr>\n",
       "      <th>2</th>\n",
       "      <td>4</td>\n",
       "      <td>-965.083338</td>\n",
       "      <td>1</td>\n",
       "    </tr>\n",
       "    <tr>\n",
       "      <th>3</th>\n",
       "      <td>9</td>\n",
       "      <td>45.288586</td>\n",
       "      <td>0</td>\n",
       "    </tr>\n",
       "    <tr>\n",
       "      <th>4</th>\n",
       "      <td>10</td>\n",
       "      <td>-456.650397</td>\n",
       "      <td>0</td>\n",
       "    </tr>\n",
       "  </tbody>\n",
       "</table>\n",
       "</div>"
      ],
      "text/plain": [
       "   用户id         交易金额  是否逾期\n",
       "0     1  -195.332507     0\n",
       "1     3 -2707.084161     0\n",
       "2     4  -965.083338     1\n",
       "3     9    45.288586     0\n",
       "4    10  -456.650397     0"
      ]
     },
     "execution_count": 37,
     "metadata": {},
     "output_type": "execute_result"
    }
   ],
   "source": [
    "train_bank_detail_table.head()"
   ]
  },
  {
   "cell_type": "code",
   "execution_count": 38,
   "metadata": {},
   "outputs": [
    {
     "data": {
      "text/plain": [
       "<AxesSubplot:ylabel='交易金额'>"
      ]
     },
     "execution_count": 38,
     "metadata": {},
     "output_type": "execute_result"
    },
    {
     "data": {
      "image/png": "[encoded data removed]",
      "text/plain": [
       "<Figure size 432x288 with 1 Axes>"
      ]
     },
     "metadata": {},
     "output_type": "display_data"
    }
   ],
   "source": [
    "sns.violinplot(y=\"交易金额\", data=train_bank_detail_table)"
   ]
  },
  {
   "cell_type": "code",
   "execution_count": 39,
   "metadata": {
    "scrolled": true
   },
   "outputs": [
    {
     "data": {
      "text/plain": [
       "<AxesSubplot:xlabel='是否逾期', ylabel='交易金额'>"
      ]
     },
     "execution_count": 39,
     "metadata": {},
     "output_type": "execute_result"
    },
    {
     "data": {
      "image/png": "[encoded data removed]",
      "text/plain": [
       "<Figure size 432x288 with 1 Axes>"
      ]
     },
     "metadata": {},
     "output_type": "display_data"
    }
   ],
   "source": [
    "sns.violinplot(x=\"是否逾期\", y=\"交易金额\", data=train_bank_detail_table)"
   ]
  },
  {
   "cell_type": "code",
   "execution_count": 40,
   "metadata": {
    "scrolled": true
   },
   "outputs": [
    {
     "data": {
      "text/plain": [
       "<AxesSubplot:xlabel='交易金额', ylabel='是否逾期'>"
      ]
     },
     "execution_count": 40,
     "metadata": {},
     "output_type": "execute_result"
    },
    {
     "data": {
      "image/png": "[encoded data removed]",
      "text/plain": [
       "<Figure size 1440x360 with 1 Axes>"
      ]
     },
     "metadata": {},
     "output_type": "display_data"
    }
   ],
   "source": [
    "plt.figure(figsize=(20, 5))\n",
    "sns.scatterplot(x=\"交易金额\", y=\"是否逾期\", hue=\"是否逾期\",\n",
    "                data=train_bank_detail_table, alpha=0.5)"
   ]
  },
  {
   "cell_type": "code",
   "execution_count": 41,
   "metadata": {},
   "outputs": [
    {
     "name": "stderr",
     "output_type": "stream",
     "text": [
      "D:\\learn\\anaconda3\\envs\\learn\\lib\\site-packages\\seaborn\\distributions.py:2551: FutureWarning: `distplot` is a deprecated function and will be removed in a future version. Please adapt your code to use either `displot` (a figure-level function with similar flexibility) or `histplot` (an axes-level function for histograms).\n",
      "  warnings.warn(msg, FutureWarning)\n"
     ]
    },
    {
     "data": {
      "text/plain": [
       "<AxesSubplot:xlabel='交易金额', ylabel='Density'>"
      ]
     },
     "execution_count": 41,
     "metadata": {},
     "output_type": "execute_result"
    },
    {
     "data": {
      "image/png": "[encoded data removed]",
      "text/plain": [
       "<Figure size 1440x360 with 1 Axes>"
      ]
     },
     "metadata": {},
     "output_type": "display_data"
    }
   ],
   "source": [
    "plt.figure(figsize=(20,5))\n",
    "sns.distplot(train_bank_detail_table[\"交易金额\"],bins=500)"
   ]
  },
  {
   "cell_type": "code",
   "execution_count": 42,
   "metadata": {},
   "outputs": [
    {
     "data": {
      "text/plain": [
       "<AxesSubplot:>"
      ]
     },
     "execution_count": 42,
     "metadata": {},
     "output_type": "execute_result"
    },
    {
     "data": {
      "image/png": "[encoded data removed]",
      "text/plain": [
       "<Figure size 432x288 with 2 Axes>"
      ]
     },
     "metadata": {},
     "output_type": "display_data"
    }
   ],
   "source": [
    "sns.heatmap(train_bank_detail_table.corr())"
   ]
  },
  {
   "cell_type": "markdown",
   "metadata": {},
   "source": [
    "# 用户浏览记录相关"
   ]
  },
  {
   "cell_type": "code",
   "execution_count": 43,
   "metadata": {},
   "outputs": [
    {
     "data": {
      "text/html": [
       "<div>\n",
       "<style scoped>\n",
       "    .dataframe tbody tr th:only-of-type {\n",
       "        vertical-align: middle;\n",
       "    }\n",
       "\n",
       "    .dataframe tbody tr th {\n",
       "        vertical-align: top;\n",
       "    }\n",
       "\n",
       "    .dataframe thead th {\n",
       "        text-align: right;\n",
       "    }\n",
       "</style>\n",
       "<table border=\"1\" class=\"dataframe\">\n",
       "  <thead>\n",
       "    <tr style=\"text-align: right;\">\n",
       "      <th></th>\n",
       "      <th>用户id</th>\n",
       "      <th>浏览时间</th>\n",
       "      <th>浏览行为数据</th>\n",
       "      <th>浏览子行为编号</th>\n",
       "    </tr>\n",
       "  </thead>\n",
       "  <tbody>\n",
       "    <tr>\n",
       "      <th>0</th>\n",
       "      <td>34801</td>\n",
       "      <td>68588</td>\n",
       "      <td>173</td>\n",
       "      <td>1</td>\n",
       "    </tr>\n",
       "    <tr>\n",
       "      <th>1</th>\n",
       "      <td>34801</td>\n",
       "      <td>68588</td>\n",
       "      <td>164</td>\n",
       "      <td>4</td>\n",
       "    </tr>\n",
       "    <tr>\n",
       "      <th>2</th>\n",
       "      <td>34801</td>\n",
       "      <td>68588</td>\n",
       "      <td>38</td>\n",
       "      <td>7</td>\n",
       "    </tr>\n",
       "    <tr>\n",
       "      <th>3</th>\n",
       "      <td>34801</td>\n",
       "      <td>68588</td>\n",
       "      <td>45</td>\n",
       "      <td>1</td>\n",
       "    </tr>\n",
       "    <tr>\n",
       "      <th>4</th>\n",
       "      <td>34801</td>\n",
       "      <td>68588</td>\n",
       "      <td>110</td>\n",
       "      <td>7</td>\n",
       "    </tr>\n",
       "  </tbody>\n",
       "</table>\n",
       "</div>"
      ],
      "text/plain": [
       "    用户id   浏览时间  浏览行为数据  浏览子行为编号\n",
       "0  34801  68588     173        1\n",
       "1  34801  68588     164        4\n",
       "2  34801  68588      38        7\n",
       "3  34801  68588      45        1\n",
       "4  34801  68588     110        7"
      ]
     },
     "execution_count": 43,
     "metadata": {},
     "output_type": "execute_result"
    }
   ],
   "source": [
    "train_browse_history.head()"
   ]
  },
  {
   "cell_type": "code",
   "execution_count": 44,
   "metadata": {},
   "outputs": [
    {
     "name": "stdout",
     "output_type": "stream",
     "text": [
      "<class 'pandas.core.frame.DataFrame'>\n",
      "RangeIndex: 22919547 entries, 0 to 22919546\n",
      "Data columns (total 4 columns):\n",
      " #   Column   Dtype\n",
      "---  ------   -----\n",
      " 0   用户id     int64\n",
      " 1   浏览时间     int64\n",
      " 2   浏览行为数据   int64\n",
      " 3   浏览子行为编号  int64\n",
      "dtypes: int64(4)\n",
      "memory usage: 699.4 MB\n"
     ]
    }
   ],
   "source": [
    "train_browse_history.info()"
   ]
  },
  {
   "cell_type": "code",
   "execution_count": 45,
   "metadata": {},
   "outputs": [
    {
     "data": {
      "text/html": [
       "<div>\n",
       "<style scoped>\n",
       "    .dataframe tbody tr th:only-of-type {\n",
       "        vertical-align: middle;\n",
       "    }\n",
       "\n",
       "    .dataframe tbody tr th {\n",
       "        vertical-align: top;\n",
       "    }\n",
       "\n",
       "    .dataframe thead th {\n",
       "        text-align: right;\n",
       "    }\n",
       "</style>\n",
       "<table border=\"1\" class=\"dataframe\">\n",
       "  <thead>\n",
       "    <tr style=\"text-align: right;\">\n",
       "      <th></th>\n",
       "      <th>用户id</th>\n",
       "      <th>count</th>\n",
       "    </tr>\n",
       "  </thead>\n",
       "  <tbody>\n",
       "    <tr>\n",
       "      <th>0</th>\n",
       "      <td>2</td>\n",
       "      <td>89097660</td>\n",
       "    </tr>\n",
       "    <tr>\n",
       "      <th>1</th>\n",
       "      <td>3</td>\n",
       "      <td>23342202</td>\n",
       "    </tr>\n",
       "    <tr>\n",
       "      <th>2</th>\n",
       "      <td>4</td>\n",
       "      <td>24845096</td>\n",
       "    </tr>\n",
       "    <tr>\n",
       "      <th>3</th>\n",
       "      <td>6</td>\n",
       "      <td>1024625</td>\n",
       "    </tr>\n",
       "    <tr>\n",
       "      <th>4</th>\n",
       "      <td>7</td>\n",
       "      <td>68877200</td>\n",
       "    </tr>\n",
       "    <tr>\n",
       "      <th>...</th>\n",
       "      <td>...</td>\n",
       "      <td>...</td>\n",
       "    </tr>\n",
       "    <tr>\n",
       "      <th>47325</th>\n",
       "      <td>55592</td>\n",
       "      <td>27184788</td>\n",
       "    </tr>\n",
       "    <tr>\n",
       "      <th>47326</th>\n",
       "      <td>55593</td>\n",
       "      <td>12287296</td>\n",
       "    </tr>\n",
       "    <tr>\n",
       "      <th>47327</th>\n",
       "      <td>55594</td>\n",
       "      <td>65832760</td>\n",
       "    </tr>\n",
       "    <tr>\n",
       "      <th>47328</th>\n",
       "      <td>55595</td>\n",
       "      <td>43195950</td>\n",
       "    </tr>\n",
       "    <tr>\n",
       "      <th>47329</th>\n",
       "      <td>55596</td>\n",
       "      <td>8228280</td>\n",
       "    </tr>\n",
       "  </tbody>\n",
       "</table>\n",
       "<p>47330 rows × 2 columns</p>\n",
       "</div>"
      ],
      "text/plain": [
       "        用户id     count\n",
       "0          2  89097660\n",
       "1          3  23342202\n",
       "2          4  24845096\n",
       "3          6   1024625\n",
       "4          7  68877200\n",
       "...      ...       ...\n",
       "47325  55592  27184788\n",
       "47326  55593  12287296\n",
       "47327  55594  65832760\n",
       "47328  55595  43195950\n",
       "47329  55596   8228280\n",
       "\n",
       "[47330 rows x 2 columns]"
      ]
     },
     "execution_count": 45,
     "metadata": {},
     "output_type": "execute_result"
    }
   ],
   "source": [
    "train_browse_history.loc[:, [\"用户id\", \"浏览时间\"]].groupby(\n",
    "    \"用户id\", as_index=False).sum().rename(columns={\"浏览时间\": \"count\"})\n",
    "# 每个用户浏览历史记录量大得惊人"
   ]
  },
  {
   "cell_type": "code",
   "execution_count": 46,
   "metadata": {},
   "outputs": [],
   "source": [
    "train_browse_history_table =  train_browse_history.loc[:, [\"用户id\", \"浏览时间\"]].groupby(\n",
    "    \"用户id\", as_index=False).sum().rename(columns={\"浏览时间\": \"count\"})"
   ]
  },
  {
   "cell_type": "code",
   "execution_count": 47,
   "metadata": {},
   "outputs": [],
   "source": [
    "train_browse_history_table = train_browse_history_table.merge(train_overdue,how = \"inner\",on = \"用户id\")"
   ]
  },
  {
   "cell_type": "code",
   "execution_count": 48,
   "metadata": {},
   "outputs": [
    {
     "data": {
      "text/html": [
       "<div>\n",
       "<style scoped>\n",
       "    .dataframe tbody tr th:only-of-type {\n",
       "        vertical-align: middle;\n",
       "    }\n",
       "\n",
       "    .dataframe tbody tr th {\n",
       "        vertical-align: top;\n",
       "    }\n",
       "\n",
       "    .dataframe thead th {\n",
       "        text-align: right;\n",
       "    }\n",
       "</style>\n",
       "<table border=\"1\" class=\"dataframe\">\n",
       "  <thead>\n",
       "    <tr style=\"text-align: right;\">\n",
       "      <th></th>\n",
       "      <th>用户id</th>\n",
       "      <th>count</th>\n",
       "      <th>是否逾期</th>\n",
       "    </tr>\n",
       "  </thead>\n",
       "  <tbody>\n",
       "    <tr>\n",
       "      <th>0</th>\n",
       "      <td>2</td>\n",
       "      <td>89097660</td>\n",
       "      <td>0</td>\n",
       "    </tr>\n",
       "    <tr>\n",
       "      <th>1</th>\n",
       "      <td>3</td>\n",
       "      <td>23342202</td>\n",
       "      <td>0</td>\n",
       "    </tr>\n",
       "    <tr>\n",
       "      <th>2</th>\n",
       "      <td>4</td>\n",
       "      <td>24845096</td>\n",
       "      <td>1</td>\n",
       "    </tr>\n",
       "    <tr>\n",
       "      <th>3</th>\n",
       "      <td>6</td>\n",
       "      <td>1024625</td>\n",
       "      <td>1</td>\n",
       "    </tr>\n",
       "    <tr>\n",
       "      <th>4</th>\n",
       "      <td>7</td>\n",
       "      <td>68877200</td>\n",
       "      <td>0</td>\n",
       "    </tr>\n",
       "  </tbody>\n",
       "</table>\n",
       "</div>"
      ],
      "text/plain": [
       "   用户id     count  是否逾期\n",
       "0     2  89097660     0\n",
       "1     3  23342202     0\n",
       "2     4  24845096     1\n",
       "3     6   1024625     1\n",
       "4     7  68877200     0"
      ]
     },
     "execution_count": 48,
     "metadata": {},
     "output_type": "execute_result"
    }
   ],
   "source": [
    "train_browse_history_table.head()"
   ]
  },
  {
   "cell_type": "code",
   "execution_count": 49,
   "metadata": {
    "scrolled": false
   },
   "outputs": [
    {
     "name": "stderr",
     "output_type": "stream",
     "text": [
      "D:\\learn\\anaconda3\\envs\\learn\\lib\\site-packages\\seaborn\\distributions.py:2551: FutureWarning: `distplot` is a deprecated function and will be removed in a future version. Please adapt your code to use either `displot` (a figure-level function with similar flexibility) or `histplot` (an axes-level function for histograms).\n",
      "  warnings.warn(msg, FutureWarning)\n",
      "D:\\learn\\anaconda3\\envs\\learn\\lib\\site-packages\\seaborn\\distributions.py:2551: FutureWarning: `distplot` is a deprecated function and will be removed in a future version. Please adapt your code to use either `displot` (a figure-level function with similar flexibility) or `histplot` (an axes-level function for histograms).\n",
      "  warnings.warn(msg, FutureWarning)\n"
     ]
    },
    {
     "data": {
      "text/plain": [
       "Text(0.5, 1.0, '逾期用户的浏览记录数量分布')"
      ]
     },
     "execution_count": 49,
     "metadata": {},
     "output_type": "execute_result"
    },
    {
     "data": {
      "image/png": "[encoded data removed]",
      "text/plain": [
       "<Figure size 1440x1440 with 2 Axes>"
      ]
     },
     "metadata": {},
     "output_type": "display_data"
    }
   ],
   "source": [
    "fig = plt.figure(figsize=(20,20))\n",
    "ax1 = fig.add_subplot(2, 1, 1)\n",
    "ax1 = sns.distplot(train_browse_history_table[\"count\"][train_browse_history_table[\"是否逾期\"]==0],bins=500)\n",
    "ax1.set_title(\"未逾期用户的浏览记录数量分布\")\n",
    "\n",
    "ax1 = fig.add_subplot(2, 1, 2)\n",
    "ax2 = sns.distplot(train_browse_history_table[\"count\"][train_browse_history_table[\"是否逾期\"]==1],bins=500)\n",
    "ax1.set_title(\"逾期用户的浏览记录数量分布\")"
   ]
  },
  {
   "cell_type": "markdown",
   "metadata": {},
   "source": [
    "# 信用卡账单"
   ]
  },
  {
   "cell_type": "code",
   "execution_count": 50,
   "metadata": {},
   "outputs": [
    {
     "data": {
      "text/html": [
       "<div>\n",
       "<style scoped>\n",
       "    .dataframe tbody tr th:only-of-type {\n",
       "        vertical-align: middle;\n",
       "    }\n",
       "\n",
       "    .dataframe tbody tr th {\n",
       "        vertical-align: top;\n",
       "    }\n",
       "\n",
       "    .dataframe thead th {\n",
       "        text-align: right;\n",
       "    }\n",
       "</style>\n",
       "<table border=\"1\" class=\"dataframe\">\n",
       "  <thead>\n",
       "    <tr style=\"text-align: right;\">\n",
       "      <th></th>\n",
       "      <th>用户id</th>\n",
       "      <th>时间</th>\n",
       "      <th>银行标识</th>\n",
       "      <th>上期账单金额</th>\n",
       "      <th>上期还款金额</th>\n",
       "      <th>信用卡额度</th>\n",
       "      <th>本期账单余额</th>\n",
       "      <th>本期账单最低还款额</th>\n",
       "      <th>消费笔数</th>\n",
       "      <th>本期账单金额</th>\n",
       "      <th>调整金额</th>\n",
       "      <th>循环利息</th>\n",
       "      <th>可用余额</th>\n",
       "      <th>预借现金额度</th>\n",
       "      <th>还款状态</th>\n",
       "    </tr>\n",
       "  </thead>\n",
       "  <tbody>\n",
       "    <tr>\n",
       "      <th>0</th>\n",
       "      <td>3150</td>\n",
       "      <td>68365</td>\n",
       "      <td>6</td>\n",
       "      <td>18.626118</td>\n",
       "      <td>18.661937</td>\n",
       "      <td>20.664418</td>\n",
       "      <td>18.905766</td>\n",
       "      <td>17.847133</td>\n",
       "      <td>1</td>\n",
       "      <td>0.0</td>\n",
       "      <td>0.0</td>\n",
       "      <td>0.0</td>\n",
       "      <td>0.0</td>\n",
       "      <td>19.971271</td>\n",
       "      <td>0</td>\n",
       "    </tr>\n",
       "    <tr>\n",
       "      <th>1</th>\n",
       "      <td>3150</td>\n",
       "      <td>68365</td>\n",
       "      <td>6</td>\n",
       "      <td>18.905766</td>\n",
       "      <td>18.909954</td>\n",
       "      <td>20.664418</td>\n",
       "      <td>19.113305</td>\n",
       "      <td>17.911506</td>\n",
       "      <td>1</td>\n",
       "      <td>0.0</td>\n",
       "      <td>0.0</td>\n",
       "      <td>0.0</td>\n",
       "      <td>0.0</td>\n",
       "      <td>19.971271</td>\n",
       "      <td>0</td>\n",
       "    </tr>\n",
       "    <tr>\n",
       "      <th>2</th>\n",
       "      <td>3150</td>\n",
       "      <td>68365</td>\n",
       "      <td>6</td>\n",
       "      <td>19.113305</td>\n",
       "      <td>19.150290</td>\n",
       "      <td>20.664418</td>\n",
       "      <td>19.300194</td>\n",
       "      <td>17.977610</td>\n",
       "      <td>1</td>\n",
       "      <td>0.0</td>\n",
       "      <td>0.0</td>\n",
       "      <td>0.0</td>\n",
       "      <td>0.0</td>\n",
       "      <td>19.971271</td>\n",
       "      <td>0</td>\n",
       "    </tr>\n",
       "    <tr>\n",
       "      <th>3</th>\n",
       "      <td>3150</td>\n",
       "      <td>68365</td>\n",
       "      <td>6</td>\n",
       "      <td>19.300194</td>\n",
       "      <td>19.300280</td>\n",
       "      <td>21.000890</td>\n",
       "      <td>20.303240</td>\n",
       "      <td>18.477177</td>\n",
       "      <td>1</td>\n",
       "      <td>0.0</td>\n",
       "      <td>0.0</td>\n",
       "      <td>0.0</td>\n",
       "      <td>0.0</td>\n",
       "      <td>20.307743</td>\n",
       "      <td>0</td>\n",
       "    </tr>\n",
       "    <tr>\n",
       "      <th>4</th>\n",
       "      <td>3150</td>\n",
       "      <td>68365</td>\n",
       "      <td>6</td>\n",
       "      <td>20.303240</td>\n",
       "      <td>20.307744</td>\n",
       "      <td>21.000890</td>\n",
       "      <td>20.357134</td>\n",
       "      <td>18.510985</td>\n",
       "      <td>1</td>\n",
       "      <td>0.0</td>\n",
       "      <td>0.0</td>\n",
       "      <td>0.0</td>\n",
       "      <td>0.0</td>\n",
       "      <td>20.307743</td>\n",
       "      <td>0</td>\n",
       "    </tr>\n",
       "  </tbody>\n",
       "</table>\n",
       "</div>"
      ],
      "text/plain": [
       "   用户id     时间  银行标识     上期账单金额     上期还款金额      信用卡额度     本期账单余额  本期账单最低还款额  \\\n",
       "0  3150  68365     6  18.626118  18.661937  20.664418  18.905766  17.847133   \n",
       "1  3150  68365     6  18.905766  18.909954  20.664418  19.113305  17.911506   \n",
       "2  3150  68365     6  19.113305  19.150290  20.664418  19.300194  17.977610   \n",
       "3  3150  68365     6  19.300194  19.300280  21.000890  20.303240  18.477177   \n",
       "4  3150  68365     6  20.303240  20.307744  21.000890  20.357134  18.510985   \n",
       "\n",
       "   消费笔数  本期账单金额  调整金额  循环利息  可用余额     预借现金额度  还款状态  \n",
       "0     1     0.0   0.0   0.0   0.0  19.971271     0  \n",
       "1     1     0.0   0.0   0.0   0.0  19.971271     0  \n",
       "2     1     0.0   0.0   0.0   0.0  19.971271     0  \n",
       "3     1     0.0   0.0   0.0   0.0  20.307743     0  \n",
       "4     1     0.0   0.0   0.0   0.0  20.307743     0  "
      ]
     },
     "execution_count": 50,
     "metadata": {},
     "output_type": "execute_result"
    }
   ],
   "source": [
    "train_bill_detail.head()"
   ]
  },
  {
   "cell_type": "code",
   "execution_count": 51,
   "metadata": {},
   "outputs": [
    {
     "name": "stdout",
     "output_type": "stream",
     "text": [
      "<class 'pandas.core.frame.DataFrame'>\n",
      "RangeIndex: 2338118 entries, 0 to 2338117\n",
      "Data columns (total 15 columns):\n",
      " #   Column     Dtype  \n",
      "---  ------     -----  \n",
      " 0   用户id       int64  \n",
      " 1   时间         int64  \n",
      " 2   银行标识       int64  \n",
      " 3   上期账单金额     float64\n",
      " 4   上期还款金额     float64\n",
      " 5   信用卡额度      float64\n",
      " 6   本期账单余额     float64\n",
      " 7   本期账单最低还款额  float64\n",
      " 8   消费笔数       int64  \n",
      " 9   本期账单金额     float64\n",
      " 10  调整金额       float64\n",
      " 11  循环利息       float64\n",
      " 12  可用余额       float64\n",
      " 13  预借现金额度     float64\n",
      " 14  还款状态       int64  \n",
      "dtypes: float64(10), int64(5)\n",
      "memory usage: 267.6 MB\n"
     ]
    }
   ],
   "source": [
    "train_bill_detail.info()"
   ]
  },
  {
   "cell_type": "code",
   "execution_count": 52,
   "metadata": {},
   "outputs": [],
   "source": [
    "train_bill_detail_table = train_bill_detail.merge(train_overdue,on = \"用户id\")"
   ]
  },
  {
   "cell_type": "code",
   "execution_count": 53,
   "metadata": {},
   "outputs": [
    {
     "data": {
      "text/plain": [
       "<AxesSubplot:>"
      ]
     },
     "execution_count": 53,
     "metadata": {},
     "output_type": "execute_result"
    },
    {
     "data": {
      "image/png": "[encoded data removed]",
      "text/plain": [
       "<Figure size 1080x720 with 2 Axes>"
      ]
     },
     "metadata": {},
     "output_type": "display_data"
    }
   ],
   "source": [
    "plt.figure(figsize=(15,10))\n",
    "sns.heatmap(train_bill_detail_table.corr(),annot=True)"
   ]
  },
  {
   "cell_type": "code",
   "execution_count": null,
   "metadata": {},
   "outputs": [],
   "source": []
  }
 ],
 "metadata": {
  "kernelspec": {
   "display_name": "Python 3.8.5",
   "language": "python",
   "name": "python3"
  },
  "language_info": {
   "codemirror_mode": {
    "name": "ipython",
    "version": 3
   },
   "file_extension": ".py",
   "mimetype": "text/x-python",
   "name": "python",
   "nbconvert_exporter": "python",
   "pygments_lexer": "ipython3",
   "version": "3.8.5"
  },
  "toc": {
   "base_numbering": 1,
   "nav_menu": {},
   "number_sections": true,
   "sideBar": true,
   "skip_h1_title": false,
   "title_cell": "Table of Contents",
   "title_sidebar": "Contents",
   "toc_cell": false,
   "toc_position": {
    "height": "calc(100% - 180px)",
    "left": "10px",
    "top": "150px",
    "width": "309.933px"
   },
   "toc_section_display": true,
   "toc_window_display": true
  }
 },
 "nbformat": 4,
 "nbformat_minor": 4
}
