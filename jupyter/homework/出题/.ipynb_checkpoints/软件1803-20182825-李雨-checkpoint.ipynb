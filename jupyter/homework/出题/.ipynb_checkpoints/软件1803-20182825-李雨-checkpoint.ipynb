{
 "cells": [
  {
   "cell_type": "code",
   "execution_count": 2,
   "metadata": {
    "scrolled": false
   },
   "outputs": [],
   "source": [
    "import matplotlib.pyplot as plt\n",
    "import numpy as np\n",
    "import pandas as pd\n",
    "from mpl_toolkits.basemap import Basemap\n",
    "\n",
    "%matplotlib inline\n",
    "\n",
    "\n",
    "# 用来展示多个数据\n",
    "class display(object):\n",
    "    \"\"\"Display HTML representation of multiple objects\"\"\"\n",
    "    template = \"\"\"<div style=\"float: left; padding: 10px;\">\n",
    "    <p style='font-family:\"Courier New\", Courier, monospace'>{0}</p>{1}\n",
    "    </div>\"\"\"\n",
    "\n",
    "    def __init__(self, *args):\n",
    "        self.args = args\n",
    "\n",
    "    def _repr_html_(self):\n",
    "        return '\\n'.join(self.template.format(a, eval(a)._repr_html_())\n",
    "                         for a in self.args)\n",
    "\n",
    "    def __repr__(self):\n",
    "        return '\\n\\n'.join(a + '\\n' + repr(eval(a))\n",
    "                           for a in self.args)"
   ]
  },
  {
   "cell_type": "markdown",
   "metadata": {},
   "source": [
    "# numpy"
   ]
  },
  {
   "cell_type": "markdown",
   "metadata": {},
   "source": [
    "## NumPy标准数据类型"
   ]
  },
  {
   "cell_type": "code",
   "execution_count": null,
   "metadata": {
    "scrolled": false
   },
   "outputs": [],
   "source": [
    "# 题目：观察下列数据，请创建一个数组包含一下所有数据，并且要保证花费内存最小，同时输出对象占用的字节数\n",
    "# 数据： 141,2,3,46,4,5,31,10\n",
    "# 知识点： numpy数组的创建, numpy的基本数据类型"
   ]
  },
  {
   "cell_type": "code",
   "execution_count": 6,
   "metadata": {
    "scrolled": false
   },
   "outputs": [
    {
     "data": {
      "text/plain": [
       "8"
      ]
     },
     "execution_count": 6,
     "metadata": {},
     "output_type": "execute_result"
    }
   ],
   "source": [
    "solve1 = np.array([141, 2, 3, 46, 4, 5, 312, 10], dtype='uint8')\n",
    "solve1.nbytes"
   ]
  },
  {
   "cell_type": "markdown",
   "metadata": {},
   "source": [
    "## NumPy数组基础"
   ]
  },
  {
   "cell_type": "code",
   "execution_count": null,
   "metadata": {
    "scrolled": false
   },
   "outputs": [],
   "source": [
    "# 题目：请使用切片方式，不使用临时变量，将下面二维数组进行转置\n",
    "# 数据：\n",
    "# np.random.seed(42)\n",
    "# solve2 = np.random.randint(0,101,(5,5),dtype='int8')\n",
    "# 知识点：  切片的使用    切片后不是拷贝的理解   异或的使用"
   ]
  },
  {
   "cell_type": "code",
   "execution_count": 79,
   "metadata": {
    "scrolled": false
   },
   "outputs": [
    {
     "name": "stdout",
     "output_type": "stream",
     "text": [
      "[[92 97 95 51 61]\n",
      " [75 92  3 98 14]\n",
      " [21 46 99 59 71]\n",
      " [84 25 71 60 46]\n",
      " [65 25 20 44 75]]\n",
      "\n",
      "[[92 75 21 84 65]\n",
      " [97 92 46 25 25]\n",
      " [95  3 99 71 20]\n",
      " [51 98 59 60 44]\n",
      " [61 14 71 46 75]]\n"
     ]
    }
   ],
   "source": [
    "np.random.seed(42)\n",
    "solve2 = np.random.randint(0, 101, (5, 5), dtype='int8')\n",
    "print(solve2)\n",
    "print()\n",
    "for i in range(solve2.shape[0]-1):\n",
    "    # 注意，这里要为i+1，而不是1，因为行和列公用[n,n]上的值\n",
    "    solve2[i, i+1:solve2.shape[1]] = solve2[i, i +\n",
    "                                            1:solve2.shape[1]] ^ solve2[i+1:solve2.shape[0], i]\n",
    "    solve2[i+1:solve2.shape[0], i] = solve2[i, i +\n",
    "                                            1:solve2.shape[1]] ^ solve2[i+1:solve2.shape[0], i]\n",
    "    solve2[i, i+1:solve2.shape[1]] = solve2[i, i +\n",
    "                                            1:solve2.shape[1]] ^ solve2[i+1:solve2.shape[0], i]\n",
    "print(solve2)"
   ]
  },
  {
   "cell_type": "markdown",
   "metadata": {},
   "source": [
    "## NumPy数组的计算：通用函数"
   ]
  },
  {
   "cell_type": "code",
   "execution_count": null,
   "metadata": {
    "scrolled": false
   },
   "outputs": [],
   "source": [
    "# 题目 使用np通用函数计算 ((A+B)*(-B/2))\n",
    "# 数据:\n",
    "# A = np.ones(3) * 1\n",
    "# B = np.ones(3) * 1\n",
    "# 知识点：基本函数的使用"
   ]
  },
  {
   "cell_type": "code",
   "execution_count": 19,
   "metadata": {
    "scrolled": false
   },
   "outputs": [
    {
     "data": {
      "text/plain": [
       "array([-1., -1., -1.])"
      ]
     },
     "execution_count": 19,
     "metadata": {},
     "output_type": "execute_result"
    }
   ],
   "source": [
    "A = np.ones(3) * 1\n",
    "B = np.ones(3) * 1\n",
    "np.multiply(np.add(A, B), np.divide(-B, 2))"
   ]
  },
  {
   "cell_type": "markdown",
   "metadata": {},
   "source": [
    "## numpy高级的通用函数特性"
   ]
  },
  {
   "cell_type": "code",
   "execution_count": null,
   "metadata": {
    "scrolled": false
   },
   "outputs": [],
   "source": [
    "# 题目：对于一个小数组，用比 np.sum更快的方式对其求和\n",
    "# 数据： solve4 = np.random.randint(5, size=(6,))\n",
    "# 知识点： 聚合函数"
   ]
  },
  {
   "cell_type": "code",
   "execution_count": 14,
   "metadata": {
    "scrolled": false
   },
   "outputs": [
    {
     "data": {
      "text/plain": [
       "17"
      ]
     },
     "execution_count": 14,
     "metadata": {},
     "output_type": "execute_result"
    }
   ],
   "source": [
    "solve4 = np.random.randint(5, size=(6,))\n",
    "np.add.reduce(solve4)"
   ]
  },
  {
   "cell_type": "markdown",
   "metadata": {},
   "source": [
    "## 聚合：最小值、最大值和其他值"
   ]
  },
  {
   "cell_type": "code",
   "execution_count": null,
   "metadata": {
    "scrolled": false
   },
   "outputs": [],
   "source": [
    "# 题目：请返回和最小的列\n",
    "# 数据\n",
    "# np.random.randint(0,100,(5,5))\n",
    "# 知识点:多维聚合 聚合函数的使用"
   ]
  },
  {
   "cell_type": "code",
   "execution_count": 22,
   "metadata": {
    "scrolled": false
   },
   "outputs": [
    {
     "data": {
      "text/plain": [
       "4"
      ]
     },
     "execution_count": 22,
     "metadata": {},
     "output_type": "execute_result"
    }
   ],
   "source": [
    "np.random.seed(42)\n",
    "solve5 = np.random.randint(0, 100, (5, 5))\n",
    "np.argmin(solve5.sum(axis=1))"
   ]
  },
  {
   "cell_type": "markdown",
   "metadata": {},
   "source": [
    "## 数组的计算：广播"
   ]
  },
  {
   "cell_type": "code",
   "execution_count": null,
   "metadata": {
    "scrolled": false
   },
   "outputs": [],
   "source": [
    "# 题目：请用切片取出下方数据中心9个数\n",
    "# 数据\n",
    "# np.random.seed(42)\n",
    "# solve6 = np.random.randint(1,100,size=[5,5])\n",
    "# 知识点：广播，切片"
   ]
  },
  {
   "cell_type": "code",
   "execution_count": 34,
   "metadata": {
    "scrolled": false
   },
   "outputs": [
    {
     "name": "stdout",
     "output_type": "stream",
     "text": [
      "[[52 93 15 72 61]\n",
      " [21 83 87 75 75]\n",
      " [88 24  3 22 53]\n",
      " [ 2 88 30 38  2]\n",
      " [64 60 21 33 76]]\n"
     ]
    },
    {
     "data": {
      "text/plain": [
       "array([[83, 87, 75],\n",
       "       [24,  3, 22],\n",
       "       [88, 30, 38]])"
      ]
     },
     "execution_count": 34,
     "metadata": {},
     "output_type": "execute_result"
    }
   ],
   "source": [
    "np.random.seed(42)\n",
    "solve6 = np.random.randint(1, 100, size=[5, 5])\n",
    "print(solve6)\n",
    "\n",
    "solve6[np.arange(1, 4).reshape(3, 1), np.arange(1, 4).reshape(1, 3)]\n",
    "# 或者：solve6[np.arange(1,4).reshape(1,3),np.arange(1,4).reshape(3,1)]"
   ]
  },
  {
   "cell_type": "markdown",
   "metadata": {},
   "source": [
    "## 比较、掩码和布尔逻辑"
   ]
  },
  {
   "cell_type": "code",
   "execution_count": null,
   "metadata": {
    "scrolled": false
   },
   "outputs": [],
   "source": [
    "# 题目；给定一个数组[2,5,1,5,3,7,1],请把当中的偶数以及3-6之间元素取反\n",
    "# 知识点：numpy的掩码"
   ]
  },
  {
   "cell_type": "code",
   "execution_count": 45,
   "metadata": {
    "scrolled": false
   },
   "outputs": [
    {
     "name": "stdout",
     "output_type": "stream",
     "text": [
      "[-2 -5  1 -5  3  7  1]\n"
     ]
    }
   ],
   "source": [
    "solve7 = np.array([2, 5, 1, 5, 3, 7, 1])\n",
    "solve7[solve7 % 2 == 0 | ((solve7 > 3) & (solve7 < 6))] *= -1\n",
    "print(solve7)"
   ]
  },
  {
   "cell_type": "markdown",
   "metadata": {},
   "source": [
    "## 花哨的索引"
   ]
  },
  {
   "cell_type": "code",
   "execution_count": null,
   "metadata": {
    "scrolled": false
   },
   "outputs": [],
   "source": [
    "# 题目：取出下列数据的删除头尾的第二、倒数第二行的倒序\n",
    "# 知识点：索引取值"
   ]
  },
  {
   "cell_type": "code",
   "execution_count": 76,
   "metadata": {
    "scrolled": false
   },
   "outputs": [
    {
     "name": "stdout",
     "output_type": "stream",
     "text": [
      "[[29 12 14 24 87]\n",
      " [29 33 70 12 92]\n",
      " [36 98 34  6 17]\n",
      " [12 55 47 43 62]\n",
      " [46 80 55 77 64]]\n",
      "\n",
      "[[12 70 33]\n",
      " [43 47 55]]\n"
     ]
    }
   ],
   "source": [
    "np.random.seed(52)\n",
    "solve8 = np.random.randint(1, 100, (5, 5))\n",
    "print(solve8, end=\"\\n\\n\")\n",
    "print(solve8[[1, -2], -2:0:-1])"
   ]
  },
  {
   "cell_type": "markdown",
   "metadata": {},
   "source": [
    "## 数组的排序"
   ]
  },
  {
   "cell_type": "code",
   "execution_count": null,
   "metadata": {
    "scrolled": false
   },
   "outputs": [],
   "source": [
    "# 题目：通过第1列对下列数据进行排序?\n",
    "# np.random.seed(42)\n",
    "# Z = np.random.randint(0,10,(3,3))\n",
    "# 知识点：数组的排序"
   ]
  },
  {
   "cell_type": "code",
   "execution_count": 77,
   "metadata": {
    "scrolled": false
   },
   "outputs": [
    {
     "name": "stdout",
     "output_type": "stream",
     "text": [
      "[[6 3 7]\n",
      " [4 6 9]\n",
      " [2 6 7]]\n",
      "[[6 3 7]\n",
      " [4 6 9]\n",
      " [2 6 7]]\n"
     ]
    }
   ],
   "source": [
    "np.random.seed(42)\n",
    "Z = np.random.randint(0, 10, (3, 3))\n",
    "print(Z)\n",
    "print(Z[Z[:, 1].argsort()])"
   ]
  },
  {
   "cell_type": "markdown",
   "metadata": {},
   "source": [
    "## 结构化数据：NumPy的结构化数组"
   ]
  },
  {
   "cell_type": "code",
   "execution_count": null,
   "metadata": {
    "scrolled": false
   },
   "outputs": [],
   "source": [
    "# 题目:请将下列四个人的数据保存到一个结构化数组中\n",
    "# name = ['Alice', 'Bob', 'Cathy', 'Doug']\n",
    "# age = [25, 45, 37, 19]\n",
    "# weight = [55.0, 85.5, 68.0, 61.5]\n",
    "# 知识点：结构化数据"
   ]
  },
  {
   "cell_type": "code",
   "execution_count": 8,
   "metadata": {
    "scrolled": false
   },
   "outputs": [
    {
     "data": {
      "text/plain": [
       "array([('Alice', 25, 55. ), ('Bob', 45, 85.5), ('Cathy', 37, 68. ),\n",
       "       ('Doug', 19, 61.5)],\n",
       "      dtype=[('name', '<U10'), ('age', '<i4'), ('weight', '<f8')])"
      ]
     },
     "execution_count": 8,
     "metadata": {},
     "output_type": "execute_result"
    }
   ],
   "source": [
    "name = ['Alice', 'Bob', 'Cathy', 'Doug']\n",
    "age = [25, 45, 37, 19]\n",
    "weight = [55.0, 85.5, 68.0, 61.5]\n",
    "\n",
    "data = np.zeros(4, dtype={'names': ('name', 'age', 'weight'),\n",
    "                          'formats': ('U10', 'i4', 'f8')})\n",
    "\n",
    "data['name'] = name\n",
    "data['age'] = age\n",
    "data['weight'] = weight\n",
    "data"
   ]
  },
  {
   "cell_type": "markdown",
   "metadata": {},
   "source": [
    "## 数组的转置和轴对换"
   ]
  },
  {
   "cell_type": "code",
   "execution_count": null,
   "metadata": {
    "scrolled": false
   },
   "outputs": [],
   "source": [
    "# 题目：使用数组转置三种方法对下列数组进行转置\n",
    "# 数据：solve11 = np.arange(25).reshape(5,5)"
   ]
  },
  {
   "cell_type": "code",
   "execution_count": 7,
   "metadata": {
    "scrolled": false
   },
   "outputs": [
    {
     "data": {
      "text/plain": [
       "array([[ 0,  5, 10, 15, 20],\n",
       "       [ 1,  6, 11, 16, 21],\n",
       "       [ 2,  7, 12, 17, 22],\n",
       "       [ 3,  8, 13, 18, 23],\n",
       "       [ 4,  9, 14, 19, 24]])"
      ]
     },
     "execution_count": 7,
     "metadata": {},
     "output_type": "execute_result"
    }
   ],
   "source": [
    "solve11 = np.arange(25).reshape(5, 5)\n",
    "solve11.T\n",
    "solve11.transpose(1, 0)\n",
    "solve11.swapaxes(0, 1)"
   ]
  },
  {
   "cell_type": "markdown",
   "metadata": {},
   "source": [
    "## Numpy的去重与重复函数"
   ]
  },
  {
   "cell_type": "code",
   "execution_count": null,
   "metadata": {
    "scrolled": false
   },
   "outputs": [],
   "source": [
    "# 题目：计算下面两个数组总有多少个互不相同的数\n",
    "# 数据：\n",
    "# np.random.seed(42)\n",
    "# arr1 = np.random.randint(1,100,(50,))\n",
    "#\n",
    "# np.random.seed(24)\n",
    "# arr2 = np.random.randint(1,100,(50,))\n",
    "# 知识点：去重"
   ]
  },
  {
   "cell_type": "code",
   "execution_count": 17,
   "metadata": {
    "scrolled": false
   },
   "outputs": [
    {
     "data": {
      "text/plain": [
       "65"
      ]
     },
     "execution_count": 17,
     "metadata": {},
     "output_type": "execute_result"
    }
   ],
   "source": [
    "np.random.seed(42)\n",
    "arr1 = np.random.randint(1, 100, (50,))\n",
    "\n",
    "np.random.seed(24)\n",
    "arr2 = np.random.randint(1, 100, (50,))\n",
    "\n",
    "np.unique(np.concatenate((arr1, arr2), axis=0)).shape[0]"
   ]
  },
  {
   "cell_type": "markdown",
   "metadata": {},
   "source": [
    "## 伪随机数生成"
   ]
  },
  {
   "cell_type": "code",
   "execution_count": null,
   "metadata": {
    "scrolled": false
   },
   "outputs": [],
   "source": [
    "# 题目：请给出5*5的正态分布矩阵"
   ]
  },
  {
   "cell_type": "code",
   "execution_count": 88,
   "metadata": {},
   "outputs": [
    {
     "data": {
      "text/plain": [
       "array([[ 2.28722598,  1.6229205 ,  0.82373308,  0.29305925,  0.89663038],\n",
       "       [-0.61032202, -0.3161659 , -1.48242425, -0.22884752,  0.96264129],\n",
       "       [-0.20969244, -0.77404293, -0.35977815,  0.72408325, -0.25576464],\n",
       "       [ 0.8499212 , -1.31132423, -0.87030495, -0.50664322, -1.30995069],\n",
       "       [ 2.94366342, -1.0962658 ,  0.91488432, -0.66606062, -0.51378749]])"
      ]
     },
     "execution_count": 88,
     "metadata": {},
     "output_type": "execute_result"
    }
   ],
   "source": [
    "np.random.randn(5, 5)"
   ]
  },
  {
   "cell_type": "markdown",
   "metadata": {},
   "source": [
    "## 特征值和特征向量"
   ]
  },
  {
   "cell_type": "code",
   "execution_count": null,
   "metadata": {},
   "outputs": [],
   "source": [
    "# 题目： 请给出下列矩阵的特征值和特征向量\n",
    "# x = np.array([[4, -5], [-2, 1]])"
   ]
  },
  {
   "cell_type": "code",
   "execution_count": 8,
   "metadata": {},
   "outputs": [
    {
     "name": "stdout",
     "output_type": "stream",
     "text": [
      "特征值：\n",
      " [-4.48216935  5.55904271 12.92312664]\n",
      "特征向量：\n",
      " [[ 0.70204063  0.61892399  0.56297507]\n",
      " [ 0.6440696  -0.72721767  0.34617034]\n",
      " [-0.30383105 -0.29679549  0.75048329]]\n"
     ]
    }
   ],
   "source": [
    "x = np.matrix([[4, -5, 9], [-2, 1, 7], [4, 2, 9]])\n",
    "eigvalue, eigvector = np.linalg.eig(x)\n",
    "print(\"特征值：\\n\", eigvalue)\n",
    "print(\"特征向量：\\n\", eigvector)"
   ]
  },
  {
   "cell_type": "markdown",
   "metadata": {},
   "source": [
    "# pandas"
   ]
  },
  {
   "cell_type": "markdown",
   "metadata": {},
   "source": [
    "## Pandas对象简介"
   ]
  },
  {
   "cell_type": "code",
   "execution_count": null,
   "metadata": {
    "scrolled": true
   },
   "outputs": [],
   "source": [
    "# 题目：创建一个以字母为index,和column的由[0,25)组成的二维dataframe\n",
    "# 知识点： dataframe的创建"
   ]
  },
  {
   "cell_type": "code",
   "execution_count": 10,
   "metadata": {
    "scrolled": true
   },
   "outputs": [
    {
     "data": {
      "text/html": [
       "<div>\n",
       "<style scoped>\n",
       "    .dataframe tbody tr th:only-of-type {\n",
       "        vertical-align: middle;\n",
       "    }\n",
       "\n",
       "    .dataframe tbody tr th {\n",
       "        vertical-align: top;\n",
       "    }\n",
       "\n",
       "    .dataframe thead th {\n",
       "        text-align: right;\n",
       "    }\n",
       "</style>\n",
       "<table border=\"1\" class=\"dataframe\">\n",
       "  <thead>\n",
       "    <tr style=\"text-align: right;\">\n",
       "      <th></th>\n",
       "      <th>e</th>\n",
       "      <th>f</th>\n",
       "      <th>g</th>\n",
       "      <th>h</th>\n",
       "      <th>t</th>\n",
       "    </tr>\n",
       "  </thead>\n",
       "  <tbody>\n",
       "    <tr>\n",
       "      <th>a</th>\n",
       "      <td>0</td>\n",
       "      <td>1</td>\n",
       "      <td>2</td>\n",
       "      <td>3</td>\n",
       "      <td>4</td>\n",
       "    </tr>\n",
       "    <tr>\n",
       "      <th>b</th>\n",
       "      <td>5</td>\n",
       "      <td>6</td>\n",
       "      <td>7</td>\n",
       "      <td>8</td>\n",
       "      <td>9</td>\n",
       "    </tr>\n",
       "    <tr>\n",
       "      <th>c</th>\n",
       "      <td>10</td>\n",
       "      <td>11</td>\n",
       "      <td>12</td>\n",
       "      <td>13</td>\n",
       "      <td>14</td>\n",
       "    </tr>\n",
       "    <tr>\n",
       "      <th>d</th>\n",
       "      <td>15</td>\n",
       "      <td>16</td>\n",
       "      <td>17</td>\n",
       "      <td>18</td>\n",
       "      <td>19</td>\n",
       "    </tr>\n",
       "    <tr>\n",
       "      <th>e</th>\n",
       "      <td>20</td>\n",
       "      <td>21</td>\n",
       "      <td>22</td>\n",
       "      <td>23</td>\n",
       "      <td>24</td>\n",
       "    </tr>\n",
       "  </tbody>\n",
       "</table>\n",
       "</div>"
      ],
      "text/plain": [
       "    e   f   g   h   t\n",
       "a   0   1   2   3   4\n",
       "b   5   6   7   8   9\n",
       "c  10  11  12  13  14\n",
       "d  15  16  17  18  19\n",
       "e  20  21  22  23  24"
      ]
     },
     "execution_count": 10,
     "metadata": {},
     "output_type": "execute_result"
    }
   ],
   "source": [
    "pd.DataFrame(np.arange(0, 25).reshape(5, 5),\n",
    "             index=list(\"abcde\"), columns=list(\"efght\"))"
   ]
  },
  {
   "cell_type": "markdown",
   "metadata": {},
   "source": [
    "## 数据取值与选择"
   ]
  },
  {
   "cell_type": "code",
   "execution_count": null,
   "metadata": {
    "scrolled": true
   },
   "outputs": [],
   "source": [
    "# 题目：返回下列dataframe的第一到第四行以及f,g,t列\n",
    "# 数据 :pd.DataFrame(np.arange(0,25).reshape(5,5),index=list(\"abcde\"),columns=list(\"efght\"))\n",
    "# 知识点：dataframe的索引，高级索引，切片"
   ]
  },
  {
   "cell_type": "code",
   "execution_count": 23,
   "metadata": {
    "scrolled": true
   },
   "outputs": [
    {
     "data": {
      "text/html": [
       "<div>\n",
       "<style scoped>\n",
       "    .dataframe tbody tr th:only-of-type {\n",
       "        vertical-align: middle;\n",
       "    }\n",
       "\n",
       "    .dataframe tbody tr th {\n",
       "        vertical-align: top;\n",
       "    }\n",
       "\n",
       "    .dataframe thead th {\n",
       "        text-align: right;\n",
       "    }\n",
       "</style>\n",
       "<table border=\"1\" class=\"dataframe\">\n",
       "  <thead>\n",
       "    <tr style=\"text-align: right;\">\n",
       "      <th></th>\n",
       "      <th>f</th>\n",
       "      <th>g</th>\n",
       "      <th>t</th>\n",
       "    </tr>\n",
       "  </thead>\n",
       "  <tbody>\n",
       "    <tr>\n",
       "      <th>b</th>\n",
       "      <td>6</td>\n",
       "      <td>7</td>\n",
       "      <td>9</td>\n",
       "    </tr>\n",
       "    <tr>\n",
       "      <th>c</th>\n",
       "      <td>11</td>\n",
       "      <td>12</td>\n",
       "      <td>14</td>\n",
       "    </tr>\n",
       "    <tr>\n",
       "      <th>d</th>\n",
       "      <td>16</td>\n",
       "      <td>17</td>\n",
       "      <td>19</td>\n",
       "    </tr>\n",
       "    <tr>\n",
       "      <th>e</th>\n",
       "      <td>21</td>\n",
       "      <td>22</td>\n",
       "      <td>24</td>\n",
       "    </tr>\n",
       "  </tbody>\n",
       "</table>\n",
       "</div>"
      ],
      "text/plain": [
       "    f   g   t\n",
       "b   6   7   9\n",
       "c  11  12  14\n",
       "d  16  17  19\n",
       "e  21  22  24"
      ]
     },
     "execution_count": 23,
     "metadata": {},
     "output_type": "execute_result"
    }
   ],
   "source": [
    "arr = pd.DataFrame(np.arange(0, 25).reshape(\n",
    "    5, 5), index=list(\"abcde\"), columns=list(\"efght\"))\n",
    "arr.iloc[1:5].loc[:, ['f', 'g', 't']]"
   ]
  },
  {
   "cell_type": "markdown",
   "metadata": {},
   "source": [
    "## Pandas数值运算方法"
   ]
  },
  {
   "cell_type": "code",
   "execution_count": null,
   "metadata": {
    "scrolled": true
   },
   "outputs": [],
   "source": [
    "# 请计算下列数据各列和的平均值：\n",
    "# np.random.seed(42)\n",
    "# arr1 = pd.DataFrame(np.random.randint(1,100,(5,5)))"
   ]
  },
  {
   "cell_type": "code",
   "execution_count": 7,
   "metadata": {},
   "outputs": [
    {
     "data": {
      "text/plain": [
       "247.6"
      ]
     },
     "execution_count": 7,
     "metadata": {},
     "output_type": "execute_result"
    }
   ],
   "source": [
    "np.random.seed(42)\n",
    "arr1 = pd.DataFrame(np.random.randint(1, 100, (5, 5)))\n",
    "arr1.apply(sum, axis=1).mean()"
   ]
  },
  {
   "cell_type": "markdown",
   "metadata": {},
   "source": [
    "## 处理缺失值"
   ]
  },
  {
   "cell_type": "markdown",
   "metadata": {
    "scrolled": true
   },
   "source": [
    "将每列缺失值以列平均值填补\n",
    "```py\n",
    "# 数据；\n",
    "a = np.arange(100, dtype=float).reshape((10, 10))\n",
    "\n",
    "a[0, 1] = np.nan\n",
    "a[0, 3] = np.nan\n",
    "a[0, 4] = np.nan\n",
    "a[0, 6] = np.nan\n",
    "\n",
    "a[3, 1] = np.nan\n",
    "a[3, 3] = np.nan\n",
    "a[3, 4] = np.nan\n",
    "a[3, 6] = np.nan\n",
    "```"
   ]
  },
  {
   "cell_type": "code",
   "execution_count": 8,
   "metadata": {},
   "outputs": [
    {
     "name": "stdout",
     "output_type": "stream",
     "text": [
      "      a     b     c     d     e     f     g     h     i     j\n",
      "0   0.0   NaN   2.0   NaN   NaN   5.0   NaN   7.0   8.0   9.0\n",
      "1  10.0  11.0  12.0  13.0  14.0  15.0  16.0  17.0  18.0  19.0\n",
      "2  20.0  21.0  22.0  23.0  24.0  25.0  26.0  27.0  28.0  29.0\n",
      "3  30.0   NaN  32.0   NaN   NaN  35.0   NaN  37.0  38.0  39.0\n",
      "4  40.0  41.0  42.0  43.0  44.0  45.0  46.0  47.0  48.0  49.0\n",
      "5  50.0  51.0  52.0  53.0  54.0  55.0  56.0  57.0  58.0  59.0\n",
      "6  60.0  61.0  62.0  63.0  64.0  65.0  66.0  67.0  68.0  69.0\n",
      "7  70.0  71.0  72.0  73.0  74.0  75.0  76.0  77.0  78.0  79.0\n",
      "8  80.0  81.0  82.0  83.0  84.0  85.0  86.0  87.0  88.0  89.0\n",
      "9  90.0  91.0  92.0  93.0  94.0  95.0  96.0  97.0  98.0  99.0\n",
      "Index(['b', 'd', 'e', 'g'], dtype='object')\n",
      "      a     b     c     d     e     f     g     h     i     j\n",
      "0   0.0  53.5   2.0  55.5  56.5   5.0  58.5   7.0   8.0   9.0\n",
      "1  10.0  11.0  12.0  13.0  14.0  15.0  16.0  17.0  18.0  19.0\n",
      "2  20.0  21.0  22.0  23.0  24.0  25.0  26.0  27.0  28.0  29.0\n",
      "3  30.0  53.5  32.0  55.5  56.5  35.0  58.5  37.0  38.0  39.0\n",
      "4  40.0  41.0  42.0  43.0  44.0  45.0  46.0  47.0  48.0  49.0\n",
      "5  50.0  51.0  52.0  53.0  54.0  55.0  56.0  57.0  58.0  59.0\n",
      "6  60.0  61.0  62.0  63.0  64.0  65.0  66.0  67.0  68.0  69.0\n",
      "7  70.0  71.0  72.0  73.0  74.0  75.0  76.0  77.0  78.0  79.0\n",
      "8  80.0  81.0  82.0  83.0  84.0  85.0  86.0  87.0  88.0  89.0\n",
      "9  90.0  91.0  92.0  93.0  94.0  95.0  96.0  97.0  98.0  99.0\n"
     ]
    }
   ],
   "source": [
    "a = np.arange(100, dtype=float).reshape((10, 10))\n",
    "\n",
    "a[0, 1] = np.nan\n",
    "a[0, 3] = np.nan\n",
    "a[0, 4] = np.nan\n",
    "a[0, 6] = np.nan\n",
    "\n",
    "a[3, 1] = np.nan\n",
    "a[3, 3] = np.nan\n",
    "a[3, 4] = np.nan\n",
    "a[3, 6] = np.nan\n",
    "\n",
    "df = pd.DataFrame(data=a)\n",
    "# 重命名列名\n",
    "df.columns = ['a', 'b', 'c', 'd', 'e', 'f', 'g', 'h', 'i', 'j']\n",
    "\n",
    "print(df)\n",
    "# 筛选需要填充的列\n",
    "print(df.columns[df.isnull().sum() > 0])\n",
    "\n",
    "# 用列均值进行填充NaN\n",
    "for column in list(df.columns[df.isnull().sum() > 0]):\n",
    "    mean_val = df[column].mean()\n",
    "    df[column].fillna(mean_val, inplace=True)\n",
    "\n",
    "print(df)"
   ]
  },
  {
   "cell_type": "markdown",
   "metadata": {},
   "source": [
    "## 层级索引"
   ]
  },
  {
   "attachments": {
    "image-3.png": {
     "image/png": "[encoded data removed]"
    }
   },
   "cell_type": "markdown",
   "metadata": {
    "scrolled": true
   },
   "source": [
    "请将下列数据用多级索引的dataframe保存\n",
    "\n",
    "4*3的数据通过np.random.seed(42)生成\n",
    "\n",
    "![image-3.png](attachment:image-3.png)"
   ]
  },
  {
   "cell_type": "code",
   "execution_count": 8,
   "metadata": {},
   "outputs": [
    {
     "data": {
      "text/html": [
       "<div>\n",
       "<style scoped>\n",
       "    .dataframe tbody tr th:only-of-type {\n",
       "        vertical-align: middle;\n",
       "    }\n",
       "\n",
       "    .dataframe tbody tr th {\n",
       "        vertical-align: top;\n",
       "    }\n",
       "\n",
       "    .dataframe thead th {\n",
       "        text-align: right;\n",
       "    }\n",
       "</style>\n",
       "<table border=\"1\" class=\"dataframe\">\n",
       "  <thead>\n",
       "    <tr style=\"text-align: right;\">\n",
       "      <th></th>\n",
       "      <th></th>\n",
       "      <th>0</th>\n",
       "      <th>1</th>\n",
       "      <th>2</th>\n",
       "    </tr>\n",
       "    <tr>\n",
       "      <th>class1</th>\n",
       "      <th>class2</th>\n",
       "      <th></th>\n",
       "      <th></th>\n",
       "      <th></th>\n",
       "    </tr>\n",
       "  </thead>\n",
       "  <tbody>\n",
       "    <tr>\n",
       "      <th rowspan=\"2\" valign=\"top\">A</th>\n",
       "      <th>x1</th>\n",
       "      <td>7</td>\n",
       "      <td>4</td>\n",
       "      <td>8</td>\n",
       "    </tr>\n",
       "    <tr>\n",
       "      <th>x2</th>\n",
       "      <td>5</td>\n",
       "      <td>7</td>\n",
       "      <td>3</td>\n",
       "    </tr>\n",
       "    <tr>\n",
       "      <th rowspan=\"2\" valign=\"top\">B</th>\n",
       "      <th>y1</th>\n",
       "      <td>7</td>\n",
       "      <td>8</td>\n",
       "      <td>5</td>\n",
       "    </tr>\n",
       "    <tr>\n",
       "      <th>y2</th>\n",
       "      <td>4</td>\n",
       "      <td>8</td>\n",
       "      <td>8</td>\n",
       "    </tr>\n",
       "  </tbody>\n",
       "</table>\n",
       "</div>"
      ],
      "text/plain": [
       "               0  1  2\n",
       "class1 class2         \n",
       "A      x1      7  4  8\n",
       "       x2      5  7  3\n",
       "B      y1      7  8  5\n",
       "       y2      4  8  8"
      ]
     },
     "execution_count": 8,
     "metadata": {},
     "output_type": "execute_result"
    }
   ],
   "source": [
    "class1 = [\"A\", \"A\", \"B\", \"B\"]\n",
    "class2 = [\"x1\", \"x2\", \"y1\", \"y2\"]\n",
    "m_index2 = pd.MultiIndex.from_arrays(\n",
    "    [class1, class2], names=[\"class1\", \"class2\"])\n",
    "np.random.seed(42)\n",
    "df2 = pd.DataFrame(np.random.randint(1, 10, (4, 3)), index=m_index2)\n",
    "df2"
   ]
  },
  {
   "cell_type": "markdown",
   "metadata": {},
   "source": [
    "## 合并数据集：Concat与Append操作"
   ]
  },
  {
   "cell_type": "code",
   "execution_count": null,
   "metadata": {},
   "outputs": [],
   "source": [
    "# 请将下列数据合并为四行，以a,b,c,d为index\n",
    "# df1 = pd.DataFrame({'A': ['A0', 'A1', 'A2', 'A3'],\n",
    "#               'B': ['B0', 'B1', 'B2', 'B3'],\n",
    "#               'C': ['C0', 'C1', 'C2', 'C3'],\n",
    "#               'D': ['D0', 'D1', 'D2', 'D3']},\n",
    "#              index=[0, 1, 2, 3])\n",
    "#\n",
    "# df2 = pd.DataFrame({'A': ['A4', 'A5', 'A6', 'A7'],\n",
    "#                     'B': ['B4', 'B5', 'B6', 'B7'],\n",
    "#                     'C': ['C4', 'C5', 'C6', 'C7'],\n",
    "#                     'D': ['D4', 'D5', 'D6', 'D7']},\n",
    "#                    index=[4, 5, 6, 7])\n",
    "#\n",
    "# df3 = pd.DataFrame({'A': ['A8', 'A9', 'A10', 'A11'],\n",
    "#                     'B': ['B8', 'B9', 'B10', 'B11'],\n",
    "#                     'C': ['C8', 'C9', 'C10', 'C11'],\n",
    "#                     'D': ['D8', 'D9', 'D10', 'D11']},\n",
    "#                    index=[8, 9, 10, 11])"
   ]
  },
  {
   "cell_type": "code",
   "execution_count": 18,
   "metadata": {},
   "outputs": [
    {
     "data": {
      "text/html": [
       "<div>\n",
       "<style scoped>\n",
       "    .dataframe tbody tr th:only-of-type {\n",
       "        vertical-align: middle;\n",
       "    }\n",
       "\n",
       "    .dataframe tbody tr th {\n",
       "        vertical-align: top;\n",
       "    }\n",
       "\n",
       "    .dataframe thead th {\n",
       "        text-align: right;\n",
       "    }\n",
       "</style>\n",
       "<table border=\"1\" class=\"dataframe\">\n",
       "  <thead>\n",
       "    <tr style=\"text-align: right;\">\n",
       "      <th></th>\n",
       "      <th>0</th>\n",
       "      <th>1</th>\n",
       "      <th>2</th>\n",
       "      <th>3</th>\n",
       "      <th>4</th>\n",
       "      <th>5</th>\n",
       "      <th>6</th>\n",
       "      <th>7</th>\n",
       "      <th>8</th>\n",
       "      <th>9</th>\n",
       "      <th>10</th>\n",
       "      <th>11</th>\n",
       "    </tr>\n",
       "  </thead>\n",
       "  <tbody>\n",
       "    <tr>\n",
       "      <th>a</th>\n",
       "      <td>a0</td>\n",
       "      <td>a1</td>\n",
       "      <td>a2</td>\n",
       "      <td>a3</td>\n",
       "      <td>a4</td>\n",
       "      <td>a5</td>\n",
       "      <td>a6</td>\n",
       "      <td>a7</td>\n",
       "      <td>a8</td>\n",
       "      <td>a9</td>\n",
       "      <td>a10</td>\n",
       "      <td>a11</td>\n",
       "    </tr>\n",
       "    <tr>\n",
       "      <th>b</th>\n",
       "      <td>b0</td>\n",
       "      <td>b1</td>\n",
       "      <td>b2</td>\n",
       "      <td>b3</td>\n",
       "      <td>b4</td>\n",
       "      <td>b5</td>\n",
       "      <td>b6</td>\n",
       "      <td>b7</td>\n",
       "      <td>b8</td>\n",
       "      <td>b9</td>\n",
       "      <td>b10</td>\n",
       "      <td>b11</td>\n",
       "    </tr>\n",
       "    <tr>\n",
       "      <th>c</th>\n",
       "      <td>c0</td>\n",
       "      <td>c1</td>\n",
       "      <td>c2</td>\n",
       "      <td>c3</td>\n",
       "      <td>c4</td>\n",
       "      <td>c5</td>\n",
       "      <td>c6</td>\n",
       "      <td>c7</td>\n",
       "      <td>c8</td>\n",
       "      <td>c9</td>\n",
       "      <td>c10</td>\n",
       "      <td>c11</td>\n",
       "    </tr>\n",
       "    <tr>\n",
       "      <th>d</th>\n",
       "      <td>d0</td>\n",
       "      <td>d1</td>\n",
       "      <td>d2</td>\n",
       "      <td>d3</td>\n",
       "      <td>d4</td>\n",
       "      <td>d5</td>\n",
       "      <td>d6</td>\n",
       "      <td>d7</td>\n",
       "      <td>d8</td>\n",
       "      <td>d9</td>\n",
       "      <td>d10</td>\n",
       "      <td>d11</td>\n",
       "    </tr>\n",
       "  </tbody>\n",
       "</table>\n",
       "</div>"
      ],
      "text/plain": [
       "   0   1   2   3   4   5   6   7   8   9    10   11\n",
       "a  a0  a1  a2  a3  a4  a5  a6  a7  a8  a9  a10  a11\n",
       "b  b0  b1  b2  b3  b4  b5  b6  b7  b8  b9  b10  b11\n",
       "c  c0  c1  c2  c3  c4  c5  c6  c7  c8  c9  c10  c11\n",
       "d  d0  d1  d2  d3  d4  d5  d6  d7  d8  d9  d10  d11"
      ]
     },
     "execution_count": 18,
     "metadata": {},
     "output_type": "execute_result"
    }
   ],
   "source": [
    "df1 = pd.DataFrame({'a': ['a0', 'a1', 'a2', 'a3'],\n",
    "                    'b': ['b0', 'b1', 'b2', 'b3'],\n",
    "                    'c': ['c0', 'c1', 'c2', 'c3'],\n",
    "                    'd': ['d0', 'd1', 'd2', 'd3']},\n",
    "                   index=[0, 1, 2, 3])\n",
    "\n",
    "df2 = pd.DataFrame({'a': ['a4', 'a5', 'a6', 'a7'],\n",
    "                    'b': ['b4', 'b5', 'b6', 'b7'],\n",
    "                    'c': ['c4', 'c5', 'c6', 'c7'],\n",
    "                    'd': ['d4', 'd5', 'd6', 'd7']},\n",
    "                   index=[4, 5, 6, 7])\n",
    "\n",
    "df3 = pd.DataFrame({'a': ['a8', 'a9', 'a10', 'a11'],\n",
    "                    'b': ['b8', 'b9', 'b10', 'b11'],\n",
    "                    'c': ['c8', 'c9', 'c10', 'c11'],\n",
    "                    'd': ['d8', 'd9', 'd10', 'd11']},\n",
    "                   index=[8, 9, 10, 11])\n",
    "\n",
    "pd.concat([df1.T, df2.T, df3.T], axis=1)"
   ]
  },
  {
   "cell_type": "markdown",
   "metadata": {},
   "source": [
    "## 合并数据集：合并与连接"
   ]
  },
  {
   "cell_type": "code",
   "execution_count": null,
   "metadata": {},
   "outputs": [],
   "source": [
    "# 请将下列两个dataframe的第三四行合并在一起，形成二行八列的数据\n",
    "# df1 = pd.DataFrame({'a': ['a0', 'a1', 'a2', 'a3'],\n",
    "#               'b': ['b0', 'b1', 'b2', 'b3'],\n",
    "#               'c': ['c0', 'c1', 'c2', 'c3'],\n",
    "#               'd': ['d0', 'd1', 'd2', 'd3']},\n",
    "#              index=[0, 1, 2, 3])\n",
    "#\n",
    "# df2 = pd.DataFrame({'a': ['a4', 'a5', 'a6', 'a7'],\n",
    "#                     'b': ['b4', 'b5', 'b6', 'b7'],\n",
    "#                     'c': ['c4', 'c5', 'c6', 'c7'],\n",
    "#                     'd': ['d4', 'd5', 'd6', 'd7']},\n",
    "#                   index=[4, 5, 2, 3])"
   ]
  },
  {
   "cell_type": "code",
   "execution_count": 54,
   "metadata": {
    "scrolled": true
   },
   "outputs": [
    {
     "data": {
      "text/html": [
       "<div>\n",
       "<style scoped>\n",
       "    .dataframe tbody tr th:only-of-type {\n",
       "        vertical-align: middle;\n",
       "    }\n",
       "\n",
       "    .dataframe tbody tr th {\n",
       "        vertical-align: top;\n",
       "    }\n",
       "\n",
       "    .dataframe thead th {\n",
       "        text-align: right;\n",
       "    }\n",
       "</style>\n",
       "<table border=\"1\" class=\"dataframe\">\n",
       "  <thead>\n",
       "    <tr style=\"text-align: right;\">\n",
       "      <th></th>\n",
       "      <th>a_x</th>\n",
       "      <th>b_x</th>\n",
       "      <th>c_x</th>\n",
       "      <th>d_x</th>\n",
       "      <th>a_y</th>\n",
       "      <th>b_y</th>\n",
       "      <th>c_y</th>\n",
       "      <th>d_y</th>\n",
       "    </tr>\n",
       "  </thead>\n",
       "  <tbody>\n",
       "    <tr>\n",
       "      <th>2</th>\n",
       "      <td>a2</td>\n",
       "      <td>b2</td>\n",
       "      <td>c2</td>\n",
       "      <td>d2</td>\n",
       "      <td>a6</td>\n",
       "      <td>b6</td>\n",
       "      <td>c6</td>\n",
       "      <td>d6</td>\n",
       "    </tr>\n",
       "    <tr>\n",
       "      <th>3</th>\n",
       "      <td>a3</td>\n",
       "      <td>b3</td>\n",
       "      <td>c3</td>\n",
       "      <td>d3</td>\n",
       "      <td>a7</td>\n",
       "      <td>b7</td>\n",
       "      <td>c7</td>\n",
       "      <td>d7</td>\n",
       "    </tr>\n",
       "  </tbody>\n",
       "</table>\n",
       "</div>"
      ],
      "text/plain": [
       "  a_x b_x c_x d_x a_y b_y c_y d_y\n",
       "2  a2  b2  c2  d2  a6  b6  c6  d6\n",
       "3  a3  b3  c3  d3  a7  b7  c7  d7"
      ]
     },
     "execution_count": 54,
     "metadata": {},
     "output_type": "execute_result"
    }
   ],
   "source": [
    "df1 = pd.DataFrame({'a': ['a0', 'a1', 'a2', 'a3'],\n",
    "                    'b': ['b0', 'b1', 'b2', 'b3'],\n",
    "                    'c': ['c0', 'c1', 'c2', 'c3'],\n",
    "                    'd': ['d0', 'd1', 'd2', 'd3']},\n",
    "                   index=[0, 1, 2, 3])\n",
    "\n",
    "df2 = pd.DataFrame({'a': ['a4', 'a5', 'a6', 'a7'],\n",
    "                    'b': ['b4', 'b5', 'b6', 'b7'],\n",
    "                    'c': ['c4', 'c5', 'c6', 'c7'],\n",
    "                    'd': ['d4', 'd5', 'd6', 'd7']},\n",
    "                   index=[1, 2, 3, 4])\n",
    "\n",
    "# display('df1','df2','pd.merge(df1,df2,left_index=True,right_index=True)')\n",
    "df1.reset_index(drop=True, inplace=True)\n",
    "df2.reset_index(drop=True, inplace=True)\n",
    "\n",
    "pd.merge(df1.iloc[2:4], df2.iloc[2:4], left_index=True, right_index=True)"
   ]
  },
  {
   "cell_type": "markdown",
   "metadata": {},
   "source": [
    "## 累计与分组"
   ]
  },
  {
   "cell_type": "code",
   "execution_count": null,
   "metadata": {},
   "outputs": [],
   "source": [
    "# 以年为单位，列出每个team的rank以及points"
   ]
  },
  {
   "cell_type": "code",
   "execution_count": 66,
   "metadata": {
    "scrolled": true
   },
   "outputs": [
    {
     "name": "stdout",
     "output_type": "stream",
     "text": [
      "2014\n",
      "     Team  Rank  Year  Points\n",
      "0  Riders     1  2014     876\n",
      "2  Devils     2  2014     863\n",
      "4   Kings     3  2014     741\n",
      "9  Royals     4  2014     701\n",
      "2015\n",
      "      Team  Rank  Year  Points\n",
      "1   Riders     2  2015     789\n",
      "3   Devils     3  2015     673\n",
      "5    kings     4  2015     812\n",
      "10  Royals     1  2015     804\n",
      "2016\n",
      "     Team  Rank  Year  Points\n",
      "6   Kings     1  2016     756\n",
      "8  Riders     2  2016     694\n",
      "2017\n",
      "      Team  Rank  Year  Points\n",
      "7    Kings     1  2017     788\n",
      "11  Riders     2  2017     690\n"
     ]
    }
   ],
   "source": [
    "ipl_data = {'Team': ['Riders', 'Riders', 'Devils', 'Devils', 'Kings',\n",
    "                     'kings', 'Kings', 'Kings', 'Riders', 'Royals', 'Royals', 'Riders'],\n",
    "            'Rank': [1, 2, 2, 3, 3, 4, 1, 1, 2, 4, 1, 2],\n",
    "            'Year': [2014, 2015, 2014, 2015, 2014, 2015, 2016, 2017, 2016, 2014, 2015, 2017],\n",
    "            'Points': [876, 789, 863, 673, 741, 812, 756, 788, 694, 701, 804, 690]}\n",
    "df = pd.DataFrame(ipl_data)\n",
    "grouped = df.groupby('Year')\n",
    "\n",
    "for name, group in grouped:\n",
    "    print(name)\n",
    "    print(group)"
   ]
  },
  {
   "cell_type": "markdown",
   "metadata": {},
   "source": [
    "## 数据透视表"
   ]
  },
  {
   "cell_type": "code",
   "execution_count": null,
   "metadata": {
    "scrolled": true
   },
   "outputs": [],
   "source": [
    "# 新建表将  B, C，D 列作为索引进行聚合。"
   ]
  },
  {
   "cell_type": "code",
   "execution_count": 73,
   "metadata": {},
   "outputs": [
    {
     "name": "stdout",
     "output_type": "stream",
     "text": [
      "        A  B    C         D         E\n",
      "0     one  A  foo -0.953028  1.468941\n",
      "1     one  B  foo -1.047871 -1.123898\n",
      "2     two  C  foo -1.875677  0.950005\n",
      "3   three  A  bar -1.366782  1.726516\n",
      "4     one  B  bar  0.636305  0.457885\n",
      "5     one  C  bar -0.906721 -1.684287\n",
      "6     two  A  foo  0.476043  0.326845\n",
      "7   three  B  foo  1.303661 -0.081119\n",
      "8     one  C  foo  0.211587  0.467795\n",
      "9     one  A  bar  0.597045  0.736122\n",
      "10    two  B  bar -0.896335 -0.779702\n",
      "11  three  C  bar -0.111988 -0.843896\n"
     ]
    },
    {
     "data": {
      "text/html": [
       "<div>\n",
       "<style scoped>\n",
       "    .dataframe tbody tr th:only-of-type {\n",
       "        vertical-align: middle;\n",
       "    }\n",
       "\n",
       "    .dataframe tbody tr th {\n",
       "        vertical-align: top;\n",
       "    }\n",
       "\n",
       "    .dataframe thead th {\n",
       "        text-align: right;\n",
       "    }\n",
       "</style>\n",
       "<table border=\"1\" class=\"dataframe\">\n",
       "  <thead>\n",
       "    <tr style=\"text-align: right;\">\n",
       "      <th></th>\n",
       "      <th></th>\n",
       "      <th>D</th>\n",
       "      <th>E</th>\n",
       "    </tr>\n",
       "    <tr>\n",
       "      <th>A</th>\n",
       "      <th>B</th>\n",
       "      <th></th>\n",
       "      <th></th>\n",
       "    </tr>\n",
       "  </thead>\n",
       "  <tbody>\n",
       "    <tr>\n",
       "      <th rowspan=\"3\" valign=\"top\">one</th>\n",
       "      <th>A</th>\n",
       "      <td>-0.177992</td>\n",
       "      <td>1.102532</td>\n",
       "    </tr>\n",
       "    <tr>\n",
       "      <th>B</th>\n",
       "      <td>-0.205783</td>\n",
       "      <td>-0.333007</td>\n",
       "    </tr>\n",
       "    <tr>\n",
       "      <th>C</th>\n",
       "      <td>-0.347567</td>\n",
       "      <td>-0.608246</td>\n",
       "    </tr>\n",
       "    <tr>\n",
       "      <th rowspan=\"3\" valign=\"top\">three</th>\n",
       "      <th>A</th>\n",
       "      <td>-1.366782</td>\n",
       "      <td>1.726516</td>\n",
       "    </tr>\n",
       "    <tr>\n",
       "      <th>B</th>\n",
       "      <td>1.303661</td>\n",
       "      <td>-0.081119</td>\n",
       "    </tr>\n",
       "    <tr>\n",
       "      <th>C</th>\n",
       "      <td>-0.111988</td>\n",
       "      <td>-0.843896</td>\n",
       "    </tr>\n",
       "    <tr>\n",
       "      <th rowspan=\"3\" valign=\"top\">two</th>\n",
       "      <th>A</th>\n",
       "      <td>0.476043</td>\n",
       "      <td>0.326845</td>\n",
       "    </tr>\n",
       "    <tr>\n",
       "      <th>B</th>\n",
       "      <td>-0.896335</td>\n",
       "      <td>-0.779702</td>\n",
       "    </tr>\n",
       "    <tr>\n",
       "      <th>C</th>\n",
       "      <td>-1.875677</td>\n",
       "      <td>0.950005</td>\n",
       "    </tr>\n",
       "  </tbody>\n",
       "</table>\n",
       "</div>"
      ],
      "text/plain": [
       "                D         E\n",
       "A     B                    \n",
       "one   A -0.177992  1.102532\n",
       "      B -0.205783 -0.333007\n",
       "      C -0.347567 -0.608246\n",
       "three A -1.366782  1.726516\n",
       "      B  1.303661 -0.081119\n",
       "      C -0.111988 -0.843896\n",
       "two   A  0.476043  0.326845\n",
       "      B -0.896335 -0.779702\n",
       "      C -1.875677  0.950005"
      ]
     },
     "execution_count": 73,
     "metadata": {},
     "output_type": "execute_result"
    }
   ],
   "source": [
    "df = pd.DataFrame({'A': ['one', 'one', 'two', 'three'] * 3,\n",
    "                   'B': ['A', 'B', 'C'] * 4,\n",
    "                   'C': ['foo', 'foo', 'foo', 'bar', 'bar', 'bar'] * 2,\n",
    "                   'D': np.random.randn(12),\n",
    "                   'E': np.random.randn(12)})\n",
    "\n",
    "print(df)\n",
    "\n",
    "pd.pivot_table(df, index=['A', 'B'])"
   ]
  },
  {
   "cell_type": "markdown",
   "metadata": {},
   "source": [
    "## 向量化字符串操作"
   ]
  },
  {
   "cell_type": "code",
   "execution_count": null,
   "metadata": {},
   "outputs": [],
   "source": [
    "# 请计算下列所有字符串的字符长度和\n",
    "# data = pd.Series(['peter', 'Paul', 'MARY', 'GuiDO'])"
   ]
  },
  {
   "cell_type": "code",
   "execution_count": 76,
   "metadata": {
    "scrolled": true
   },
   "outputs": [
    {
     "data": {
      "text/plain": [
       "18"
      ]
     },
     "execution_count": 76,
     "metadata": {},
     "output_type": "execute_result"
    }
   ],
   "source": [
    "data = pd.Series(['peter', 'Paul', 'MARY', 'GuiDO'])\n",
    "data.str.len().sum()"
   ]
  },
  {
   "cell_type": "markdown",
   "metadata": {},
   "source": [
    "## 处理时间序列"
   ]
  },
  {
   "cell_type": "code",
   "execution_count": null,
   "metadata": {},
   "outputs": [],
   "source": [
    "# 请输出任意时间的UTC时间标准"
   ]
  },
  {
   "cell_type": "code",
   "execution_count": 77,
   "metadata": {
    "scrolled": true
   },
   "outputs": [
    {
     "data": {
      "text/plain": [
       "2020-10-31 15:58:15.904724+00:00   -0.150534\n",
       "Freq: D, dtype: float64"
      ]
     },
     "execution_count": 77,
     "metadata": {},
     "output_type": "execute_result"
    }
   ],
   "source": [
    "s = pd.date_range('today', periods=1, freq='D')  # 获取当前时间\n",
    "ts = pd.Series(np.random.randn(len(s)), s)  # 随机数值\n",
    "ts_utc = ts.tz_localize('UTC')  # 转换为 UTC 时间\n",
    "ts_utc"
   ]
  },
  {
   "cell_type": "markdown",
   "metadata": {},
   "source": [
    "## 高性能Pandas：eval()与query()"
   ]
  },
  {
   "cell_type": "code",
   "execution_count": null,
   "metadata": {},
   "outputs": [],
   "source": [
    "# 请使用query查询A，B数据大于C列平均值的所有行"
   ]
  },
  {
   "cell_type": "code",
   "execution_count": 81,
   "metadata": {
    "scrolled": true
   },
   "outputs": [
    {
     "data": {
      "text/html": [
       "<div style=\"float: left; padding: 10px;\">\n",
       "    <p style='font-family:\"Courier New\", Courier, monospace'>df</p><div>\n",
       "<style scoped>\n",
       "    .dataframe tbody tr th:only-of-type {\n",
       "        vertical-align: middle;\n",
       "    }\n",
       "\n",
       "    .dataframe tbody tr th {\n",
       "        vertical-align: top;\n",
       "    }\n",
       "\n",
       "    .dataframe thead th {\n",
       "        text-align: right;\n",
       "    }\n",
       "</style>\n",
       "<table border=\"1\" class=\"dataframe\">\n",
       "  <thead>\n",
       "    <tr style=\"text-align: right;\">\n",
       "      <th></th>\n",
       "      <th>A</th>\n",
       "      <th>B</th>\n",
       "      <th>C</th>\n",
       "      <th>D</th>\n",
       "    </tr>\n",
       "  </thead>\n",
       "  <tbody>\n",
       "    <tr>\n",
       "      <th>0</th>\n",
       "      <td>0</td>\n",
       "      <td>1</td>\n",
       "      <td>2</td>\n",
       "      <td>3</td>\n",
       "    </tr>\n",
       "    <tr>\n",
       "      <th>1</th>\n",
       "      <td>4</td>\n",
       "      <td>5</td>\n",
       "      <td>6</td>\n",
       "      <td>7</td>\n",
       "    </tr>\n",
       "    <tr>\n",
       "      <th>2</th>\n",
       "      <td>8</td>\n",
       "      <td>9</td>\n",
       "      <td>10</td>\n",
       "      <td>11</td>\n",
       "    </tr>\n",
       "  </tbody>\n",
       "</table>\n",
       "</div>\n",
       "    </div>\n",
       "<div style=\"float: left; padding: 10px;\">\n",
       "    <p style='font-family:\"Courier New\", Courier, monospace'>result1</p><div>\n",
       "<style scoped>\n",
       "    .dataframe tbody tr th:only-of-type {\n",
       "        vertical-align: middle;\n",
       "    }\n",
       "\n",
       "    .dataframe tbody tr th {\n",
       "        vertical-align: top;\n",
       "    }\n",
       "\n",
       "    .dataframe thead th {\n",
       "        text-align: right;\n",
       "    }\n",
       "</style>\n",
       "<table border=\"1\" class=\"dataframe\">\n",
       "  <thead>\n",
       "    <tr style=\"text-align: right;\">\n",
       "      <th></th>\n",
       "      <th>A</th>\n",
       "      <th>B</th>\n",
       "      <th>C</th>\n",
       "      <th>D</th>\n",
       "    </tr>\n",
       "  </thead>\n",
       "  <tbody>\n",
       "    <tr>\n",
       "      <th>0</th>\n",
       "      <td>0</td>\n",
       "      <td>1</td>\n",
       "      <td>2</td>\n",
       "      <td>3</td>\n",
       "    </tr>\n",
       "    <tr>\n",
       "      <th>1</th>\n",
       "      <td>4</td>\n",
       "      <td>5</td>\n",
       "      <td>6</td>\n",
       "      <td>7</td>\n",
       "    </tr>\n",
       "  </tbody>\n",
       "</table>\n",
       "</div>\n",
       "    </div>"
      ],
      "text/plain": [
       "df\n",
       "   A  B   C   D\n",
       "0  0  1   2   3\n",
       "1  4  5   6   7\n",
       "2  8  9  10  11\n",
       "\n",
       "result1\n",
       "   A  B  C  D\n",
       "0  0  1  2  3\n",
       "1  4  5  6  7"
      ]
     },
     "execution_count": 81,
     "metadata": {},
     "output_type": "execute_result"
    }
   ],
   "source": [
    "df = pd.DataFrame(np.arange(12).reshape(3, 4), columns=list('ABCD'))\n",
    "Cmean = df['C'].mean()  # 6.0\n",
    "result1 = df[(df.A < Cmean) & (df.B < Cmean)]\n",
    "result1 = df.query('A < @Cmean and B < @Cmean')  # 等价\n",
    "display('df', 'result1')"
   ]
  },
  {
   "cell_type": "markdown",
   "metadata": {},
   "source": [
    "# matplotlib"
   ]
  },
  {
   "cell_type": "markdown",
   "metadata": {},
   "source": [
    "## 线形图"
   ]
  },
  {
   "cell_type": "code",
   "execution_count": null,
   "metadata": {},
   "outputs": [],
   "source": [
    "# 题目：请画出0-10之间sinx的函数图像"
   ]
  },
  {
   "cell_type": "code",
   "execution_count": 52,
   "metadata": {
    "scrolled": false
   },
   "outputs": [
    {
     "data": {
      "text/plain": [
       "[<matplotlib.lines.Line2D at 0x2acafef3af0>]"
      ]
     },
     "execution_count": 52,
     "metadata": {},
     "output_type": "execute_result"
    },
    {
     "data": {
      "image/png": "[encoded data removed]",
      "text/plain": [
       "<Figure size 432x288 with 1 Axes>"
      ]
     },
     "metadata": {},
     "output_type": "display_data"
    }
   ],
   "source": [
    "plt.style.use('seaborn-whitegrid')\n",
    "x = np.linspace(0, 10, 1000)\n",
    "plt.plot(x, np.sin(x), label=\"sin(x)\")"
   ]
  },
  {
   "cell_type": "markdown",
   "metadata": {},
   "source": [
    "## 散点图"
   ]
  },
  {
   "cell_type": "code",
   "execution_count": 5,
   "metadata": {
    "scrolled": true
   },
   "outputs": [],
   "source": [
    "# 题目：请给出下面数据的大致关系(散点图)\n",
    "# x = np.array([102,192,120,31,34,123,34,12,54,23])\n",
    "# y = np.array([112,199,122,34,39,133,44,20,58,33])\n",
    "# 数据：\n",
    "# 知识点：散点图"
   ]
  },
  {
   "cell_type": "code",
   "execution_count": 3,
   "metadata": {
    "scrolled": true
   },
   "outputs": [],
   "source": [
    "x = np.array([102, 192, 120, 31, 34, 123, 34, 12, 54, 23])\n",
    "y = np.array([112, 199, 122, 34, 39, 133, 44, 20, 58, 33])"
   ]
  },
  {
   "cell_type": "code",
   "execution_count": 4,
   "metadata": {
    "scrolled": true
   },
   "outputs": [
    {
     "data": {
      "text/plain": [
       "[<matplotlib.lines.Line2D at 0x1ed9e072820>]"
      ]
     },
     "execution_count": 4,
     "metadata": {},
     "output_type": "execute_result"
    },
    {
     "data": {
      "image/png": "[encoded data removed]",
      "text/plain": [
       "<Figure size 432x288 with 1 Axes>"
      ]
     },
     "metadata": {
      "needs_background": "light"
     },
     "output_type": "display_data"
    }
   ],
   "source": [
    "plt.plot(x, y, 'o')"
   ]
  },
  {
   "cell_type": "markdown",
   "metadata": {},
   "source": [
    "## 多子图"
   ]
  },
  {
   "cell_type": "code",
   "execution_count": 3,
   "metadata": {},
   "outputs": [],
   "source": [
    "# 题目：请在一个图中画出 sinx和 cosx"
   ]
  },
  {
   "cell_type": "code",
   "execution_count": 4,
   "metadata": {
    "scrolled": true
   },
   "outputs": [
    {
     "data": {
      "image/png": "[encoded data removed]",
      "text/plain": [
       "<Figure size 432x288 with 2 Axes>"
      ]
     },
     "metadata": {
      "needs_background": "light"
     },
     "output_type": "display_data"
    }
   ],
   "source": [
    "fig = plt.figure()\n",
    "ax1 = fig.add_axes([0.1, 0.5, 0.8, 0.4],\n",
    "                   xticklabels=[], ylim=(-1.2, 1.2))\n",
    "ax2 = fig.add_axes([0.1, 0.1, 0.8, 0.4],\n",
    "                   ylim=(-1.2, 1.2))\n",
    "\n",
    "x = np.linspace(0, 10)\n",
    "ax1.plot(np.sin(x))\n",
    "ax2.plot(np.cos(x))"
   ]
  },
  {
   "cell_type": "markdown",
   "metadata": {},
   "source": [
    "## 雷达图"
   ]
  },
  {
   "cell_type": "code",
   "execution_count": null,
   "metadata": {},
   "outputs": [],
   "source": [
    "# 题目：请将下列员工能力评估数据画在雷达图上\n",
    "# values = [2.6,2.1,3.4,3,4.1]\n",
    "# feature = ['个人能力','QC知识','解决问题能力','服务质量意识','团队精神']"
   ]
  },
  {
   "cell_type": "code",
   "execution_count": 13,
   "metadata": {
    "scrolled": true
   },
   "outputs": [
    {
     "data": {
      "image/png": "[encoded data removed]",
      "text/plain": [
       "<Figure size 432x288 with 1 Axes>"
      ]
     },
     "metadata": {},
     "output_type": "display_data"
    }
   ],
   "source": [
    "# 使用ggplot的绘图风格，这个类似于美化了，可以通过plt.style.available查看可选值，你会发现其它的风格真的丑。。。\n",
    "plt.style.use('ggplot')\n",
    "\n",
    "# 构造数据\n",
    "values = [2.6, 2.1, 3.4, 3, 4.1]\n",
    "feature = ['个人能力', 'QC知识', '解决问题能力', '服务质量意识', '团队精神']\n",
    "\n",
    "# 设置每个数据点的显示位置，在雷达图上用角度表示\n",
    "angles = np.linspace(0, 2*np.pi, len(values), endpoint=False)\n",
    "\n",
    "# 拼接数据首尾，使图形中线条封闭\n",
    "values = np.concatenate((values, [values[0]]))\n",
    "angles = np.concatenate((angles, [angles[0]]))\n",
    "\n",
    "# 绘图\n",
    "fig = plt.figure()\n",
    "# 设置为极坐标格式\n",
    "ax = fig.add_subplot(111, polar=True)\n",
    "# 绘制折线图\n",
    "ax.plot(angles, values, 'o-', linewidth=2)\n",
    "# 填充颜色\n",
    "ax.fill(angles, values, alpha=0.25)\n",
    "\n",
    "\n",
    "# 设置雷达图的范围\n",
    "ax.set_ylim(0, 5)\n",
    "# 添加标题\n",
    "plt.title('活动前后员工状态表现')\n",
    "# 添加网格线\n",
    "ax.grid(True)\n",
    "\n",
    "plt.show()"
   ]
  },
  {
   "cell_type": "markdown",
   "metadata": {},
   "source": [
    "## 饼状图"
   ]
  },
  {
   "cell_type": "code",
   "execution_count": null,
   "metadata": {
    "scrolled": true
   },
   "outputs": [],
   "source": [
    "# 题目：此为某天三个分公司的销售额（万元），请用饼状图展示\n",
    "# data = [89,95,60]\n",
    "# labels = ['A','B','C']"
   ]
  },
  {
   "cell_type": "code",
   "execution_count": 78,
   "metadata": {},
   "outputs": [
    {
     "data": {
      "text/plain": [
       "<matplotlib.legend.Legend at 0x28a9e843d90>"
      ]
     },
     "execution_count": 78,
     "metadata": {},
     "output_type": "execute_result"
    },
    {
     "data": {
      "image/png": "[encoded data removed]",
      "text/plain": [
       "<Figure size 432x288 with 1 Axes>"
      ]
     },
     "metadata": {},
     "output_type": "display_data"
    }
   ],
   "source": [
    "data = [89, 15, 60]\n",
    "labels = ['A', 'B', 'C']\n",
    "plt.pie(data, autopct='%.2f%%', labels=labels)\n",
    "plt.legend()"
   ]
  },
  {
   "cell_type": "markdown",
   "metadata": {},
   "source": [
    "## 直方图"
   ]
  },
  {
   "cell_type": "code",
   "execution_count": null,
   "metadata": {
    "scrolled": true
   },
   "outputs": [],
   "source": [
    "# 题目：请画出下列数据的分布\n",
    "# 数据：\n",
    "# x = np.array([102,192,120,31,34,123,34,12,54,23])\n",
    "# 知识点：直方图"
   ]
  },
  {
   "cell_type": "code",
   "execution_count": 8,
   "metadata": {},
   "outputs": [
    {
     "data": {
      "text/plain": [
       "(array([2., 3., 1., 0., 0., 1., 2., 0., 0., 1.]),\n",
       " array([ 12.,  30.,  48.,  66.,  84., 102., 120., 138., 156., 174., 192.]),\n",
       " <BarContainer object of 10 artists>)"
      ]
     },
     "execution_count": 8,
     "metadata": {},
     "output_type": "execute_result"
    },
    {
     "data": {
      "image/png": "[encoded data removed]",
      "text/plain": [
       "<Figure size 432x288 with 1 Axes>"
      ]
     },
     "metadata": {
      "needs_background": "light"
     },
     "output_type": "display_data"
    }
   ],
   "source": [
    "x = np.array([102, 192, 120, 31, 34, 123, 34, 12, 54, 23])\n",
    "plt.hist(x)"
   ]
  },
  {
   "cell_type": "markdown",
   "metadata": {},
   "source": [
    "## 条形图"
   ]
  },
  {
   "cell_type": "code",
   "execution_count": null,
   "metadata": {
    "scrolled": true
   },
   "outputs": [],
   "source": [
    "# 请画出三种水果价格和数量的柱状图\n",
    "# raw_data = {'fruit': ['banana', 'apple', 'strawberry'],\n",
    "#             'price': [2,4,10],\n",
    "#             'number': [5,3,6],}"
   ]
  },
  {
   "cell_type": "code",
   "execution_count": 102,
   "metadata": {},
   "outputs": [
    {
     "data": {
      "text/plain": [
       "<matplotlib.legend.Legend at 0x2acb2fba0a0>"
      ]
     },
     "execution_count": 102,
     "metadata": {},
     "output_type": "execute_result"
    },
    {
     "data": {
      "image/png": "[encoded data removed]",
      "text/plain": [
       "<Figure size 432x288 with 1 Axes>"
      ]
     },
     "metadata": {},
     "output_type": "display_data"
    }
   ],
   "source": [
    "raw_data = {'fruit': ['banana', 'apple', 'strawberry'],\n",
    "            'price': [2, 4, 10],\n",
    "            'number': [5, 3, 6], }\n",
    "df = pd.DataFrame(raw_data)\n",
    "\n",
    "pos = list(range(len(df['fruit'])))\n",
    "width = 0.25\n",
    "plt.bar([p - width/2 for p in pos], df['price'],\n",
    "        width, color='#FFCCCC', label='price')\n",
    "plt.bar([p + width/2 for p in pos], df['number'],\n",
    "        width, color='#6699CC', label='number')\n",
    "plt.xticks(np.linspace(0, 2, 3), df['fruit'])\n",
    "plt.legend(['price', 'number'], loc='upper left')"
   ]
  },
  {
   "cell_type": "markdown",
   "metadata": {},
   "source": [
    "## 地理坐标图（省份）"
   ]
  },
  {
   "cell_type": "code",
   "execution_count": null,
   "metadata": {},
   "outputs": [],
   "source": [
    "# 画出中国的省份分布\n",
    "# 省份划分文件：https://github.com/dongli/china-shapefiles"
   ]
  },
  {
   "cell_type": "code",
   "execution_count": 14,
   "metadata": {
    "scrolled": true
   },
   "outputs": [
    {
     "data": {
      "image/png": "[encoded data removed]",
      "text/plain": [
       "<Figure size 432x288 with 1 Axes>"
      ]
     },
     "metadata": {},
     "output_type": "display_data"
    }
   ],
   "source": [
    "# plt.figure(figsize=(16, 8))\n",
    "m = Basemap(llcrnrlon=77, llcrnrlat=14, urcrnrlon=140, urcrnrlat=51,\n",
    "            projection='lcc', lat_1=33, lat_2=45, lon_0=100)\n",
    "# m= Basemap(llcrnrlon=73, llcrnrlat=18, urcrnrlon=135, urcrnrlat=53)\n",
    "m.drawcountries(linewidth=1.5)\n",
    "m.drawcoastlines()\n",
    "\n",
    "m3 = Basemap(llcrnrlon=77, llcrnrlat=14, urcrnrlon=140,\n",
    "             urcrnrlat=51, projection='lcc', lat_1=33, lat_2=45, lon_0=100)\n",
    "m3.readshapefile(\"./china-shape/china\",  'china', drawbounds=True)\n",
    "plt.show()"
   ]
  },
  {
   "cell_type": "markdown",
   "metadata": {},
   "source": [
    "## 漏斗图"
   ]
  },
  {
   "cell_type": "code",
   "execution_count": null,
   "metadata": {},
   "outputs": [],
   "source": [
    "# 用漏斗图分析用户购买流程中各个环节的转化率。\n",
    "# 数据：\n",
    "# data = pd.DataFrame(\n",
    "#     {\n",
    "#         '环节':['浏览商品', '放入购物车' ,'生成订单','支付订单', '完成交易'],\n",
    "#         '人数':[1000, 500, 300, 200,150]\n",
    "#     }\n",
    "# )"
   ]
  },
  {
   "cell_type": "code",
   "execution_count": 70,
   "metadata": {},
   "outputs": [
    {
     "data": {
      "image/png": "[encoded data removed]",
      "text/plain": [
       "<Figure size 864x576 with 1 Axes>"
      ]
     },
     "metadata": {
      "needs_background": "light"
     },
     "output_type": "display_data"
    }
   ],
   "source": [
    "from matplotlib.cbook import get_sample_data\n",
    "from matplotlib.offsetbox import (TextArea, DrawingArea, OffsetImage,\n",
    "                                  AnnotationBbox)\n",
    "from matplotlib.patches import Circle\n",
    "import matplotlib.pyplot as plt\n",
    "import numpy as np\n",
    "%matplotlib inline\n",
    "\n",
    "# 中文及负号处理\n",
    "plt.rcParams['font.sans-serif'] = 'Microsoft YaHei'\n",
    "plt.rcParams['axes.unicode_minus'] = False\n",
    "\n",
    "N = 5\n",
    "width = 0.55\n",
    "x1 = np.array([900, 700, 100, 100, 50])\n",
    "x2 = np.array((x1.max()-x1)/2)  # 占位\n",
    "# x1+x2\n",
    "x3 = []\n",
    "for i, j in zip(x1, x2):\n",
    "    x3.append(i+j)\n",
    "x3 = np.array(x3)\n",
    "\n",
    "\n",
    "y = -np.sort(-np.arange(N))  # 倒转y轴\n",
    "labels = ['浏览商品', '放入购物车', '生成订单', '支付订单', '完成交易']\n",
    "\n",
    "# figure\n",
    "fig = plt.figure(figsize=(12, 8))\n",
    "ax = fig.add_subplot(111)\n",
    "\n",
    "# plot\n",
    "ax.barh(y, x3, width, tick_label=labels, color='b', alpha=0.85)\n",
    "ax.plot(x3, y, 'red', alpha=0.6)\n",
    "ax.barh(y, x2, width, color='w', alpha=1)  # 辅助图\n",
    "ax.plot(x2, y, 'red', alpha=0.6)\n",
    "\n",
    "# setting\n",
    "transform = []\n",
    "for i in range(0, len(x1)):\n",
    "    if i < len(x1)-1:\n",
    "        transform.append('%.2f%%' % ((x1[i+1]/x1[i])*100))\n",
    "l = [(500, 3), (500, 2), (500, 1), (500, 0)]\n",
    "for a, b in zip(transform, l):\n",
    "    offsetbox = TextArea(a, minimumdescent=False)\n",
    "    ab = AnnotationBbox(offsetbox, b,\n",
    "                        xybox=(0, 40),\n",
    "                        boxcoords=\"offset points\",\n",
    "                        arrowprops=dict(arrowstyle=\"->\"))\n",
    "    ax.add_artist(ab)\n",
    "ax.set_xticks([0, 1000])\n",
    "ax.set_yticks(y)\n",
    "\n",
    "plt.show()"
   ]
  },
  {
   "cell_type": "markdown",
   "metadata": {},
   "source": [
    "## 曲面图"
   ]
  },
  {
   "cell_type": "code",
   "execution_count": null,
   "metadata": {},
   "outputs": [],
   "source": [
    "# 请画出一个莫比乌斯环"
   ]
  },
  {
   "cell_type": "code",
   "execution_count": 25,
   "metadata": {
    "scrolled": true
   },
   "outputs": [
    {
     "data": {
      "image/png": "[encoded data removed]",
      "text/plain": [
       "<Figure size 432x288 with 1 Axes>"
      ]
     },
     "metadata": {
      "needs_background": "light"
     },
     "output_type": "display_data"
    }
   ],
   "source": [
    "from matplotlib.tri import Triangulation\n",
    "theta = np.linspace(0, 2 * np.pi, 30)\n",
    "w = np.linspace(-0.25, 0.25, 8)\n",
    "w, theta = np.meshgrid(w, theta)\n",
    "\n",
    "phi = 0.5 * theta\n",
    "\n",
    "# radius in x-y plane\n",
    "r = 1 + w * np.cos(phi)\n",
    "\n",
    "x = np.ravel(r * np.cos(theta))\n",
    "y = np.ravel(r * np.sin(theta))\n",
    "z = np.ravel(w * np.sin(phi))\n",
    "\n",
    "# triangulate in the underlying parametrization\n",
    "tri = Triangulation(np.ravel(w), np.ravel(theta))\n",
    "\n",
    "ax = plt.axes(projection='3d')\n",
    "ax.plot_trisurf(x, y, z, triangles=tri.triangles,\n",
    "                cmap='viridis', linewidths=0.2)\n",
    "\n",
    "ax.set_xlim(-1, 1)\n",
    "ax.set_ylim(-1, 1)\n",
    "ax.set_zlim(-1, 1)"
   ]
  },
  {
   "cell_type": "markdown",
   "metadata": {},
   "source": [
    "## 箱线图"
   ]
  },
  {
   "cell_type": "code",
   "execution_count": null,
   "metadata": {},
   "outputs": [],
   "source": [
    "# 请将下列数据用箱线图进行表示：\n",
    "\n",
    "# data_1 = np.random.normal(100, 10, 200)\n",
    "# data_2 = np.random.normal(90, 20, 200)\n",
    "# data_3 = np.random.normal(80, 30, 200)\n",
    "# data_4 = np.random.normal(70, 40, 200)\n",
    "# data = [data_1, data_2, data_3, data_4]"
   ]
  },
  {
   "cell_type": "code",
   "execution_count": 29,
   "metadata": {
    "scrolled": true
   },
   "outputs": [
    {
     "data": {
      "image/png": "[encoded data removed]",
      "text/plain": [
       "<Figure size 720x504 with 1 Axes>"
      ]
     },
     "metadata": {
      "needs_background": "light"
     },
     "output_type": "display_data"
    }
   ],
   "source": [
    "# Creating dataset\n",
    "np.random.seed(10)\n",
    "\n",
    "data_1 = np.random.normal(100, 10, 200)\n",
    "data_2 = np.random.normal(90, 20, 200)\n",
    "data_3 = np.random.normal(80, 30, 200)\n",
    "data_4 = np.random.normal(70, 40, 200)\n",
    "data = [data_1, data_2, data_3, data_4]\n",
    "\n",
    "fig = plt.figure(figsize=(10, 7))\n",
    "\n",
    "# Creating axes instance\n",
    "ax = fig.add_axes([0, 0, 1, 1])\n",
    "\n",
    "# Creating plot\n",
    "bp = ax.boxplot(data)\n",
    "\n",
    "# show plot\n",
    "plt.show()"
   ]
  },
  {
   "cell_type": "markdown",
   "metadata": {},
   "source": [
    "## 密度图与等高线图"
   ]
  },
  {
   "cell_type": "code",
   "execution_count": null,
   "metadata": {},
   "outputs": [],
   "source": [
    "# 题目：请将下列数据画为等高线图\n",
    "# xlist = np.linspace(-3.0, 3.0, 100)\n",
    "# ylist = np.linspace(-3.0, 3.0, 100)"
   ]
  },
  {
   "cell_type": "code",
   "execution_count": 30,
   "metadata": {
    "scrolled": true
   },
   "outputs": [
    {
     "data": {
      "image/png": "[encoded data removed]",
      "text/plain": [
       "<Figure size 432x288 with 2 Axes>"
      ]
     },
     "metadata": {
      "needs_background": "light"
     },
     "output_type": "display_data"
    }
   ],
   "source": [
    "xlist = np.linspace(-3.0, 3.0, 100)\n",
    "ylist = np.linspace(-3.0, 3.0, 100)\n",
    "X, Y = np.meshgrid(xlist, ylist)\n",
    "Z = np.sqrt(X**2 + Y**2)\n",
    "fig, ax = plt.subplots(1, 1)\n",
    "cp = ax.contourf(X, Y, Z)\n",
    "fig.colorbar(cp)  # Add a colorbar to a plot\n",
    "ax.set_title('Filled Contours Plot')\n",
    "#ax.set_xlabel('x (cm)')\n",
    "ax.set_ylabel('y (cm)')\n",
    "plt.show()"
   ]
  },
  {
   "cell_type": "markdown",
   "metadata": {},
   "source": [
    "## 图形内的文字、注释"
   ]
  },
  {
   "cell_type": "code",
   "execution_count": null,
   "metadata": {
    "scrolled": true
   },
   "outputs": [],
   "source": [
    "# 请画出sin(x) 和 cos(x) ，并进行使用图例进行标注"
   ]
  },
  {
   "cell_type": "code",
   "execution_count": 91,
   "metadata": {},
   "outputs": [
    {
     "data": {
      "text/plain": [
       "<matplotlib.legend.Legend at 0x28aa006d370>"
      ]
     },
     "execution_count": 91,
     "metadata": {},
     "output_type": "execute_result"
    },
    {
     "data": {
      "image/png": "[encoded data removed]",
      "text/plain": [
       "<Figure size 432x288 with 1 Axes>"
      ]
     },
     "metadata": {},
     "output_type": "display_data"
    }
   ],
   "source": [
    "plt.style.use('seaborn-whitegrid')\n",
    "x = np.linspace(0, 10, 1000)\n",
    "plt.plot(x, np.sin(x), label=\"sin(x)\")\n",
    "plt.plot(x, np.cos(x), label=\"cos(x)\")\n",
    "plt.legend()"
   ]
  }
 ],
 "metadata": {
  "kernelspec": {
   "display_name": "Python 3.8.5",
   "language": "python",
   "name": "python3"
  },
  "language_info": {
   "codemirror_mode": {
    "name": "ipython",
    "version": 3
   },
   "file_extension": ".py",
   "mimetype": "text/x-python",
   "name": "python",
   "nbconvert_exporter": "python",
   "pygments_lexer": "ipython3",
   "version": "3.8.5"
  },
  "toc": {
   "base_numbering": 1,
   "nav_menu": {},
   "number_sections": true,
   "sideBar": true,
   "skip_h1_title": false,
   "title_cell": "Table of Contents",
   "title_sidebar": "Contents",
   "toc_cell": false,
   "toc_position": {
    "height": "calc(100% - 180px)",
    "left": "10px",
    "top": "150px",
    "width": "309.933px"
   },
   "toc_section_display": true,
   "toc_window_display": true
  }
 },
 "nbformat": 4,
 "nbformat_minor": 4
}
