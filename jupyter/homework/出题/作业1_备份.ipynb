{
 "cells": [
  {
   "cell_type": "code",
   "execution_count": 20,
   "metadata": {},
   "outputs": [],
   "source": [
    "import numpy as np\n",
    "import pandas as pd"
   ]
  },
  {
   "cell_type": "markdown",
   "metadata": {},
   "source": [
    "# NumPy标准数据类型"
   ]
  },
  {
   "cell_type": "markdown",
   "metadata": {},
   "source": [
    "1.1 题目：观察下列数据，请创建一个数组包含一下所有数据，并且要保证花费内存最小，同时输出对象占用的字节数\n",
    "```\n",
    "数据： 141,2,3,46,4,5,31,10\n",
    "```\n",
    "- 知识点：\n",
    "    - numpy数组的创建\n",
    "    - numpy的基本数据类型"
   ]
  },
  {
   "cell_type": "code",
   "execution_count": 6,
   "metadata": {},
   "outputs": [
    {
     "data": {
      "text/plain": [
       "8"
      ]
     },
     "execution_count": 6,
     "metadata": {},
     "output_type": "execute_result"
    }
   ],
   "source": [
    "solve1 = np.array([141, 2, 3, 46, 4, 5, 312, 10], dtype='uint8')\n",
    "solve1.nbytes"
   ]
  },
  {
   "cell_type": "markdown",
   "metadata": {},
   "source": [
    "# NumPy数组基础"
   ]
  },
  {
   "cell_type": "markdown",
   "metadata": {},
   "source": [
    "2.1 题目：请使用切片方式，不使用临时变量，将下面二维数组进行转置\n",
    "```py\n",
    "np.random.seed(42)\n",
    "solve2 = np.random.randint(0,101,(5,5),dtype='int8')\n",
    "```\n",
    "- 知识点：\n",
    "    - 切片的使用\n",
    "    - 切片后不是拷贝的理解\n",
    "    - 异或的使用"
   ]
  },
  {
   "cell_type": "code",
   "execution_count": 79,
   "metadata": {},
   "outputs": [
    {
     "name": "stdout",
     "output_type": "stream",
     "text": [
      "[[92 97 95 51 61]\n",
      " [75 92  3 98 14]\n",
      " [21 46 99 59 71]\n",
      " [84 25 71 60 46]\n",
      " [65 25 20 44 75]]\n",
      "\n",
      "[[92 75 21 84 65]\n",
      " [97 92 46 25 25]\n",
      " [95  3 99 71 20]\n",
      " [51 98 59 60 44]\n",
      " [61 14 71 46 75]]\n"
     ]
    }
   ],
   "source": [
    "np.random.seed(42)\n",
    "solve2 = np.random.randint(0, 101, (5, 5), dtype='int8')\n",
    "print(solve2)\n",
    "print()\n",
    "for i in range(solve2.shape[0]-1):\n",
    "    # 注意，这里要为i+1，而不是1，因为行和列公用[n,n]上的值\n",
    "    solve2[i, i+1:solve2.shape[1]] = solve2[i, i +\n",
    "                                            1:solve2.shape[1]] ^ solve2[i+1:solve2.shape[0], i]\n",
    "    solve2[i+1:solve2.shape[0], i] = solve2[i, i +\n",
    "                                            1:solve2.shape[1]] ^ solve2[i+1:solve2.shape[0], i]\n",
    "    solve2[i, i+1:solve2.shape[1]] = solve2[i, i +\n",
    "                                            1:solve2.shape[1]] ^ solve2[i+1:solve2.shape[0], i]\n",
    "print(solve2)"
   ]
  },
  {
   "cell_type": "markdown",
   "metadata": {},
   "source": [
    "# NumPy数组的计算：通用函数"
   ]
  },
  {
   "cell_type": "markdown",
   "metadata": {},
   "source": [
    "3.1 题目 使用np通用函数计算 ((A+B)*(-B/2))\n",
    "```py\n",
    "A = np.ones(3) * 1\n",
    "B = np.ones(3) * 1\n",
    "```"
   ]
  },
  {
   "cell_type": "code",
   "execution_count": 19,
   "metadata": {},
   "outputs": [
    {
     "data": {
      "text/plain": [
       "array([-1., -1., -1.])"
      ]
     },
     "execution_count": 19,
     "metadata": {},
     "output_type": "execute_result"
    }
   ],
   "source": [
    "A = np.ones(3) * 1\n",
    "B = np.ones(3) * 1\n",
    "np.multiply(np.add(A,B),np.divide(-B,2))"
   ]
  },
  {
   "cell_type": "markdown",
   "metadata": {},
   "source": [
    "# numpy高级的通用函数特性"
   ]
  },
  {
   "cell_type": "markdown",
   "metadata": {},
   "source": [
    "4.1 题目：对于一个小数组，用比 np.sum更快的方式对其求和\n",
    "```py\n",
    "# 数据：\n",
    "solve4 = np.random.randint(5,size=(6,))\n",
    "```\n",
    "- 知识点：\n",
    "    - 聚合函数"
   ]
  },
  {
   "cell_type": "code",
   "execution_count": 14,
   "metadata": {},
   "outputs": [
    {
     "data": {
      "text/plain": [
       "17"
      ]
     },
     "execution_count": 14,
     "metadata": {},
     "output_type": "execute_result"
    }
   ],
   "source": [
    "solve4 = np.random.randint(5, size=(6,))\n",
    "np.add.reduce(solve4)"
   ]
  },
  {
   "cell_type": "markdown",
   "metadata": {},
   "source": [
    "# 聚合：最小值、最大值和其他值"
   ]
  },
  {
   "cell_type": "markdown",
   "metadata": {},
   "source": [
    "5.1 题目：请返回和最小的列\n",
    "```py\n",
    "# 数据\n",
    "np.random.randint(0,100,(5,5))\n",
    "```\n",
    "- 知识点\n",
    "    - 多维聚合\n",
    "    - 聚合函数的使用"
   ]
  },
  {
   "cell_type": "code",
   "execution_count": 22,
   "metadata": {},
   "outputs": [
    {
     "data": {
      "text/plain": [
       "4"
      ]
     },
     "execution_count": 22,
     "metadata": {},
     "output_type": "execute_result"
    }
   ],
   "source": [
    "np.random.seed(42)\n",
    "solve5 = np.random.randint(0, 100, (5, 5))\n",
    "np.argmin(solve5.sum(axis=1))"
   ]
  },
  {
   "cell_type": "markdown",
   "metadata": {},
   "source": [
    "# 数组的计算：广播"
   ]
  },
  {
   "cell_type": "markdown",
   "metadata": {},
   "source": [
    "6.1题目：请用切片取出下方数据中心9个数\n",
    "```py\n",
    "# 数据\n",
    "np.random.seed(42)\n",
    "solve6 = np.random.randint(1,100,size=[5,5])\n",
    "```"
   ]
  },
  {
   "cell_type": "code",
   "execution_count": 34,
   "metadata": {},
   "outputs": [
    {
     "name": "stdout",
     "output_type": "stream",
     "text": [
      "[[52 93 15 72 61]\n",
      " [21 83 87 75 75]\n",
      " [88 24  3 22 53]\n",
      " [ 2 88 30 38  2]\n",
      " [64 60 21 33 76]]\n"
     ]
    },
    {
     "data": {
      "text/plain": [
       "array([[83, 87, 75],\n",
       "       [24,  3, 22],\n",
       "       [88, 30, 38]])"
      ]
     },
     "execution_count": 34,
     "metadata": {},
     "output_type": "execute_result"
    }
   ],
   "source": [
    "np.random.seed(42)\n",
    "solve6 = np.random.randint(1, 100, size=[5, 5])\n",
    "print(solve6)\n",
    "\n",
    "solve6[np.arange(1, 4).reshape(3, 1), np.arange(1, 4).reshape(1, 3)]\n",
    "# 或者：solve6[np.arange(1,4).reshape(1,3),np.arange(1,4).reshape(3,1)]"
   ]
  },
  {
   "cell_type": "markdown",
   "metadata": {},
   "source": [
    "# 比较、掩码和布尔逻辑"
   ]
  },
  {
   "cell_type": "markdown",
   "metadata": {},
   "source": [
    "7.1题目；给定一个数组[2,5,1,5,3,7,1],请把当中的偶数以及3-6之间元素取反"
   ]
  },
  {
   "cell_type": "code",
   "execution_count": 45,
   "metadata": {},
   "outputs": [
    {
     "name": "stdout",
     "output_type": "stream",
     "text": [
      "[-2 -5  1 -5  3  7  1]\n"
     ]
    }
   ],
   "source": [
    "solve7 = np.array([2, 5, 1, 5, 3, 7, 1])\n",
    "solve7[solve7 % 2 == 0 | ((solve7 > 3) & (solve7 < 6))] *= -1\n",
    "print(solve7)"
   ]
  },
  {
   "cell_type": "markdown",
   "metadata": {},
   "source": [
    "# 花哨的索引"
   ]
  },
  {
   "cell_type": "markdown",
   "metadata": {},
   "source": [
    "8.1题目：取出下列数据的删除头尾的第二、倒数第二行的倒序"
   ]
  },
  {
   "cell_type": "code",
   "execution_count": 76,
   "metadata": {},
   "outputs": [
    {
     "name": "stdout",
     "output_type": "stream",
     "text": [
      "[[29 12 14 24 87]\n",
      " [29 33 70 12 92]\n",
      " [36 98 34  6 17]\n",
      " [12 55 47 43 62]\n",
      " [46 80 55 77 64]]\n",
      "\n",
      "[[12 70 33]\n",
      " [43 47 55]]\n"
     ]
    }
   ],
   "source": [
    "np.random.seed(52)\n",
    "solve8 = np.random.randint(1, 100, (5, 5))\n",
    "print(solve8, end=\"\\n\\n\")\n",
    "print(solve8[[1, -2], -2:0:-1])"
   ]
  },
  {
   "cell_type": "markdown",
   "metadata": {},
   "source": [
    "# 数组的排序"
   ]
  },
  {
   "cell_type": "markdown",
   "metadata": {},
   "source": [
    "9.1 题目：如何通过第1列对下列数据进行排序? \n",
    "```py\n",
    "np.random.seed(42)\n",
    "Z = np.random.randint(0,10,(3,3))\n",
    "```"
   ]
  },
  {
   "cell_type": "code",
   "execution_count": 77,
   "metadata": {},
   "outputs": [
    {
     "name": "stdout",
     "output_type": "stream",
     "text": [
      "[[6 3 7]\n",
      " [4 6 9]\n",
      " [2 6 7]]\n",
      "[[6 3 7]\n",
      " [4 6 9]\n",
      " [2 6 7]]\n"
     ]
    }
   ],
   "source": [
    "np.random.seed(42)\n",
    "Z = np.random.randint(0, 10, (3, 3))\n",
    "print(Z)\n",
    "print(Z[Z[:, 1].argsort()])"
   ]
  },
  {
   "cell_type": "markdown",
   "metadata": {},
   "source": [
    "# 结构化数据：NumPy的结构化数组"
   ]
  },
  {
   "cell_type": "markdown",
   "metadata": {},
   "source": [
    "10.1 题目:请将下列四个人的数据保存到一个结构化数组中\n",
    "```py\n",
    "name = ['Alice', 'Bob', 'Cathy', 'Doug']\n",
    "age = [25, 45, 37, 19]\n",
    "weight = [55.0, 85.5, 68.0, 61.5]\n",
    "````"
   ]
  },
  {
   "cell_type": "code",
   "execution_count": 8,
   "metadata": {},
   "outputs": [
    {
     "data": {
      "text/plain": [
       "array([('Alice', 25, 55. ), ('Bob', 45, 85.5), ('Cathy', 37, 68. ),\n",
       "       ('Doug', 19, 61.5)],\n",
       "      dtype=[('name', '<U10'), ('age', '<i4'), ('weight', '<f8')])"
      ]
     },
     "execution_count": 8,
     "metadata": {},
     "output_type": "execute_result"
    }
   ],
   "source": [
    "name = ['Alice', 'Bob', 'Cathy', 'Doug']\n",
    "age = [25, 45, 37, 19]\n",
    "weight = [55.0, 85.5, 68.0, 61.5]\n",
    "\n",
    "data = np.zeros(4, dtype={'names': ('name', 'age', 'weight'),\n",
    "                          'formats': ('U10', 'i4', 'f8')})\n",
    "\n",
    "data['name'] = name\n",
    "data['age'] = age\n",
    "data['weight'] = weight\n",
    "data"
   ]
  },
  {
   "cell_type": "markdown",
   "metadata": {},
   "source": [
    "# 数组的转置和轴对换"
   ]
  },
  {
   "cell_type": "markdown",
   "metadata": {},
   "source": [
    "11.1 题目：请写出数组转置的三种方法\n",
    "```\n",
    "\n",
    "```"
   ]
  },
  {
   "cell_type": "code",
   "execution_count": null,
   "metadata": {},
   "outputs": [],
   "source": []
  },
  {
   "cell_type": "markdown",
   "metadata": {},
   "source": [
    "# Numpy的去重与重复函数"
   ]
  },
  {
   "cell_type": "markdown",
   "metadata": {},
   "source": [
    "12.1 题目：计算下面两个数组总有多少个互不相同的数\n",
    "```py\n",
    "np.random.seed(42)\n",
    "arr1 = np.random.randint(1,100,(50,))\n",
    "\n",
    "np.random.seed(24)\n",
    "arr2 = np.random.randint(1,100,(50,))\n",
    "```"
   ]
  },
  {
   "cell_type": "code",
   "execution_count": 17,
   "metadata": {},
   "outputs": [
    {
     "data": {
      "text/plain": [
       "65"
      ]
     },
     "execution_count": 17,
     "metadata": {},
     "output_type": "execute_result"
    }
   ],
   "source": [
    "np.random.seed(42)\n",
    "arr1 = np.random.randint(1,100,(50,))\n",
    "\n",
    "np.random.seed(24)\n",
    "arr2 = np.random.randint(1,100,(50,))\n",
    "\n",
    "np.unique(np.concatenate((arr1,arr2),axis=0)).shape[0]"
   ]
  },
  {
   "cell_type": "markdown",
   "metadata": {},
   "source": [
    "# 伪随机数生成"
   ]
  },
  {
   "cell_type": "code",
   "execution_count": null,
   "metadata": {},
   "outputs": [],
   "source": []
  }
 ],
 "metadata": {
  "kernelspec": {
   "display_name": "Python 3.8.5",
   "language": "python",
   "name": "python3"
  },
  "language_info": {
   "codemirror_mode": {
    "name": "ipython",
    "version": 3
   },
   "file_extension": ".py",
   "mimetype": "text/x-python",
   "name": "python",
   "nbconvert_exporter": "python",
   "pygments_lexer": "ipython3",
   "version": "3.8.5"
  },
  "toc": {
   "base_numbering": 1,
   "nav_menu": {},
   "number_sections": true,
   "sideBar": true,
   "skip_h1_title": false,
   "title_cell": "Table of Contents",
   "title_sidebar": "Contents",
   "toc_cell": false,
   "toc_position": {},
   "toc_section_display": true,
   "toc_window_display": true
  }
 },
 "nbformat": 4,
 "nbformat_minor": 4
}
