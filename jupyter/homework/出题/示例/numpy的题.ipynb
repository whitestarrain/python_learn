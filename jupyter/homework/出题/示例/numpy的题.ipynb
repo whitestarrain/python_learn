{
 "cells": [
  {
   "cell_type": "code",
   "execution_count": 2,
   "metadata": {},
   "outputs": [],
   "source": [
    "import numpy as np\n",
    "import pandas as pd"
   ]
  },
  {
   "cell_type": "code",
   "execution_count": 7,
   "metadata": {},
   "outputs": [
    {
     "name": "stdout",
     "output_type": "stream",
     "text": [
      "[0. 0. 0. 0. 0. 0. 0. 0. 0. 0.]\n",
      "[0. 0. 0. 0. 0. 0. 0. 0. 0. 0.]\n",
      "[[5. 5. 5. 5. 5.]\n",
      " [5. 5. 5. 5. 5.]]\n"
     ]
    }
   ],
   "source": [
    "#创建一个大小为10的空向量\n",
    "print(np.empty(10))\n",
    "print(np.zeros(10))\n",
    "print(np.full((2,5),5.0))\n",
    "#一.python中的数据类型\n",
    "#知识点：创建数组\n",
    "# np.empty 构造一个大小为 shape 的未初始化数组,\n",
    "# np.zeros 构造一个大小为 shape 的全0数组,\n",
    "# np.ones 构造一个大小为 shape 的全1数组,\n",
    "# np.ones 构造一个大小为 shape 的全1数组,\n",
    "# np.full 构造一个大小为 shape 的用指定值填满的数组"
   ]
  },
  {
   "cell_type": "code",
   "execution_count": 31,
   "metadata": {},
   "outputs": [
    {
     "name": "stdout",
     "output_type": "stream",
     "text": [
      "24\n",
      "12\n"
     ]
    }
   ],
   "source": [
    "#查看数组占用内存大小\n",
    "#二.numpy数据基础\n",
    "#每个数据元素字节的大小itemsize，nbytes总大小\n",
    "# hint 每个元素点用内存大小乘以元素个数\n",
    "sample4_1 = np.empty((3, 2), np.uint32)\n",
    "sample4_2 = np.empty((3, 2), np.float16)\n",
    "print(sample4_1.itemsize * sample4_1.size)\n",
    "print(sample4_2.itemsize * sample4_2.size)"
   ]
  },
  {
   "cell_type": "code",
   "execution_count": 10,
   "metadata": {},
   "outputs": [
    {
     "name": "stdout",
     "output_type": "stream",
     "text": [
      "add(x1, x2, /, out=None, *, where=True, casting='same_kind', order='K', dtype=None, subok=True[, signature, extobj])\n",
      "\n",
      "Add arguments element-wise.\n",
      "\n",
      "Parameters\n",
      "----------\n",
      "x1, x2 : array_like\n",
      "    The arrays to be added. If ``x1.shape != x2.shape``, they must be broadcastable to a common shape (which becomes the shape of the output).\n",
      "out : ndarray, None, or tuple of ndarray and None, optional\n",
      "    A location into which the result is stored. If provided, it must have\n",
      "    a shape that the inputs broadcast to. If not provided or None,\n",
      "    a freshly-allocated array is returned. A tuple (possible only as a\n",
      "    keyword argument) must have length equal to the number of outputs.\n",
      "where : array_like, optional\n",
      "    This condition is broadcast over the input. At locations where the\n",
      "    condition is True, the `out` array will be set to the ufunc result.\n",
      "    Elsewhere, the `out` array will retain its original value.\n",
      "    Note that if an uninitialized `out` array is created via the default\n",
      "    ``out=None``, locations within it where the condition is False will\n",
      "    remain uninitialized.\n",
      "**kwargs\n",
      "    For other keyword-only arguments, see the\n",
      "    :ref:`ufunc docs <ufuncs.kwargs>`.\n",
      "\n",
      "Returns\n",
      "-------\n",
      "add : ndarray or scalar\n",
      "    The sum of `x1` and `x2`, element-wise.\n",
      "    This is a scalar if both `x1` and `x2` are scalars.\n",
      "\n",
      "Notes\n",
      "-----\n",
      "Equivalent to `x1` + `x2` in terms of array broadcasting.\n",
      "\n",
      "Examples\n",
      "--------\n",
      ">>> np.add(1.0, 4.0)\n",
      "5.0\n",
      ">>> x1 = np.arange(9.0).reshape((3, 3))\n",
      ">>> x2 = np.arange(3.0)\n",
      ">>> np.add(x1, x2)\n",
      "array([[  0.,   2.,   4.],\n",
      "       [  3.,   5.,   7.],\n",
      "       [  6.,   8.,  10.]])\n"
     ]
    }
   ],
   "source": [
    "#查看numpy中add函数的用法\n",
    "#三、Numpy数组的计算：通用函数\n",
    "# 使用 np.info函数可以查询函数，类，模块的文档\n",
    "np.info(np.add)"
   ]
  },
  {
   "cell_type": "code",
   "execution_count": 11,
   "metadata": {},
   "outputs": [
    {
     "name": "stdout",
     "output_type": "stream",
     "text": [
      "[0. 0. 0. 0. 1. 0. 0. 0. 0. 0.]\n"
     ]
    }
   ],
   "source": [
    "#创建一个大小为10的空向量，将第5个值设为1\n",
    "#一、理解Python种的数据类型\n",
    "#二、NumPy数组基础\n",
    "#知识点：创建数组、数组索引获取单个元素修改元素值\n",
    "sample = np.zeros(10)\n",
    "sample[4] = 1\n",
    "print(sample)"
   ]
  },
  {
   "cell_type": "code",
   "execution_count": 12,
   "metadata": {},
   "outputs": [
    {
     "name": "stdout",
     "output_type": "stream",
     "text": [
      "[10 11 12 13 14 15 16 17 18 19 20 21 22 23 24 25 26 27 28 29 30 31 32 33\n",
      " 34 35 36 37 38 39 40 41 42 43 44 45 46 47 48 49]\n"
     ]
    }
   ],
   "source": [
    "#用10到49的序列构建一个向量\n",
    "#一、理解Python种的数据类型\n",
    "#二、NumPy数组基础\n",
    "#知识点：主要是第二节的切分，不包含stop的值\n",
    "sample2 = np.arange(10, 50) \n",
    "# arange 同样不包含stop的值。\n",
    "print(sample2)"
   ]
  },
  {
   "cell_type": "code",
   "execution_count": 13,
   "metadata": {
    "scrolled": true
   },
   "outputs": [
    {
     "name": "stdout",
     "output_type": "stream",
     "text": [
      "[0 1 2 3 4 5 6 7 8 9]\n",
      "[9 8 7 6 5 4 3 2 1 0]\n"
     ]
    }
   ],
   "source": [
    "#将一个数组变换倒序（最后一个元素成为第一个元素）\n",
    "#二、NumPy数组基础\n",
    "#知识点：数组切片\n",
    "# hint  这里是python的切片[起：止：间隔]\n",
    "# print(np.arange(10)[::1]) 正常输出\n",
    "# print(np.arange(10)[0::1]) 与上面相同\n",
    "# print(np.arange(10)[1::1]) 从第二个元素开始到最后一个\n",
    "# print(np.arange(10)[1::-1]) 从第二个元素开始倒序输出\n",
    "# print(np.arange(10)[::-2]) 从最后一个元素起，间隔一个输出\n",
    "print(np.arange(10))\n",
    "print(np.arange(10)[::-1])"
   ]
  },
  {
   "cell_type": "code",
   "execution_count": 14,
   "metadata": {},
   "outputs": [
    {
     "name": "stdout",
     "output_type": "stream",
     "text": [
      "[[0 1 2]\n",
      " [3 4 5]\n",
      " [6 7 8]]\n"
     ]
    }
   ],
   "source": [
    "#用0-8这9个数构造一个3x3大小的矩阵\n",
    "#二、NumPy数组基础\n",
    "#知识点：数组变形\n",
    "# reshape 可以允许有一个参数为-1 ，系统会依据元素个数进行换算\n",
    "sample3 = np.arange(9).reshape((3, -1))\n",
    "print(sample3)"
   ]
  },
  {
   "cell_type": "code",
   "execution_count": 15,
   "metadata": {},
   "outputs": [
    {
     "name": "stdout",
     "output_type": "stream",
     "text": [
      "(array([0, 1, 4], dtype=int64),)\n"
     ]
    }
   ],
   "source": [
    "#从数组[1,2,0,0,4,0]中找出非0元素的下标\n",
    "#六、比较、掩码、和布尔逻辑\n",
    "#知识点：统计记录的个数布尔数组\n",
    "print(np.nonzero([1, 2, 0, 0, 4, 0]))"
   ]
  },
  {
   "cell_type": "code",
   "execution_count": 16,
   "metadata": {},
   "outputs": [
    {
     "name": "stdout",
     "output_type": "stream",
     "text": [
      "[[1. 0. 0.]\n",
      " [0. 1. 0.]\n",
      " [0. 0. 1.]]\n",
      "[[1. 0. 0.]\n",
      " [0. 1. 0.]\n",
      " [0. 0. 1.]]\n"
     ]
    }
   ],
   "source": [
    "#创建3x3的对角矩阵（没在书的范围里）\n",
    "#一、理解Python种的数据类型\n",
    "#知识点：多维数组\n",
    "# identity 只能创建方阵，eye要灵活一些，可以创建NxM的矩阵，也可以控制对角线的位置\n",
    "print(np.identity(3))\n",
    "print(np.eye(3,3,0))  #默认第一个和第二个参数相等，第三个参数为对角线位置"
   ]
  },
  {
   "cell_type": "code",
   "execution_count": 45,
   "metadata": {},
   "outputs": [
    {
     "name": "stdout",
     "output_type": "stream",
     "text": [
      "[[[0.5488135  0.71518937 0.60276338]\n",
      "  [0.54488318 0.4236548  0.64589411]\n",
      "  [0.43758721 0.891773   0.96366276]]\n",
      "\n",
      " [[0.38344152 0.79172504 0.52889492]\n",
      "  [0.56804456 0.92559664 0.07103606]\n",
      "  [0.0871293  0.0202184  0.83261985]]\n",
      "\n",
      " [[0.77815675 0.87001215 0.97861834]\n",
      "  [0.79915856 0.46147936 0.78052918]\n",
      "  [0.11827443 0.63992102 0.14335329]]]\n"
     ]
    }
   ],
   "source": [
    "#用随机数创建一个3x3x3的矩阵，(np.random.seed(0))\n",
    "#一、理解Python种的数据类型\n",
    "#知识点：多维数组、随机数\n",
    "np.random.seed(0)\n",
    "print(np.random.random((3, 3, 3)))"
   ]
  },
  {
   "cell_type": "code",
   "execution_count": 43,
   "metadata": {},
   "outputs": [
    {
     "name": "stdout",
     "output_type": "stream",
     "text": [
      "[[0.5488135  0.71518937 0.60276338 0.54488318 0.4236548  0.64589411\n",
      "  0.43758721 0.891773   0.96366276 0.38344152]\n",
      " [0.79172504 0.52889492 0.56804456 0.92559664 0.07103606 0.0871293\n",
      "  0.0202184  0.83261985 0.77815675 0.87001215]\n",
      " [0.97861834 0.79915856 0.46147936 0.78052918 0.11827443 0.63992102\n",
      "  0.14335329 0.94466892 0.52184832 0.41466194]\n",
      " [0.26455561 0.77423369 0.45615033 0.56843395 0.0187898  0.6176355\n",
      "  0.61209572 0.616934   0.94374808 0.6818203 ]\n",
      " [0.3595079  0.43703195 0.6976312  0.06022547 0.66676672 0.67063787\n",
      "  0.21038256 0.1289263  0.31542835 0.36371077]\n",
      " [0.57019677 0.43860151 0.98837384 0.10204481 0.20887676 0.16130952\n",
      "  0.65310833 0.2532916  0.46631077 0.24442559]\n",
      " [0.15896958 0.11037514 0.65632959 0.13818295 0.19658236 0.36872517\n",
      "  0.82099323 0.09710128 0.83794491 0.09609841]\n",
      " [0.97645947 0.4686512  0.97676109 0.60484552 0.73926358 0.03918779\n",
      "  0.28280696 0.12019656 0.2961402  0.11872772]\n",
      " [0.31798318 0.41426299 0.0641475  0.69247212 0.56660145 0.26538949\n",
      "  0.52324805 0.09394051 0.5759465  0.9292962 ]\n",
      " [0.31856895 0.66741038 0.13179786 0.7163272  0.28940609 0.18319136\n",
      "  0.58651293 0.02010755 0.82894003 0.00469548]]\n",
      "0.9883738380592262 0.004695476192547066\n"
     ]
    }
   ],
   "source": [
    "#创建一个10x10的随机数矩阵，并找到最大值和最小值(np.random.seed(0))\n",
    "#一、理解Python种的数据类型\n",
    "#四、聚合：最小值、最大值和其他值\n",
    "#知识点：多维数组、随机数、最大值、最小值\n",
    "np.random.seed(0)\n",
    "sample13 = np.random.random((10, 10))\n",
    "print(sample13)\n",
    "print(sample13.max(), np.min(sample13))"
   ]
  },
  {
   "cell_type": "code",
   "execution_count": 42,
   "metadata": {},
   "outputs": [
    {
     "name": "stdout",
     "output_type": "stream",
     "text": [
      "0.5825186271316452\n"
     ]
    }
   ],
   "source": [
    "#创建一个大小为30的数组，并计算其算术平均值\n",
    "#三、Numpy数组的计算：通用函数\n",
    "#知识点：\n",
    "# mean计算算术平均值 average 计算加权平均值np.average(np.arange(1, 11) , weights=np.arange(10, 0, -1))\n",
    "print(np.random.random(30).mean())"
   ]
  },
  {
   "cell_type": "code",
   "execution_count": 21,
   "metadata": {},
   "outputs": [
    {
     "name": "stdout",
     "output_type": "stream",
     "text": [
      "[[1. 1. 1. 1. 1.]\n",
      " [1. 1. 1. 1. 1.]\n",
      " [1. 1. 1. 1. 1.]\n",
      " [1. 1. 1. 1. 1.]\n",
      " [1. 1. 1. 1. 1.]]\n",
      "[[1. 1. 1. 1. 1.]\n",
      " [1. 0. 0. 0. 1.]\n",
      " [1. 0. 0. 0. 1.]\n",
      " [1. 0. 0. 0. 1.]\n",
      " [1. 1. 1. 1. 1.]]\n"
     ]
    }
   ],
   "source": [
    "# 创建一个二维数组，边为1，其余为0 \n",
    "# 1:-1,1:-1]表示切出了芯。\n",
    "sample15 = np.ones((5, 5))\n",
    "print(sample15)\n",
    "sample15[1:-1, 1:-1] = 0\n",
    "print(sample15)"
   ]
  },
  {
   "cell_type": "code",
   "execution_count": 22,
   "metadata": {},
   "outputs": [
    {
     "name": "stdout",
     "output_type": "stream",
     "text": [
      "[[0. 0. 0. 0. 0. 0.]\n",
      " [0. 1. 1. 1. 1. 0.]\n",
      " [0. 1. 1. 1. 1. 0.]\n",
      " [0. 1. 1. 1. 1. 0.]\n",
      " [0. 1. 1. 1. 1. 0.]\n",
      " [0. 0. 0. 0. 0. 0.]]\n"
     ]
    }
   ],
   "source": [
    "#扩展给定数组的边界\n",
    "# pad 函数 有几种mode\n",
    "sample16 = np.ones((4,4))\n",
    "print(np.pad(sample16, 1, mode='constant', constant_values=0))"
   ]
  },
  {
   "cell_type": "code",
   "execution_count": 23,
   "metadata": {},
   "outputs": [
    {
     "name": "stdout",
     "output_type": "stream",
     "text": [
      "nan\n",
      "nan\n",
      "False\n",
      "False\n",
      "True\n",
      "False\n",
      "True\n"
     ]
    }
   ],
   "source": [
    "#指出下列表达式的结果是什么\n",
    "#四、聚合：最小值、最大值和其他值\n",
    "#知识点：\n",
    "# nan的意思是Not a Number nan的类型是float64\n",
    "print(0 * np.nan)  # nan  有nan参与的运算, 其结果也一定是nan\n",
    "print(np.nan - np.nan) # nan\n",
    "print(np.nan == np.nan) # False nan不是数，所以无法进行比较运算\n",
    "print(np.nan > np.nan) # False\n",
    "print(np.nan in {np.nan}) # True  nan在nan的字典中\n",
    "print(0.3 == 3 * 0.1) # False  浮点数可以比大小，但相等要用math.isclose比较\n",
    "import math\n",
    "print(math.isclose(0.3, 3 * 0.1)) # True"
   ]
  },
  {
   "cell_type": "code",
   "execution_count": 24,
   "metadata": {},
   "outputs": [
    {
     "name": "stdout",
     "output_type": "stream",
     "text": [
      "[[0 0 0 0 0]\n",
      " [1 0 0 0 0]\n",
      " [0 2 0 0 0]\n",
      " [0 0 3 0 0]\n",
      " [0 0 0 4 0]]\n"
     ]
    }
   ],
   "source": [
    "#用1，2，3，4做为对角线的下移一行，来创建5x5的矩阵\n",
    "# diag函数的第二个参数指定对角线的位置\n",
    "print(np.diag([1, 2, 3, 4], -1))"
   ]
  },
  {
   "cell_type": "code",
   "execution_count": 26,
   "metadata": {},
   "outputs": [
    {
     "name": "stdout",
     "output_type": "stream",
     "text": [
      "[[1. 0. 1. 0. 1. 0. 1. 0.]\n",
      " [0. 1. 0. 1. 0. 1. 0. 1.]\n",
      " [1. 0. 1. 0. 1. 0. 1. 0.]\n",
      " [0. 1. 0. 1. 0. 1. 0. 1.]\n",
      " [1. 0. 1. 0. 1. 0. 1. 0.]\n",
      " [0. 1. 0. 1. 0. 1. 0. 1.]\n",
      " [1. 0. 1. 0. 1. 0. 1. 0.]\n",
      " [0. 1. 0. 1. 0. 1. 0. 1.]]\n"
     ]
    }
   ],
   "source": [
    "#创建一个类似国际象棋棋盘的8x8的矩阵\n",
    "#一、理解Python种的数据类型\n",
    "#二、NumPy数组基础\n",
    "#七、花哨的索引\n",
    "#知识点：索引修改元素值\n",
    "sample19 = np.zeros((8, 8))\n",
    "sample19[::2, ::2] = 1\n",
    "sample19[1::2, 1::2] = 1\n",
    "print(sample19)"
   ]
  },
  {
   "cell_type": "code",
   "execution_count": 2,
   "metadata": {},
   "outputs": [
    {
     "name": "stdout",
     "output_type": "stream",
     "text": [
      "[[0.5488135  0.71518937 0.60276338 0.54488318]\n",
      " [0.4236548  0.64589411 0.43758721 0.891773  ]\n",
      " [0.96366276 0.38344152 0.79172504 0.52889492]]\n"
     ]
    },
    {
     "data": {
      "text/plain": [
       "7.478282790980994"
      ]
     },
     "execution_count": 2,
     "metadata": {},
     "output_type": "execute_result"
    }
   ],
   "source": [
    "#随机给一个三行四列的数组，并求和（np.random.seed(0)）\n",
    "#二、NumPy数组基础\n",
    "#四、聚合：最小值、最大值和其他值\n",
    "#知识点：\n",
    "#NumPy中可用的聚合函数sum\n",
    "np.random.seed(0)\n",
    "M = np.random.random((3, 4))\n",
    "print(M)\n",
    "M.sum()"
   ]
  },
  {
   "cell_type": "code",
   "execution_count": 4,
   "metadata": {},
   "outputs": [
    {
     "name": "stdout",
     "output_type": "stream",
     "text": [
      "[[6.16933997 9.43748079 6.81820299 3.59507901 4.37031954]\n",
      " [6.97631196 0.60225472 6.66766715 6.7063787  2.10382561]\n",
      " [1.28926298 3.15428351 3.63710771 5.7019677  4.38601513]\n",
      " [9.88373838 1.02044811 2.08876756 1.61309518 6.53108325]\n",
      " [2.53291603 4.66310773 2.44425592 1.58969584 1.10375141]]\n",
      "[[ 0.75471824  2.00938197  1.00382161 -0.23355982  0.06406082]\n",
      " [ 1.06452083 -1.38252748  0.94602978  0.96089143 -0.80606317]\n",
      " [-1.11877986 -0.40278451 -0.21742469  0.57529053  0.07008648]\n",
      " [ 2.1807036  -1.2219799  -0.81184406 -0.99445825  0.8935942 ]\n",
      " [-0.64133214  0.1764644  -0.67536942 -1.00344144 -1.18999914]]\n"
     ]
    }
   ],
   "source": [
    "#随机机给一个五行五列的数组并且元素值乘10，打印数组，打印数组-元素的平均值/元素的方差\n",
    "#二、NumPy数组基础\n",
    "#三、Numpy数组的计算：通用函数\n",
    "#四、聚合：最小值、最大值和其他值\n",
    "#知识点：Numpy中可用的聚合函数 \n",
    "sample22 = np.random.random((5,5))*10\n",
    "print(sample22)\n",
    "print((sample22 - sample22.mean()) / sample22.std()) # std 计算均方差"
   ]
  },
  {
   "cell_type": "code",
   "execution_count": 58,
   "metadata": {},
   "outputs": [
    {
     "name": "stdout",
     "output_type": "stream",
     "text": [
      "[ 2  3 -4 -5 -6 -7  8  9 10 11]\n"
     ]
    }
   ],
   "source": [
    "#反转一维数组中大于3小于8的所有元素\n",
    "#三、NumPy数组的计算：通用函数\n",
    "#六、比较、掩码、和布尔逻辑\n",
    "#知识点：NumPy实现的算术运算符、NumPy的通用函数\n",
    "sample25 = np.arange(2, 12)\n",
    "sample25[(sample25 >3) & (sample25 <8)] *= -1 # 使用& 表示 and\n",
    "print(sample25)"
   ]
  },
  {
   "cell_type": "code",
   "execution_count": 60,
   "metadata": {},
   "outputs": [
    {
     "name": "stdout",
     "output_type": "stream",
     "text": [
      "[1 2]\n"
     ]
    }
   ],
   "source": [
    "#查找两个数组的交集?\n",
    "print(np.intersect1d([1, 2, 3], [4, 2, 1]))"
   ]
  },
  {
   "cell_type": "code",
   "execution_count": 62,
   "metadata": {},
   "outputs": [
    {
     "data": {
      "text/plain": [
       "array([0., 0., 0., 0., 1., 0., 0., 0., 0., 0.])"
      ]
     },
     "execution_count": 62,
     "metadata": {},
     "output_type": "execute_result"
    }
   ],
   "source": [
    "#创建一个长度为10的一维全为0的ndarray对象，然后让第5个元素等于1\n",
    "#一、理解Python种的数据类型\n",
    "#二、NumPy数组基础\n",
    "#知识点：创建数组、索引修改元素值\n",
    "s1=np.zeros(10)\n",
    "s1[4]=1\n",
    "s1"
   ]
  },
  {
   "cell_type": "code",
   "execution_count": 65,
   "metadata": {},
   "outputs": [
    {
     "name": "stdout",
     "output_type": "stream",
     "text": [
      "[0 2 3 3 3 4 5 5 7 7]\n"
     ]
    }
   ],
   "source": [
    "#创建一个大小为10的数组并排序(np.random.seed(0))\n",
    "#八、数组的排序\n",
    "#知识点：排序\n",
    "np.random.seed(0)\n",
    "sample40 = np.random.randint(0, 9, 10)\n",
    "sample40.sort()\n",
    "print(sample40)"
   ]
  },
  {
   "cell_type": "code",
   "execution_count": 66,
   "metadata": {},
   "outputs": [
    {
     "name": "stdout",
     "output_type": "stream",
     "text": [
      "190\n"
     ]
    }
   ],
   "source": [
    "#对一个小数组用比np.sum快的方法求和?\n",
    "#四、聚合：最小值、最大值和其他值\n",
    "#知识点：求和\n",
    "sample41 = np.arange(0,20)\n",
    "print(np.add.reduce(sample41))"
   ]
  },
  {
   "cell_type": "code",
   "execution_count": 67,
   "metadata": {},
   "outputs": [
    {
     "name": "stdout",
     "output_type": "stream",
     "text": [
      "False\n",
      "False\n"
     ]
    }
   ],
   "source": [
    "#比较两个随机数组是否相等\n",
    "#四、聚合：最小值、最大值和其他值\n",
    "#知识点：比较运算符和其对应的通用函数\n",
    "A = np.random.randint(0,2,5)\n",
    "B = np.random.randint(0,2,5)\n",
    "equal = np.allclose(A,B) #默认在1e-05的误差范围内,比较两个array是不是每一元素都相等\n",
    "print(equal)\n",
    "equal = np.array_equal(A,B) # 比较两个数组是否相等\n",
    "print(equal)"
   ]
  },
  {
   "cell_type": "code",
   "execution_count": 70,
   "metadata": {},
   "outputs": [
    {
     "name": "stdout",
     "output_type": "stream",
     "text": [
      "[4.93932154 6.4367043  5.42487038 4.90394865 3.81289319 5.81304702\n",
      " 3.9382849  8.02595701 8.67296484 3.45097367]\n",
      "[4.93932154 6.4367043  5.42487038 4.90394865 3.81289319 5.81304702\n",
      " 3.9382849  8.02595701 0.         3.45097367]\n"
     ]
    }
   ],
   "source": [
    "#创建一个大小为10的数组并把最大值设为0\n",
    "#四、聚合：最小值、最大值和其他值\n",
    "#知识点：NumPy中可用的聚合函数np.argmax 找出最大值的索引\n",
    "np.random.seed(0)\n",
    "sample45 = np.random.uniform(0,9,10)\n",
    "print(sample45)\n",
    "sample45[sample45.argmax()] =0\n",
    "print(sample45)"
   ]
  },
  {
   "cell_type": "code",
   "execution_count": 74,
   "metadata": {},
   "outputs": [
    {
     "name": "stdout",
     "output_type": "stream",
     "text": [
      "[[5.48813504 7.15189366 6.02763376]\n",
      " [5.44883183 4.23654799 6.45894113]\n",
      " [4.37587211 8.91773001 9.63662761]]\n",
      "[[-0.73441912  0.92933951 -0.19492039]\n",
      " [ 0.06739151 -1.14489232  1.07750081]\n",
      " [-3.2675378   1.2743201   1.9932177 ]]\n"
     ]
    }
   ],
   "source": [
    "#矩阵的第一行减去算术平均值（np.random.seed(0)）\n",
    "#四、聚合：最小值、最大值和其他值\n",
    "np.random.seed(0)\n",
    "sample58 = np.random.rand(3,3)*10\n",
    "print(sample58)\n",
    "print(np.subtract(sample58,np.mean(sample58,axis=1,keepdims=True)))"
   ]
  },
  {
   "cell_type": "code",
   "execution_count": 78,
   "metadata": {},
   "outputs": [
    {
     "name": "stdout",
     "output_type": "stream",
     "text": [
      "[[5 0 3 3 7]\n",
      " [3 5 2 4 7]\n",
      " [6 8 8 1 6]]\n",
      "[[3 0 2 1 6]\n",
      " [5 5 3 3 7]\n",
      " [6 8 8 4 7]]\n",
      "[[1 0 1 2 2]\n",
      " [0 1 0 0 0]\n",
      " [2 2 2 1 1]]\n",
      "[[5 0 3 3 7]\n",
      " [3 5 2 4 7]\n",
      " [6 8 8 1 6]]\n"
     ]
    }
   ],
   "source": [
    "#八、数组的排序(np.random.seed(0))\n",
    "#知识点：是 argsort该函数返回的是原始数组排好序的索引值\n",
    "#sort快速排序\n",
    "np.random.seed(0)\n",
    "sample59 = np.random.randint(0, 9, (3, 5))\n",
    "print(sample59)\n",
    "print(np.sort(sample59, axis=0))  # 全部都排序\n",
    "print(np.argsort(sample59, axis=0))  # 给出的是位置\n",
    "print(sample59[sample59[:, 1].argsort()])  # 按第二列排序"
   ]
  },
  {
   "cell_type": "code",
   "execution_count": 81,
   "metadata": {},
   "outputs": [
    {
     "name": "stdout",
     "output_type": "stream",
     "text": [
      "0.5448831829968969\n"
     ]
    }
   ],
   "source": [
    "#从数组中找出给定值的最近似值\n",
    "#三、NumPy数组的计算：通用函数\n",
    "#知识点：\n",
    "np.random.seed(0)\n",
    "Z = np.random.uniform(0,1,10)\n",
    "z = 0.5\n",
    "m = Z.flat[np.abs(Z - z).argmin()]\n",
    "print(m)"
   ]
  },
  {
   "cell_type": "code",
   "execution_count": 85,
   "metadata": {},
   "outputs": [
    {
     "data": {
      "text/plain": [
       "array([[0., 1., 2., 3., 4.],\n",
       "       [0., 1., 2., 3., 4.],\n",
       "       [0., 1., 2., 3., 4.],\n",
       "       [0., 1., 2., 3., 4.],\n",
       "       [0., 1., 2., 3., 4.]])"
      ]
     },
     "execution_count": 85,
     "metadata": {},
     "output_type": "execute_result"
    }
   ],
   "source": [
    "# 如何创建一个5*5的矩阵，每行的数值都是从0到4？\n",
    "#五、数组的计算：广播\n",
    "#知识点：利用numpy数组的广播功能\n",
    "array1=np.arange(5)\n",
    "array2=np.zeros((5,5))\n",
    "array=array1+array2\n",
    "array"
   ]
  },
  {
   "cell_type": "code",
   "execution_count": 87,
   "metadata": {},
   "outputs": [
    {
     "data": {
      "text/plain": [
       "8"
      ]
     },
     "execution_count": 87,
     "metadata": {},
     "output_type": "execute_result"
    }
   ],
   "source": [
    "#如何找出数组np.array([1, 2, 1, 1, 3, 4, 3, 1, 1, 2, 1, 1, 2])中第五个1出现的位置？\n",
    "#八、数组的排序\n",
    "#二、NumPy数组基础\n",
    "#知识点：索引、排序\n",
    "array=np.array([1, 2, 1, 1, 3, 4, 3, 1, 1, 2, 1, 1, 2])\n",
    "loc=np.argsort(array)[4]\n",
    "loc"
   ]
  },
  {
   "cell_type": "code",
   "execution_count": 91,
   "metadata": {},
   "outputs": [
    {
     "data": {
      "text/plain": [
       "array([[6, 1, 4],\n",
       "       [4, 8, 4],\n",
       "       [6, 3, 5]])"
      ]
     },
     "execution_count": 91,
     "metadata": {},
     "output_type": "execute_result"
    }
   ],
   "source": [
    "#如何把数组np.random.randint(1,10(3,3))按照数组最后一列的数值进行排序？(np.random.seed(0))\n",
    "#八、数组的排序\n",
    "#七、花哨的索引\n",
    "#知识点：\n",
    "np.random.seed(0)\n",
    "array=np.random.randint(1,10,(3,3))\n",
    "order=np.argsort(array[:,-1])\n",
    "array=array[order,:]\n",
    "array"
   ]
  },
  {
   "cell_type": "code",
   "execution_count": 6,
   "metadata": {},
   "outputs": [
    {
     "data": {
      "text/plain": [
       "array([[0, 1, 2, 3, 4, 1, 1, 1, 1, 1],\n",
       "       [5, 6, 7, 8, 9, 1, 1, 1, 1, 1]])"
      ]
     },
     "execution_count": 6,
     "metadata": {},
     "output_type": "execute_result"
    }
   ],
   "source": [
    "#如何将数组a = np.arange(10).reshape(2,-1)和数组b = np.repeat(1, 10).reshape(2,-1)垂直堆叠？\n",
    "#二、NumPy数组基础\n",
    "#知识点：数组拼接\n",
    "a = np.arange(10).reshape(2,-1)\n",
    "b = np.repeat(1, 10).reshape(2,-1)\n",
    "array=np.hstack((a,b))\n",
    "#a = np.arange(10).reshape(2,-1)\n",
    "#b = np.repeat(1, 10).reshape(2,-1)\n",
    "#array=np.concatenate((a,b),axis=1)\n",
    "array\n"
   ]
  },
  {
   "cell_type": "code",
   "execution_count": 10,
   "metadata": {},
   "outputs": [
    {
     "name": "stdout",
     "output_type": "stream",
     "text": [
      "[[54 77]]\n"
     ]
    }
   ],
   "source": [
    "#一个四维的数组，以后两维度为单位，计算它们的和，比如一个1*2*3*4的数组，则以后面3*4维度为单位，输出1*2的sum\n",
    "#四、聚合：最小值、最大值和其他值\n",
    "#七、花哨的索引\n",
    "#（np.random.seed(0)）\n",
    "np.random.seed(0)\n",
    "A = np.random.randint(0,10,(1,2,3,4))\n",
    "A.reshape(A.shape[:-2] + (-1,))\n",
    "sum1 = A.reshape(A.shape[:-2] + (-1,)).sum(axis=-1)\n",
    "print (sum1)\n"
   ]
  },
  {
   "cell_type": "code",
   "execution_count": 17,
   "metadata": {},
   "outputs": [
    {
     "name": "stdout",
     "output_type": "stream",
     "text": [
      "[[[2. 2.]\n",
      "  [2. 2.]\n",
      "  [2. 2.]]\n",
      "\n",
      " [[2. 2.]\n",
      "  [2. 2.]\n",
      "  [2. 2.]]\n",
      "\n",
      " [[2. 2.]\n",
      "  [2. 2.]\n",
      "  [2. 2.]]]\n"
     ]
    }
   ],
   "source": [
    "#二维矩阵与三维矩阵如何相乘（A矩阵元素都为1，B矩阵元素都为2）\n",
    "#五、数组的计算：广播\n",
    "A = np.ones((3,3,2))\n",
    "B = 2*np.ones((3,3))\n",
    "print (A * B[:,:,None])"
   ]
  },
  {
   "cell_type": "code",
   "execution_count": 23,
   "metadata": {},
   "outputs": [
    {
     "data": {
      "text/plain": [
       "dtype('int32')"
      ]
     },
     "execution_count": 23,
     "metadata": {},
     "output_type": "execute_result"
    }
   ],
   "source": [
    "#用0~11的数字生成(3,4)的数组命名为A,查看A的维度；查看A中元素的数据类型。\n",
    "#一、理解Python中的数据类型\n",
    "#二、NumPy数组基础\n",
    "A=np.arange(12).reshape(3,4)\n",
    "A\n",
    "A.shape#查看维度\n",
    "A.dtype#查看元素数据类型"
   ]
  },
  {
   "cell_type": "code",
   "execution_count": 25,
   "metadata": {},
   "outputs": [
    {
     "data": {
      "text/plain": [
       "array([[1., 1.],\n",
       "       [1., 1.],\n",
       "       [1., 1.]])"
      ]
     },
     "execution_count": 25,
     "metadata": {},
     "output_type": "execute_result"
    }
   ],
   "source": [
    "#创建一个全0的（4,4）的数组B; 创建一个内容全1的(3,2)数组C。\n",
    "#二、NumPy数组基础\n",
    "B=np.zeros((4,4))\n",
    "B\n",
    "C=np.ones((3,2))\n",
    "C"
   ]
  },
  {
   "cell_type": "code",
   "execution_count": 29,
   "metadata": {},
   "outputs": [
    {
     "data": {
      "text/plain": [
       "array([ 0,  5, 10, 15])"
      ]
     },
     "execution_count": 29,
     "metadata": {},
     "output_type": "execute_result"
    }
   ],
   "source": [
    "#用0~19的数，创建一个4*5的数组D，计算每一列的和；计算每一行的最小值.\n",
    "#二、NumPy数组基础\n",
    "#四、聚合：最小值、最大值和其他值\n",
    "D=np.arange(20).reshape(4,5)\n",
    "D\n",
    "D.sum(axis=0)\n",
    "D.min(axis=1)"
   ]
  },
  {
   "cell_type": "code",
   "execution_count": 30,
   "metadata": {},
   "outputs": [
    {
     "data": {
      "text/plain": [
       "array([3, 4])"
      ]
     },
     "execution_count": 30,
     "metadata": {},
     "output_type": "execute_result"
    }
   ],
   "source": [
    "#用0~11的数字生成一个数组E,计算每个元素的平方；取出索引为4的元素；取出索引为3至5之间的元素。\n",
    "#二、NumPy数组基础\n",
    "#三、Numpy数组的计算：通用函数\n",
    "E=np.arange(9)\n",
    "E\n",
    "E**2\n",
    "E[4]\n",
    "E[3:5]"
   ]
  },
  {
   "cell_type": "code",
   "execution_count": 33,
   "metadata": {},
   "outputs": [
    {
     "data": {
      "text/plain": [
       "array([[0.38344152, 0.79172504, 0.52889492, 0.5488135 , 0.71518937,\n",
       "        0.60276338],\n",
       "       [0.56804456, 0.92559664, 0.07103606, 0.54488318, 0.4236548 ,\n",
       "        0.64589411],\n",
       "       [0.0871293 , 0.0202184 , 0.83261985, 0.43758721, 0.891773  ,\n",
       "        0.96366276]])"
      ]
     },
     "execution_count": 33,
     "metadata": {},
     "output_type": "execute_result"
    }
   ],
   "source": [
    "#随机生成2个3*3的数组F和G，将F和G进行垂直合并形成FG;将F和G进行水平合并形成GF。\n",
    "#（np.random.seed(0)）\n",
    "#二、NumPy数组基础\n",
    "np.random.seed(0)\n",
    "F=np.random.random((3,3))\n",
    "F\n",
    "G=np.random.random((3,3))\n",
    "G\n",
    "FG=np.vstack((F,G))\n",
    "FG\n",
    "GF=np.hstack((G,F))\n",
    "GF"
   ]
  },
  {
   "cell_type": "code",
   "execution_count": 35,
   "metadata": {},
   "outputs": [
    {
     "data": {
      "text/plain": [
       "array([[0., 0.],\n",
       "       [0., 0.],\n",
       "       [0., 1.]])"
      ]
     },
     "execution_count": 35,
     "metadata": {},
     "output_type": "execute_result"
    }
   ],
   "source": [
    "#创建一个3行2列的零矩阵命名为H,将H的3行2列的值置成1。\n",
    "#七、花哨的索引\n",
    "H=np.zeros((3,2))\n",
    "H[2][1]=1\n",
    "H"
   ]
  },
  {
   "cell_type": "code",
   "execution_count": 3,
   "metadata": {},
   "outputs": [
    {
     "name": "stdout",
     "output_type": "stream",
     "text": [
      "第一个数组为：\n",
      "[[ 0  5 10 15]\n",
      " [20 25 30 35]\n",
      " [40 45 50 55]]\n",
      "\n",
      "\n",
      "第二个数组为：\n",
      "[1 2 3 4]\n",
      "\n",
      "\n",
      "修改后的数组为：\n",
      "0:1, 5:2, 10:3, 15:4, 20:1, 25:2, 30:3, 35:4, 40:1, 45:2, 50:3, 55:4, "
     ]
    }
   ],
   "source": [
    "#假设数组 a 的维度为 3X4，数组 b 的维度为 1X4 ，则使用以下迭代器（数组 b 被广播到 a 的大小）。\n",
    "#十、迭代数组\n",
    "#五、数组的计算：广播\n",
    "#知识点：迭代，广播\n",
    "a = np.arange(0,60,5) \n",
    "a = a.reshape(3,4)  \n",
    "print  ('第一个数组为：')\n",
    "print (a)\n",
    "print  ('\\n')\n",
    "print ('第二个数组为：')\n",
    "b = np.array([1,  2,  3,  4], dtype =  int)  \n",
    "print (b)\n",
    "print ('\\n')\n",
    "print ('修改后的数组为：')\n",
    "for x,y in np.nditer([a,b]):  \n",
    "    print (\"%d:%d\"  %  (x,y), end=\", \" )\n",
    "    "
   ]
  },
  {
   "cell_type": "code",
   "execution_count": 4,
   "metadata": {},
   "outputs": [
    {
     "name": "stdout",
     "output_type": "stream",
     "text": [
      "13 和 17 的二进制形式：\n",
      "0b1101 0b10001\n",
      "\n",
      "\n",
      "13 和 17 的位与：\n",
      "1\n"
     ]
    }
   ],
   "source": [
    "#bitwise_and() 函数对数组中整数的二进制形式执行位与运算。那么13 和 17 的二进制形式是？13 和 17 的位与是？\n",
    "#十一、位运算\n",
    "#知识点：对数组元素执行位与操作\n",
    "print ('13 和 17 的二进制形式：')\n",
    "a,b = 13,17\n",
    "print (bin(a), bin(b))\n",
    "print ('\\n')\n",
    " \n",
    "print ('13 和 17 的位与：')\n",
    "print (np.bitwise_and(13, 17))"
   ]
  },
  {
   "cell_type": "code",
   "execution_count": 6,
   "metadata": {},
   "outputs": [
    {
     "name": "stdout",
     "output_type": "stream",
     "text": [
      "以十六进制表示内存中的数据：\n",
      "<map object at 0x0000026BDE9EB250>\n",
      "调用 byteswap() 函数：\n",
      "[  256     1 13090]\n",
      "十六进制形式：\n",
      "<map object at 0x0000026BDE9EB250>\n"
     ]
    }
   ],
   "source": [
    "#numpy.ndarray.byteswap() 函数将 ndarray 中每个元素中的字节进行大小端转换。\n",
    "#十二、字接交换\n",
    "a = np.array([1,  256,  8755], dtype = np.int16)  \n",
    "print ('以十六进制表示内存中的数据：')\n",
    "print (map(hex,a))\n",
    "# byteswap() 函数通过传入 true 来原地交换 \n",
    "print ('调用 byteswap() 函数：')\n",
    "print (a.byteswap(True))\n",
    "print ('十六进制形式：')\n",
    "print (map(hex,a))\n",
    "# 我们可以看到字节已经交换了"
   ]
  },
  {
   "cell_type": "code",
   "execution_count": null,
   "metadata": {},
   "outputs": [],
   "source": []
  }
 ],
 "metadata": {
  "kernelspec": {
   "display_name": "Python 3.8.5",
   "language": "python",
   "name": "python3"
  },
  "language_info": {
   "codemirror_mode": {
    "name": "ipython",
    "version": 3
   },
   "file_extension": ".py",
   "mimetype": "text/x-python",
   "name": "python",
   "nbconvert_exporter": "python",
   "pygments_lexer": "ipython3",
   "version": "3.8.5"
  },
  "toc": {
   "base_numbering": 1,
   "nav_menu": {},
   "number_sections": true,
   "sideBar": true,
   "skip_h1_title": false,
   "title_cell": "Table of Contents",
   "title_sidebar": "Contents",
   "toc_cell": false,
   "toc_position": {},
   "toc_section_display": true,
   "toc_window_display": true
  }
 },
 "nbformat": 4,
 "nbformat_minor": 4
}
