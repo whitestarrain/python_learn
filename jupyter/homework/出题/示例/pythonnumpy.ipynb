{
 "cells": [
  {
   "cell_type": "markdown",
   "metadata": {},
   "source": [
    "# 数组的转置和轴对换"
   ]
  },
  {
   "cell_type": "code",
   "execution_count": 3,
   "metadata": {},
   "outputs": [],
   "source": [
    "# 以多维数组为例，如：（2， 2， 4）表示 2个2X4矩阵，\n",
    "# 可以理解为（2[0], 2[1], 2[2]）,其中[0]表示0轴。"
   ]
  },
  {
   "cell_type": "code",
   "execution_count": 4,
   "metadata": {},
   "outputs": [],
   "source": [
    "import numpy as np  \n",
    "arr=np.arange(16).reshape(2,2,4)  "
   ]
  },
  {
   "cell_type": "code",
   "execution_count": 5,
   "metadata": {},
   "outputs": [
    {
     "name": "stdout",
     "output_type": "stream",
     "text": [
      "[[[ 0  1  2  3]\n",
      "  [ 4  5  6  7]]\n",
      "\n",
      " [[ 8  9 10 11]\n",
      "  [12 13 14 15]]]\n"
     ]
    }
   ],
   "source": [
    "print(arr)"
   ]
  },
  {
   "cell_type": "code",
   "execution_count": null,
   "metadata": {},
   "outputs": [],
   "source": [
    "# 1、transpose（1,0,2）：表示将（2[0], 2[1], 2[2]）转换为（2[1], 2[0], 2[2]）。\n",
    "# 简单理解就是，将不同位置元素替换掉。\n",
    "\n",
    "# 比如：arr[0, 0, 0]，第一位和第二位转换后，仍是arr[0, 0, 0]。\n",
    "# arr[0 , 1, 0] = 4, 转换后为 arr[1, 0, 0] = 8。同理arr[1, 0 , 0]转换为 arr[0, 1, 0]。\n",
    "# 此次类推。"
   ]
  },
  {
   "cell_type": "code",
   "execution_count": null,
   "metadata": {},
   "outputs": [],
   "source": [
    "# T转置：表示整个顺序颠倒，（2[0], 2[1], 2[2]）转换为（2[2], 2[1], 2[0]）。\n",
    "# 相应的分析方法一样，就是内容替换。"
   ]
  },
  {
   "cell_type": "code",
   "execution_count": 6,
   "metadata": {},
   "outputs": [
    {
     "data": {
      "text/plain": [
       "array([[[ 0,  1,  2,  3],\n",
       "        [ 8,  9, 10, 11]],\n",
       "\n",
       "       [[ 4,  5,  6,  7],\n",
       "        [12, 13, 14, 15]]])"
      ]
     },
     "execution_count": 6,
     "metadata": {},
     "output_type": "execute_result"
    }
   ],
   "source": [
    "arr.transpose(1,0,2)  \n"
   ]
  },
  {
   "cell_type": "code",
   "execution_count": 8,
   "metadata": {},
   "outputs": [
    {
     "data": {
      "text/plain": [
       "array([[[ 0,  8],\n",
       "        [ 4, 12]],\n",
       "\n",
       "       [[ 1,  9],\n",
       "        [ 5, 13]],\n",
       "\n",
       "       [[ 2, 10],\n",
       "        [ 6, 14]],\n",
       "\n",
       "       [[ 3, 11],\n",
       "        [ 7, 15]]])"
      ]
     },
     "execution_count": 8,
     "metadata": {},
     "output_type": "execute_result"
    }
   ],
   "source": [
    "\n",
    "arr.T\n"
   ]
  },
  {
   "cell_type": "code",
   "execution_count": 9,
   "metadata": {},
   "outputs": [
    {
     "data": {
      "text/plain": [
       "array([[[ 0,  8],\n",
       "        [ 4, 12]],\n",
       "\n",
       "       [[ 1,  9],\n",
       "        [ 5, 13]],\n",
       "\n",
       "       [[ 2, 10],\n",
       "        [ 6, 14]],\n",
       "\n",
       "       [[ 3, 11],\n",
       "        [ 7, 15]]])"
      ]
     },
     "execution_count": 9,
     "metadata": {},
     "output_type": "execute_result"
    }
   ],
   "source": [
    "arr.transpose(2,1,0)"
   ]
  },
  {
   "cell_type": "code",
   "execution_count": 7,
   "metadata": {},
   "outputs": [
    {
     "data": {
      "text/plain": [
       "array([[[ 0,  4],\n",
       "        [ 1,  5],\n",
       "        [ 2,  6],\n",
       "        [ 3,  7]],\n",
       "\n",
       "       [[ 8, 12],\n",
       "        [ 9, 13],\n",
       "        [10, 14],\n",
       "        [11, 15]]])"
      ]
     },
     "execution_count": 7,
     "metadata": {},
     "output_type": "execute_result"
    }
   ],
   "source": [
    "\n",
    "arr.transpose(0,2,1)  \n"
   ]
  },
  {
   "cell_type": "markdown",
   "metadata": {},
   "source": [
    "# Numpy的去重与重复函数"
   ]
  },
  {
   "cell_type": "code",
   "execution_count": 10,
   "metadata": {},
   "outputs": [
    {
     "name": "stdout",
     "output_type": "stream",
     "text": [
      "[1 2 3]\n"
     ]
    }
   ],
   "source": [
    "# 1.unique函数\n",
    "#通过unique函数可以找出数组中的唯一值并返回已经排序的结果\n",
    "arr = np.array([1,1,1,2,2,3,3,])\n",
    "res = np.unique(arr)\n",
    "print(res)#[1 2 3]"
   ]
  },
  {
   "cell_type": "code",
   "execution_count": 11,
   "metadata": {},
   "outputs": [
    {
     "name": "stdout",
     "output_type": "stream",
     "text": [
      "[0 1 2 3 4 0 1 2 3 4 0 1 2 3 4]\n"
     ]
    }
   ],
   "source": [
    "# 2.tile函数\n",
    "#主要有两个参数，参数’A’指定重复的数组，\n",
    "#参数’reps’指定重复的次数\n",
    "arr1 = np.arange(5)\n",
    "arr2 = np.tile(arr1,3)\n",
    "print(arr2)#[0 1 2 3 4 0 1 2 3 4 0 1 2 3 4]"
   ]
  },
  {
   "cell_type": "code",
   "execution_count": 12,
   "metadata": {},
   "outputs": [],
   "source": [
    "# 3.repeat函数\n",
    "# numpy.repeat(a, repeats, axis=None)\n",
    "# repeat 函数主要有三个参数，参数“a”是需要重复的数组元素，参数“repeats”是重复次数，\n",
    "# 参数“axis”指定沿着哪个轴进行重复，axis = 0 表示按行进行元素重复；\n",
    "# axis =1 表示按列进行元素重复"
   ]
  },
  {
   "cell_type": "code",
   "execution_count": 13,
   "metadata": {},
   "outputs": [
    {
     "name": "stdout",
     "output_type": "stream",
     "text": [
      "arr2:\n",
      " [[0 1 9]\n",
      " [3 8 7]\n",
      " [9 0 5]]\n",
      "按行进行重复 [[0 1 9]\n",
      " [0 1 9]\n",
      " [3 8 7]\n",
      " [3 8 7]\n",
      " [9 0 5]\n",
      " [9 0 5]]\n",
      "按列进行重复 [[0 1 9]\n",
      " [0 1 9]\n",
      " [3 8 7]\n",
      " [3 8 7]\n",
      " [9 0 5]\n",
      " [9 0 5]]\n"
     ]
    },
    {
     "data": {
      "text/plain": [
       "'\\n按列进行重复 [[5 0 0]\\n             [5 0 0]\\n             [2 4 9]\\n             [2 4 9]\\n             [7 8 1]\\n             [7 8 1]]\\n'"
      ]
     },
     "execution_count": 13,
     "metadata": {},
     "output_type": "execute_result"
    }
   ],
   "source": [
    "#def repeat(a,repeats,axis=None):\n",
    "#axis=1表示按列进行元素重复\n",
    "arr2 = np.random.randint(0,10,size=(3,3))\n",
    "print('arr2:\\n',arr2)\n",
    "'''\n",
    "arr2:\n",
    " [[5 0 0]\n",
    " [2 4 9]\n",
    " [7 8 1]]\n",
    "'''\n",
    "arr2_2_0 = np.repeat(arr2,2,axis=0)\n",
    "print('按行进行重复',arr2_2_0)\n",
    "'''\n",
    "按行进行重复 [[5 0 0]\n",
    "             [5 0 0]\n",
    "             [2 4 9]\n",
    "             [2 4 9]\n",
    "             [7 8 1]\n",
    "             [7 8 1]]\n",
    "'''\n",
    "rr2_2_1 = np.repeat(arr2,2,axis=1)\n",
    "print('按列进行重复',arr2_2_0)\n",
    "'''\n",
    "按列进行重复 [[5 0 0]\n",
    "             [5 0 0]\n",
    "             [2 4 9]\n",
    "             [2 4 9]\n",
    "             [7 8 1]\n",
    "             [7 8 1]]\n",
    "'''\n",
    "\n",
    "\n"
   ]
  },
  {
   "cell_type": "code",
   "execution_count": 16,
   "metadata": {},
   "outputs": [],
   "source": [
    "# repeat和tile两个函数的区别：两个函数都能够对数组进行“重复”区别在于：\n",
    "# tile函数是将数组进行重复，repeat函数是对元素进行重复"
   ]
  },
  {
   "cell_type": "code",
   "execution_count": 14,
   "metadata": {},
   "outputs": [
    {
     "name": "stdout",
     "output_type": "stream",
     "text": [
      "[[0 1 9 0 1 9 0 1 9]\n",
      " [3 8 7 3 8 7 3 8 7]\n",
      " [9 0 5 9 0 5 9 0 5]]\n"
     ]
    },
    {
     "data": {
      "text/plain": [
       "'\\n[[5 0 0 5 0 0 5 0 0]\\n [2 4 9 2 4 9 2 4 9]\\n [7 8 1 7 8 1 7 8 1]]\\n\\nrepeat重复555000000\\ntile500500500\\n发现区别了吧\\n'"
      ]
     },
     "execution_count": 14,
     "metadata": {},
     "output_type": "execute_result"
    }
   ],
   "source": [
    "arr2_tile = np.tile(arr2,3)\n",
    "print(arr2_tile)\n",
    "'''\n",
    "\n",
    "repeat重复555000000\n",
    "tile500500500\n",
    "发现区别了吧\n",
    "'''"
   ]
  },
  {
   "cell_type": "code",
   "execution_count": null,
   "metadata": {},
   "outputs": [],
   "source": [
    "'''\n",
    "\n",
    "repeat重复555000000\n",
    "tile500500500\n",
    "发现区别了吧\n",
    "'''"
   ]
  },
  {
   "cell_type": "markdown",
   "metadata": {},
   "source": [
    "# 伪随机数生成"
   ]
  },
  {
   "cell_type": "code",
   "execution_count": null,
   "metadata": {},
   "outputs": [],
   "source": [
    "# numpy.random模块提供了很多生成随机数的函数，可以选择生成符合某种概率分布的随机数。\n",
    "# 比如我们可以用normal得到一个4 x 4的，符合标准正态分布的数组"
   ]
  },
  {
   "cell_type": "code",
   "execution_count": 17,
   "metadata": {},
   "outputs": [
    {
     "data": {
      "text/plain": [
       "array([[ 0.45818877, -0.155975  ,  0.9506864 ,  0.67779372],\n",
       "       [-0.55200637, -1.26454116,  0.12433951,  0.14164555],\n",
       "       [-1.03800391,  2.21212474,  2.15135375, -1.37511538],\n",
       "       [ 0.37335657,  1.18013803, -0.21481957, -0.68121694]])"
      ]
     },
     "execution_count": 17,
     "metadata": {},
     "output_type": "execute_result"
    }
   ],
   "source": [
    "import numpy as np\n",
    "samples = np.random.normal(size=(4, 4))\n",
    "samples\n"
   ]
  },
  {
   "cell_type": "code",
   "execution_count": null,
   "metadata": {},
   "outputs": [],
   "source": [
    "# 相对的，python内建的random模块一次只能生成一个样本。\n",
    "# 在生成大量样本方法numpy.random是非常快的。"
   ]
  },
  {
   "cell_type": "code",
   "execution_count": 18,
   "metadata": {},
   "outputs": [
    {
     "name": "stdout",
     "output_type": "stream",
     "text": [
      "1.11 s ± 94.6 ms per loop (mean ± std. dev. of 7 runs, 1 loop each)\n",
      "34.5 ms ± 181 µs per loop (mean ± std. dev. of 7 runs, 10 loops each)\n"
     ]
    }
   ],
   "source": [
    "from random import normalvariate\n",
    "N = 1000000\n",
    "\n",
    "%timeit sample = [normalvariate(0, 1) for _ in range(N)]\n",
    "# 1 loop, best of 3: 1.25 s per loop\n",
    "\n",
    "%timeit np.random.normal(size=N)\n",
    "# 10 loops, best of 3: 49.1 ms per loop"
   ]
  },
  {
   "cell_type": "markdown",
   "metadata": {},
   "source": [
    "# 计算特征值和特征向量"
   ]
  },
  {
   "cell_type": "code",
   "execution_count": null,
   "metadata": {},
   "outputs": [],
   "source": [
    "# 特征值和特征向量\n",
    "# 特征值就是方程Ax=ax的根, 是一个标量\n",
    "\n",
    "# 特征向量是关于特征值的向量\n",
    "\n",
    "# Key_Function\n",
    "# np.linalg.eigvals函数, 计算矩阵的特征值\n",
    "\n",
    "# np.linalg.eig函数, 返回包含特征值和对应的特征向量的元组"
   ]
  },
  {
   "cell_type": "code",
   "execution_count": 19,
   "metadata": {},
   "outputs": [
    {
     "name": "stdout",
     "output_type": "stream",
     "text": [
      "[[ 1 -2  1]\n",
      " [ 0  2 -8]\n",
      " [-4  5  9]]\n"
     ]
    }
   ],
   "source": [
    "import numpy as np\n",
    "\n",
    "A = np.mat(\"1 -2 1; 0 2 -8; -4 5 9\")\n",
    "print(A)\n"
   ]
  },
  {
   "cell_type": "code",
   "execution_count": 20,
   "metadata": {},
   "outputs": [
    {
     "name": "stdout",
     "output_type": "stream",
     "text": [
      "[ 0  8 -9]\n"
     ]
    }
   ],
   "source": [
    "b = np.array([0, 8, -9])\n",
    "print(b)\n"
   ]
  },
  {
   "cell_type": "code",
   "execution_count": 21,
   "metadata": {},
   "outputs": [
    {
     "name": "stdout",
     "output_type": "stream",
     "text": [
      "[29. 16.  3.]\n"
     ]
    }
   ],
   "source": [
    "x = np.linalg.solve(A, b)\n",
    "print(x)\n"
   ]
  },
  {
   "cell_type": "code",
   "execution_count": 22,
   "metadata": {},
   "outputs": [
    {
     "name": "stdout",
     "output_type": "stream",
     "text": [
      "[[ 0.  8. -9.]]\n"
     ]
    }
   ],
   "source": [
    "\n",
    "print(np.dot(A, x))\n"
   ]
  }
 ],
 "metadata": {
  "kernelspec": {
   "display_name": "Python 3.8.5",
   "language": "python",
   "name": "python3"
  },
  "language_info": {
   "codemirror_mode": {
    "name": "ipython",
    "version": 3
   },
   "file_extension": ".py",
   "mimetype": "text/x-python",
   "name": "python",
   "nbconvert_exporter": "python",
   "pygments_lexer": "ipython3",
   "version": "3.8.5"
  },
  "toc": {
   "base_numbering": 1,
   "nav_menu": {},
   "number_sections": true,
   "sideBar": true,
   "skip_h1_title": false,
   "title_cell": "Table of Contents",
   "title_sidebar": "Contents",
   "toc_cell": false,
   "toc_position": {
    "height": "calc(100% - 180px)",
    "left": "10px",
    "top": "150px",
    "width": "309.933px"
   },
   "toc_section_display": true,
   "toc_window_display": true
  }
 },
 "nbformat": 4,
 "nbformat_minor": 4
}
