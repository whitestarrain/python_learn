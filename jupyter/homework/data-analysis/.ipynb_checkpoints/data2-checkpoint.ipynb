{
 "cells": [
  {
   "cell_type": "code",
   "execution_count": 104,
   "metadata": {},
   "outputs": [],
   "source": [
    "import numpy as np\n",
    "import pandas as pd\n",
    "import matplotlib.pyplot as plt\n",
    "from mpl_toolkits.basemap import Basemap"
   ]
  },
  {
   "cell_type": "code",
   "execution_count": 105,
   "metadata": {},
   "outputs": [],
   "source": [
    "park = pd.read_csv(\"../data/All National Parks Visitation 1904-2016.csv\")\n",
    "gas = pd.read_csv(\"../data/gas_price.csv\")\n",
    "locations = pd.read_csv(\"../data/locations.csv\")\n",
    "pop = pd.read_csv(\"../data/state_pop.csv\")"
   ]
  },
  {
   "cell_type": "code",
   "execution_count": 106,
   "metadata": {},
   "outputs": [
    {
     "data": {
      "text/html": [
       "<div>\n",
       "<style scoped>\n",
       "    .dataframe tbody tr th:only-of-type {\n",
       "        vertical-align: middle;\n",
       "    }\n",
       "\n",
       "    .dataframe tbody tr th {\n",
       "        vertical-align: top;\n",
       "    }\n",
       "\n",
       "    .dataframe thead th {\n",
       "        text-align: right;\n",
       "    }\n",
       "</style>\n",
       "<table border=\"1\" class=\"dataframe\">\n",
       "  <thead>\n",
       "    <tr style=\"text-align: right;\">\n",
       "      <th></th>\n",
       "      <th>Created By</th>\n",
       "      <th>Measure Selector</th>\n",
       "      <th>Year</th>\n",
       "      <th>Date Edit</th>\n",
       "      <th>ScrapeURL</th>\n",
       "      <th>GIS Notes</th>\n",
       "      <th>Gnis Id</th>\n",
       "      <th>Geometry</th>\n",
       "      <th>Metadata</th>\n",
       "      <th>Number of Records</th>\n",
       "      <th>Parkname</th>\n",
       "      <th>Region</th>\n",
       "      <th>State</th>\n",
       "      <th>Unit Code</th>\n",
       "      <th>Unit Name</th>\n",
       "      <th>Unit Type</th>\n",
       "      <th>Visitors</th>\n",
       "      <th>YearRaw</th>\n",
       "    </tr>\n",
       "  </thead>\n",
       "  <tbody>\n",
       "    <tr>\n",
       "      <th>0</th>\n",
       "      <td>Legacy</td>\n",
       "      <td>1</td>\n",
       "      <td>1/1/1904 12:00:00 AM</td>\n",
       "      <td>4/22/2015</td>\n",
       "      <td>https://irma.nps.gov/Stats/SSRSReports/Park%20...</td>\n",
       "      <td>LEGACY: contact allen_mccoy@nps.gov for additi...</td>\n",
       "      <td>1163670</td>\n",
       "      <td>POLYGON</td>\n",
       "      <td>NaN</td>\n",
       "      <td>1</td>\n",
       "      <td>Crater Lake</td>\n",
       "      <td>PW</td>\n",
       "      <td>OR</td>\n",
       "      <td>CRLA</td>\n",
       "      <td>Crater Lake National Park</td>\n",
       "      <td>National Park</td>\n",
       "      <td>1500.0</td>\n",
       "      <td>1904</td>\n",
       "    </tr>\n",
       "    <tr>\n",
       "      <th>1</th>\n",
       "      <td>Legacy</td>\n",
       "      <td>1</td>\n",
       "      <td>1/1/1941 12:00:00 AM</td>\n",
       "      <td>4/22/2015</td>\n",
       "      <td>https://irma.nps.gov/Stats/SSRSReports/Park%20...</td>\n",
       "      <td>LEGACY: contact allen_mccoy@nps.gov for additi...</td>\n",
       "      <td>1531834</td>\n",
       "      <td>MULTIPOLYGON</td>\n",
       "      <td>NaN</td>\n",
       "      <td>1</td>\n",
       "      <td>Lake Roosevelt</td>\n",
       "      <td>PW</td>\n",
       "      <td>WA</td>\n",
       "      <td>LARO</td>\n",
       "      <td>Lake Roosevelt National Recreation Area</td>\n",
       "      <td>National Recreation Area</td>\n",
       "      <td>0.0</td>\n",
       "      <td>1941</td>\n",
       "    </tr>\n",
       "    <tr>\n",
       "      <th>2</th>\n",
       "      <td>Legacy</td>\n",
       "      <td>1</td>\n",
       "      <td>1/1/1961 12:00:00 AM</td>\n",
       "      <td>4/22/2015</td>\n",
       "      <td>https://irma.nps.gov/Stats/SSRSReports/Park%20...</td>\n",
       "      <td>LEGACY: contact allen_mccoy@nps.gov for additi...</td>\n",
       "      <td>2055170</td>\n",
       "      <td>MULTIPOLYGON</td>\n",
       "      <td>NaN</td>\n",
       "      <td>1</td>\n",
       "      <td>Lewis and Clark</td>\n",
       "      <td>PW</td>\n",
       "      <td>WA</td>\n",
       "      <td>LEWI</td>\n",
       "      <td>Lewis and Clark National Historical Park</td>\n",
       "      <td>National Historical Park</td>\n",
       "      <td>69000.0</td>\n",
       "      <td>1961</td>\n",
       "    </tr>\n",
       "  </tbody>\n",
       "</table>\n",
       "</div>"
      ],
      "text/plain": [
       "  Created By  Measure Selector                  Year  Date Edit  \\\n",
       "0     Legacy                 1  1/1/1904 12:00:00 AM  4/22/2015   \n",
       "1     Legacy                 1  1/1/1941 12:00:00 AM  4/22/2015   \n",
       "2     Legacy                 1  1/1/1961 12:00:00 AM  4/22/2015   \n",
       "\n",
       "                                           ScrapeURL  \\\n",
       "0  https://irma.nps.gov/Stats/SSRSReports/Park%20...   \n",
       "1  https://irma.nps.gov/Stats/SSRSReports/Park%20...   \n",
       "2  https://irma.nps.gov/Stats/SSRSReports/Park%20...   \n",
       "\n",
       "                                           GIS Notes  Gnis Id      Geometry  \\\n",
       "0  LEGACY: contact allen_mccoy@nps.gov for additi...  1163670       POLYGON   \n",
       "1  LEGACY: contact allen_mccoy@nps.gov for additi...  1531834  MULTIPOLYGON   \n",
       "2  LEGACY: contact allen_mccoy@nps.gov for additi...  2055170  MULTIPOLYGON   \n",
       "\n",
       "  Metadata  Number of Records         Parkname Region State Unit Code  \\\n",
       "0      NaN                  1      Crater Lake     PW    OR      CRLA   \n",
       "1      NaN                  1   Lake Roosevelt     PW    WA      LARO   \n",
       "2      NaN                  1  Lewis and Clark     PW    WA      LEWI   \n",
       "\n",
       "                                  Unit Name                 Unit Type  \\\n",
       "0                 Crater Lake National Park             National Park   \n",
       "1   Lake Roosevelt National Recreation Area  National Recreation Area   \n",
       "2  Lewis and Clark National Historical Park  National Historical Park   \n",
       "\n",
       "   Visitors YearRaw  \n",
       "0    1500.0    1904  \n",
       "1       0.0    1941  \n",
       "2   69000.0    1961  "
      ]
     },
     "execution_count": 106,
     "metadata": {},
     "output_type": "execute_result"
    }
   ],
   "source": [
    "park.head(3)"
   ]
  },
  {
   "cell_type": "code",
   "execution_count": 107,
   "metadata": {
    "scrolled": true
   },
   "outputs": [
    {
     "name": "stdout",
     "output_type": "stream",
     "text": [
      "<class 'pandas.core.frame.DataFrame'>\n",
      "RangeIndex: 21560 entries, 0 to 21559\n",
      "Data columns (total 18 columns):\n",
      " #   Column             Non-Null Count  Dtype  \n",
      "---  ------             --------------  -----  \n",
      " 0   Created By         21560 non-null  object \n",
      " 1   Measure Selector   21560 non-null  int64  \n",
      " 2   Year               21560 non-null  object \n",
      " 3   Date Edit          21560 non-null  object \n",
      " 4   ScrapeURL          21560 non-null  object \n",
      " 5   GIS Notes          21560 non-null  object \n",
      " 6   Gnis Id            21560 non-null  object \n",
      " 7   Geometry           21560 non-null  object \n",
      " 8   Metadata           18848 non-null  object \n",
      " 9   Number of Records  21560 non-null  int64  \n",
      " 10  Parkname           19342 non-null  object \n",
      " 11  Region             21560 non-null  object \n",
      " 12  State              21560 non-null  object \n",
      " 13  Unit Code          21560 non-null  object \n",
      " 14  Unit Name          21560 non-null  object \n",
      " 15  Unit Type          21560 non-null  object \n",
      " 16  Visitors           21556 non-null  float64\n",
      " 17  YearRaw            21560 non-null  object \n",
      "dtypes: float64(1), int64(2), object(15)\n",
      "memory usage: 3.0+ MB\n"
     ]
    }
   ],
   "source": [
    "park.info()"
   ]
  },
  {
   "cell_type": "code",
   "execution_count": 108,
   "metadata": {},
   "outputs": [
    {
     "data": {
      "text/html": [
       "<div>\n",
       "<style scoped>\n",
       "    .dataframe tbody tr th:only-of-type {\n",
       "        vertical-align: middle;\n",
       "    }\n",
       "\n",
       "    .dataframe tbody tr th {\n",
       "        vertical-align: top;\n",
       "    }\n",
       "\n",
       "    .dataframe thead th {\n",
       "        text-align: right;\n",
       "    }\n",
       "</style>\n",
       "<table border=\"1\" class=\"dataframe\">\n",
       "  <thead>\n",
       "    <tr style=\"text-align: right;\">\n",
       "      <th></th>\n",
       "      <th>Measure Selector</th>\n",
       "      <th>Number of Records</th>\n",
       "      <th>Visitors</th>\n",
       "    </tr>\n",
       "  </thead>\n",
       "  <tbody>\n",
       "    <tr>\n",
       "      <th>count</th>\n",
       "      <td>21560.0</td>\n",
       "      <td>21560.0</td>\n",
       "      <td>2.155600e+04</td>\n",
       "    </tr>\n",
       "    <tr>\n",
       "      <th>mean</th>\n",
       "      <td>1.0</td>\n",
       "      <td>1.0</td>\n",
       "      <td>1.277105e+06</td>\n",
       "    </tr>\n",
       "    <tr>\n",
       "      <th>std</th>\n",
       "      <td>0.0</td>\n",
       "      <td>0.0</td>\n",
       "      <td>1.190148e+07</td>\n",
       "    </tr>\n",
       "    <tr>\n",
       "      <th>min</th>\n",
       "      <td>1.0</td>\n",
       "      <td>1.0</td>\n",
       "      <td>0.000000e+00</td>\n",
       "    </tr>\n",
       "    <tr>\n",
       "      <th>25%</th>\n",
       "      <td>1.0</td>\n",
       "      <td>1.0</td>\n",
       "      <td>3.912475e+04</td>\n",
       "    </tr>\n",
       "    <tr>\n",
       "      <th>50%</th>\n",
       "      <td>1.0</td>\n",
       "      <td>1.0</td>\n",
       "      <td>1.552190e+05</td>\n",
       "    </tr>\n",
       "    <tr>\n",
       "      <th>75%</th>\n",
       "      <td>1.0</td>\n",
       "      <td>1.0</td>\n",
       "      <td>6.081438e+05</td>\n",
       "    </tr>\n",
       "    <tr>\n",
       "      <th>max</th>\n",
       "      <td>1.0</td>\n",
       "      <td>1.0</td>\n",
       "      <td>8.719228e+08</td>\n",
       "    </tr>\n",
       "  </tbody>\n",
       "</table>\n",
       "</div>"
      ],
      "text/plain": [
       "       Measure Selector  Number of Records      Visitors\n",
       "count           21560.0            21560.0  2.155600e+04\n",
       "mean                1.0                1.0  1.277105e+06\n",
       "std                 0.0                0.0  1.190148e+07\n",
       "min                 1.0                1.0  0.000000e+00\n",
       "25%                 1.0                1.0  3.912475e+04\n",
       "50%                 1.0                1.0  1.552190e+05\n",
       "75%                 1.0                1.0  6.081438e+05\n",
       "max                 1.0                1.0  8.719228e+08"
      ]
     },
     "execution_count": 108,
     "metadata": {},
     "output_type": "execute_result"
    }
   ],
   "source": [
    "park.describe()"
   ]
  },
  {
   "cell_type": "code",
   "execution_count": 109,
   "metadata": {},
   "outputs": [
    {
     "data": {
      "text/plain": [
       "180"
      ]
     },
     "execution_count": 109,
     "metadata": {},
     "output_type": "execute_result"
    }
   ],
   "source": [
    "# 存在访问量为0的情况，这里会算公园的访问人次，暂且不考虑\n",
    "(park[\"Visitors\"]==0).sum()"
   ]
  },
  {
   "cell_type": "code",
   "execution_count": 110,
   "metadata": {},
   "outputs": [
    {
     "data": {
      "text/plain": [
       "array(['1904', '1941', '1961', '1935', '1982', '1919', '1969', '1967',\n",
       "       '1944', '1989', '1988', '1993', '1955', '1976', '1980', '1934',\n",
       "       '1951', '1925', '1948', '1931', '1940', '1971', '1979', '2011',\n",
       "       '2004', '1968', '1984', '1987', '1985', '1973', '1936', '1992',\n",
       "       '1920', '1991', '1957', '1964', '1937', '1966', '1974', '1995',\n",
       "       '1962', '1929', '1997', '1950', '1942', '1956', '1972', '1970',\n",
       "       '2000', '1933', '1924', '1921', '2010', '1978', '1975', '1906',\n",
       "       '1996', '2003', '2006', '1947', '2002', '1908', '1965', '1939',\n",
       "       '1960', '1938', '1963', '2001', '1954', '1958', '2013', '1981',\n",
       "       '1952', '1923', '1983', '2016', '1998', '2007', '2015', '1915',\n",
       "       '1911', '1917', 'Total', '1930', '1932', '1922', '1926', '1986',\n",
       "       '1990', '2014', '1994', '2012', '1977', '2009', '2008', '2005',\n",
       "       '1999', '1959', '1946', '1945', '1953', '1943', '1949', '1928',\n",
       "       '1927', '1918', '1916', '1914', '1913', '1912', '1910', '1909',\n",
       "       '1905', '1907'], dtype=object)"
      ]
     },
     "execution_count": 110,
     "metadata": {},
     "output_type": "execute_result"
    }
   ],
   "source": [
    "# 有一个total\n",
    "park[\"YearRaw\"].unique()"
   ]
  },
  {
   "cell_type": "code",
   "execution_count": 111,
   "metadata": {},
   "outputs": [
    {
     "data": {
      "text/plain": [
       "Visitors    4\n",
       "dtype: int64"
      ]
     },
     "execution_count": 111,
     "metadata": {},
     "output_type": "execute_result"
    }
   ],
   "source": [
    "# 多行total数据，为nan，并且就是这四个为nan\n",
    "park.loc[park[\"YearRaw\"]==\"Total\",[\"Visitors\"]].isna().sum()"
   ]
  },
  {
   "cell_type": "code",
   "execution_count": 112,
   "metadata": {},
   "outputs": [],
   "source": [
    "# 删除YearRaw为Total的行\n",
    "park = park.drop( park[park[\"YearRaw\"]==\"Total\"].index.values)"
   ]
  },
  {
   "cell_type": "code",
   "execution_count": 113,
   "metadata": {
    "scrolled": true
   },
   "outputs": [],
   "source": [
    "# 以10万为单位\n",
    "p2 = (pd.concat([park.loc[:,[\"YearRaw\"]],park.loc[:,[\"Visitors\"]]/10000],axis=1)).groupby(\"YearRaw\").sum()"
   ]
  },
  {
   "cell_type": "code",
   "execution_count": 114,
   "metadata": {},
   "outputs": [
    {
     "data": {
      "image/png": "[encoded data removed]",
      "text/plain": [
       "<Figure size 1600x640 with 1 Axes>"
      ]
     },
     "metadata": {
      "needs_background": "light"
     },
     "output_type": "display_data"
    }
   ],
   "source": [
    "plt.rcParams['font.sans-serif'] = 'Microsoft YaHei'\n",
    "plt.rcParams['axes.unicode_minus'] = False\n",
    "plt.figure(num=1,figsize=(20,8),dpi=80)\n",
    "plt.plot(range(len(p2.index)),p2,\"o-\")\n",
    "plt.grid(alpha=0.6)\n",
    "plt.xticks(range(len(p2.index))[::5],p2.index[::5])\n",
    "plt.xlabel(\"年份\")\n",
    "plt.ylabel(\"人数/万人\")\n",
    "plt.show()"
   ]
  },
  {
   "cell_type": "code",
   "execution_count": null,
   "metadata": {},
   "outputs": [],
   "source": []
  }
 ],
 "metadata": {
  "kernelspec": {
   "display_name": "Python 3.8.5",
   "language": "python",
   "name": "python3"
  },
  "language_info": {
   "codemirror_mode": {
    "name": "ipython",
    "version": 3
   },
   "file_extension": ".py",
   "mimetype": "text/x-python",
   "name": "python",
   "nbconvert_exporter": "python",
   "pygments_lexer": "ipython3",
   "version": "3.8.5"
  },
  "toc": {
   "base_numbering": 1,
   "nav_menu": {},
   "number_sections": true,
   "sideBar": true,
   "skip_h1_title": false,
   "title_cell": "Table of Contents",
   "title_sidebar": "Contents",
   "toc_cell": false,
   "toc_position": {},
   "toc_section_display": true,
   "toc_window_display": false
  }
 },
 "nbformat": 4,
 "nbformat_minor": 4
}
