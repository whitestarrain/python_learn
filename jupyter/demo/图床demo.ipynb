{
 "cells": [
  {
   "cell_type": "code",
   "execution_count": 9,
   "metadata": {
    "scrolled": true
   },
   "outputs": [
    {
     "ename": "ModuleNotFoundError",
     "evalue": "No module named 'requests_toolbelt'",
     "output_type": "error",
     "traceback": [
      "\u001b[1;31m---------------------------------------------------------------------------\u001b[0m",
      "\u001b[1;31mModuleNotFoundError\u001b[0m                       Traceback (most recent call last)",
      "\u001b[1;32m<ipython-input-9-c8a81e02de60>\u001b[0m in \u001b[0;36m<module>\u001b[1;34m\u001b[0m\n\u001b[0;32m      1\u001b[0m \u001b[1;32mimport\u001b[0m \u001b[0mrequests\u001b[0m\u001b[1;33m\u001b[0m\u001b[1;33m\u001b[0m\u001b[0m\n\u001b[0;32m      2\u001b[0m \u001b[1;32mimport\u001b[0m \u001b[0mbase64\u001b[0m\u001b[1;33m\u001b[0m\u001b[1;33m\u001b[0m\u001b[0m\n\u001b[1;32m----> 3\u001b[1;33m \u001b[1;32mfrom\u001b[0m \u001b[0mrequests_toolbelt\u001b[0m  \u001b[1;32mimport\u001b[0m \u001b[0mMultipartEncoder\u001b[0m\u001b[1;33m\u001b[0m\u001b[1;33m\u001b[0m\u001b[0m\n\u001b[0m\u001b[0;32m      4\u001b[0m \u001b[1;32mimport\u001b[0m \u001b[0mjson\u001b[0m\u001b[1;33m\u001b[0m\u001b[1;33m\u001b[0m\u001b[0m\n",
      "\u001b[1;31mModuleNotFoundError\u001b[0m: No module named 'requests_toolbelt'"
     ]
    }
   ],
   "source": [
    "import requests\n",
    "import base64\n",
    "from requests_toolbelt  import MultipartEncoder\n",
    "import json"
   ]
  },
  {
   "cell_type": "code",
   "execution_count": 11,
   "metadata": {
    "scrolled": true
   },
   "outputs": [
    {
     "name": "stderr",
     "output_type": "stream",
     "text": [
      "D:\\learn\\anaconda3\\envs\\learn\\lib\\site-packages\\urllib3\\connectionpool.py:981: InsecureRequestWarning: Unverified HTTPS request is being made to host '127.0.0.1'. Adding certificate verification is strongly advised. See: https://urllib3.readthedocs.io/en/latest/advanced-usage.html#ssl-warnings\n",
      "  warnings.warn(\n"
     ]
    },
    {
     "name": "stdout",
     "output_type": "stream",
     "text": [
      "<Response [200]>\n",
      "{\"message\":\"请求完成\",\"data\":[{\"fileName\":\"9.jpg\",\"path\":\"https://source.acexy.cn/view/XSuL3C9\",\"flag\":true,\"message\":\"上传完成\"}]}\n",
      "https://source.acexy.cn/view/XSuL3C9\n"
     ]
    }
   ],
   "source": [
    "headers = {\n",
    "    \"Accept\": \"application/json, text/plain, */*\",\n",
    "    \"User-Agent\": \"Mozilla/5.0 (Windows NT 10.0; Win64; x64) AppleWebKit/537.36 (KHTML, like Gecko) Chrome/85.0.4183.102 Safari/537.36\",\n",
    "    \"Origin\": \"https://imgs.acexy.cn\",\n",
    "    \"Sec-Fetch-Site\": \"same-origin\",\n",
    "    \"Sec-Fetch-Mode\": \"cors\",\n",
    "    \"Sec-Fetch-Dest\": \"empty\",\n",
    "    \"Referer\": \"https://imgs.acexy.cn/index\",\n",
    "    \"Accept-Encoding\": \"gzip, deflate, br\",\n",
    "    \"Accept-Language\": \"zh-CN,zh;q=0.9,ja;q=0.8\"\n",
    "}\n",
    "cookies = {\n",
    "    \"token\": \"050ef64e10d9844c0738f470cd134174\",\n",
    "    \"uinfo\": \"%7B%22id%22:%225f673d6fd438490bb75da61a%22,%22username%22:%2278gt%22%7D\"\n",
    "}\n",
    "with open(\"./image/ERDRJnmUcAATmmF.jpg\",\"rb\") as img:\n",
    "    data = base64.b64encode(img.read())\n",
    "    # img_str = str(data,\"utf-8\")\n",
    "    files = {\n",
    "        'file': ('9.jpg',data, 'image/jpeg')\n",
    "    }\n",
    "    rp = requests.post(\n",
    "        \"https://imgs.acexy.cn/api/imgs/upload\",\n",
    "        headers=headers,\n",
    "        cookies=cookies,\n",
    "        files = files,\n",
    "        verify = False\n",
    "    )\n",
    "    print(rp)\n",
    "    print(rp.content.decode(\"utf-8\"))\n",
    "    json_o = json.loads(rp.content.decode(\"utf-8\"))\n",
    "    print(json_o[\"data\"][0][\"path\"])\n",
    "    "
   ]
  },
  {
   "cell_type": "code",
   "execution_count": 101,
   "metadata": {
    "scrolled": true
   },
   "outputs": [
    {
     "name": "stdout",
     "output_type": "stream",
     "text": [
      "HTTP/1.1 301 Moved Permanently\r\n",
      "Server: nginx\r\n",
      "Date: Sun, 20 Sep 2020 14:34:41 GMT\r\n",
      "Content-Type: text/html\r\n",
      "Content-Length: 178\r\n",
      "Connection: keep-alive\r\n",
      "Location: https://imgs.acexy.cn/api/imgs/upload\r\n",
      "\r\n",
      "<html>\r\n",
      "<head><title>301 Moved Permanently</title></head>\r\n",
      "<body bgcolor=\"white\">\r\n",
      "<center><h1>301 Moved Permanently</h1></center>\r\n",
      "<hr><center>nginx</center>\r\n",
      "</body>\r\n",
      "</html>\r\n",
      "\n",
      "\n"
     ]
    }
   ],
   "source": [
    "import socket\n",
    "import base64\n",
    "\n",
    "url = \"imgs.acexy.cn\"\n",
    "\n",
    "img = open(\"./image/ERDRJnmUcAATmmF.jpg\",\"rb\")\n",
    "\n",
    "data = img.read()\n",
    "\n",
    "encodestr = base64.b64encode(data) # 得到 byte 编码的数据\n",
    "img_str = str(encodestr,'utf-8')\n",
    "s = socket.socket(socket.AF_INET, socket.SOCK_STREAM)\n",
    "\n",
    "s.connect((url,80))\n",
    "\n",
    "send_data = \"\"\"POST https://imgs.acexy.cn/api/imgs/upload HTTP/1.1\n",
    "Host: imgs.acexy.cn\n",
    "Connection: keep-alive\n",
    "Content-Length: 285853\n",
    "Accept: application/json, text/plain, */*\n",
    "User-Agent: Mozilla/5.0 (Windows NT 10.0; Win64; x64) AppleWebKit/537.36 (KHTML, like Gecko) Chrome/85.0.4183.102 Safari/537.36\n",
    "Content-Type: multipart/form-data; boundary=----WebKitFormBoundarygpYosetOmYAEY4zf\n",
    "Origin: https://imgs.acexy.cn\n",
    "Sec-Fetch-Site: same-origin\n",
    "Sec-Fetch-Mode: cors\n",
    "Sec-Fetch-Dest: empty\n",
    "Referer: https://imgs.acexy.cn/index\n",
    "Accept-Encoding: gzip, deflate, br\n",
    "Accept-Language: zh-CN,zh;q=0.9,ja;q=0.8\n",
    "Cookie: token=79bd60db572e2b5fad405b3e385b7a80; uinfo=%7B%22id%22:%225f673d6fd438490bb75da61a%22,%22username%22:%2278gt%22%7D\n",
    "\n",
    "\"\"\"+\"\"\"------WebKitFormBoundarygpYosetOmYAEY4zf\n",
    "Content-Disposition: form-data; name=\"file\"; filename=\"154248nqqgnmfgmmb8tvtf.jpg\"\n",
    "Content-Type: image/jpeg\n",
    "\n",
    "\"\"\"+img_str+\"\"\"\n",
    "------WebKitFormBoundarygpYosetOmYAEY4zf\n",
    "Content-Disposition: form-data; name=\"sortId\"\n",
    "\n",
    "\n",
    "------WebKitFormBoundarygpYosetOmYAEY4zf--\n",
    "\"\"\"\n",
    "s.send(send_data.encode(\"utf-8\"))\n",
    "\n",
    "html = \"\"\n",
    "\n",
    "data = s.recv(65535)\n",
    "print(data.decode(\"utf-8\"))\n",
    "\n",
    "print(html)\n",
    "\n",
    "img.close()\n",
    "s.close()\n"
   ]
  },
  {
   "cell_type": "code",
   "execution_count": 20,
   "metadata": {},
   "outputs": [
    {
     "name": "stdout",
     "output_type": "stream",
     "text": [
      "正在上传图片-----%s ./image/ERDRJnmUcAATmmF.jpg\n"
     ]
    },
    {
     "name": "stderr",
     "output_type": "stream",
     "text": [
      "D:\\learn\\anaconda3\\envs\\learn\\lib\\site-packages\\urllib3\\connectionpool.py:981: InsecureRequestWarning: Unverified HTTPS request is being made to host 'imgs.acexy.cn'. Adding certificate verification is strongly advised. See: https://urllib3.readthedocs.io/en/latest/advanced-usage.html#ssl-warnings\n",
      "  warnings.warn(\n"
     ]
    },
    {
     "name": "stdout",
     "output_type": "stream",
     "text": [
      "{'message': '请求完成', 'data': [{'fileName': 'ERDRJnmUcAATmmF.jpg', 'path': 'https://source.acexy.cn/view/XSuOHcQ', 'flag': True, 'message': '上传完成'}]}\n",
      "https://source.acexy.cn/view/XSuOHcQ\n"
     ]
    }
   ],
   "source": [
    "class to_url:\n",
    "\n",
    "    token = \"\"\n",
    "    uinfo = \"\"\n",
    "    api_url = \"https://imgs.acexy.cn/api/imgs/upload\"\n",
    "    headers = {\n",
    "        \"Accept\": \"application/json, text/plain, */*\",\n",
    "        \"User-Agent\": \"Mozilla/5.0 (Windows NT 10.0; Win64; x64) AppleWebKit/537.36 (KHTML, like Gecko) Chrome/85.0.4183.102 Safari/537.36\",\n",
    "        \"Origin\": \"https://imgs.acexy.cn\",\n",
    "        \"Sec-Fetch-Site\": \"same-origin\",\n",
    "        \"Sec-Fetch-Mode\": \"cors\",\n",
    "        \"Sec-Fetch-Dest\": \"empty\",\n",
    "        \"Referer\": \"https://imgs.acexy.cn/index\",\n",
    "        \"Accept-Encoding\": \"gzip, deflate, br\",\n",
    "        \"Accept-Language\": \"zh-CN,zh;q=0.9,ja;q=0.8\"\n",
    "    }\n",
    "    cookies = {\n",
    "        \"token\": \"05f62c53a765936f1733e7e29a31e2e7\",\n",
    "        \"uinfo\": \"%7B%22id%22:%225f673d6fd438490bb75da61a%22,%22username%22:%2278gt%22%7D\"\n",
    "    }\n",
    "\n",
    "    def img_to_url_api(self, path):\n",
    "        \"\"\" 通过api接口上传到图床并返回url \"\"\"\n",
    "        print(\"正在上传图片-----%s\", path)\n",
    "\n",
    "        # 获得文件名\n",
    "        file_name = \"\"\n",
    "        if path.find(\"/\") != -1:\n",
    "            file_name = path.split(\"/\")[-1:][0]\n",
    "        else:\n",
    "            file_name = path.split(\"\\\\\")[-1:][0]\n",
    "\n",
    "        with open(path, \"rb\") as file:\n",
    "            data = base64.b64encode(file.read())\n",
    "            # img_str = str(data,\"utf-8\")\n",
    "            files = {\n",
    "                'file': (file_name, data, 'image/jpeg')\n",
    "            }\n",
    "            response = requests.post(\n",
    "                \"https://imgs.acexy.cn/api/imgs/upload\",\n",
    "                headers=self.__class__.headers,\n",
    "                cookies=self.__class__.cookies,\n",
    "                files=files,\n",
    "                verify=False\n",
    "            )\n",
    "        json_o = json.loads(response.content.decode(\"utf-8\"))\n",
    "        print(json_o)\n",
    "        return json_o[\"data\"][0][\"path\"]\n",
    "\n",
    "c = to_url()\n",
    "str1 = c.img_to_url_api(\"./image/ERDRJnmUcAATmmF.jpg\")\n",
    "print(str1)"
   ]
  },
  {
   "cell_type": "code",
   "execution_count": 22,
   "metadata": {},
   "outputs": [],
   "source": [
    "ss = requests.session()"
   ]
  },
  {
   "cell_type": "code",
   "execution_count": 30,
   "metadata": {},
   "outputs": [],
   "source": [
    "data = {\n",
    "    \"keepLogged\": False,\n",
    "    \"password\": \"CriFQTePn7Lu9iL\",\n",
    "    \"username\": \"78gt\"\n",
    "}\n",
    "rp = ss.post(\n",
    "    \"https://imgs.acexy.cn/api/login\",\n",
    "    headers =headers,\n",
    "    data = data\n",
    ")"
   ]
  },
  {
   "cell_type": "code",
   "execution_count": 33,
   "metadata": {},
   "outputs": [
    {
     "data": {
      "text/plain": [
       "{'User-Agent': 'python-requests/2.24.0', 'Accept-Encoding': 'gzip, deflate', 'Accept': '*/*', 'Connection': 'keep-alive'}"
      ]
     },
     "execution_count": 33,
     "metadata": {},
     "output_type": "execute_result"
    }
   ],
   "source": [
    "rp.text\n",
    "rp.cookies\n",
    "ss.headers"
   ]
  }
 ],
 "metadata": {
  "kernelspec": {
   "display_name": "Python 3.8.5",
   "language": "python",
   "name": "python3"
  },
  "language_info": {
   "codemirror_mode": {
    "name": "ipython",
    "version": 3
   },
   "file_extension": ".py",
   "mimetype": "text/x-python",
   "name": "python",
   "nbconvert_exporter": "python",
   "pygments_lexer": "ipython3",
   "version": "3.8.5"
  }
 },
 "nbformat": 4,
 "nbformat_minor": 4
}
