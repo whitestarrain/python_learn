{
 "cells": [
  {
   "cell_type": "markdown",
   "metadata": {},
   "source": [
    "# 数据准备"
   ]
  },
  {
   "cell_type": "code",
   "execution_count": 1,
   "metadata": {
    "scrolled": true
   },
   "outputs": [],
   "source": [
    "import matplotlib.pyplot as plt\n",
    "from sklearn.datasets import load_boston\n",
    "from sklearn.linear_model import LinearRegression, SGDRegressor\n",
    "from sklearn.model_selection import train_test_split\n",
    "from sklearn.preprocessing import StandardScaler\n",
    "from sklearn.metrics import mean_squared_error"
   ]
  },
  {
   "cell_type": "code",
   "execution_count": 2,
   "metadata": {
    "scrolled": true
   },
   "outputs": [],
   "source": [
    "data = load_boston()"
   ]
  },
  {
   "cell_type": "code",
   "execution_count": 3,
   "metadata": {
    "scrolled": true
   },
   "outputs": [
    {
     "name": "stdout",
     "output_type": "stream",
     "text": [
      ".. _boston_dataset:\n",
      "\n",
      "Boston house prices dataset\n",
      "---------------------------\n",
      "\n",
      "**Data Set Characteristics:**  \n",
      "\n",
      "    :Number of Instances: 506 \n",
      "\n",
      "    :Number of Attributes: 13 numeric/categorical predictive. Median Value (attribute 14) is usually the target.\n",
      "\n",
      "    :Attribute Information (in order):\n",
      "        - CRIM     per capita crime rate by town\n",
      "        - ZN       proportion of residential land zoned for lots over 25,000 sq.ft.\n",
      "        - INDUS    proportion of non-retail business acres per town\n",
      "        - CHAS     Charles River dummy variable (= 1 if tract bounds river; 0 otherwise)\n",
      "        - NOX      nitric oxides concentration (parts per 10 million)\n",
      "        - RM       average number of rooms per dwelling\n",
      "        - AGE      proportion of owner-occupied units built prior to 1940\n",
      "        - DIS      weighted distances to five Boston employment centres\n",
      "        - RAD      index of accessibility to radial highways\n",
      "        - TAX      full-value property-tax rate per $10,000\n",
      "        - PTRATIO  pupil-teacher ratio by town\n",
      "        - B        1000(Bk - 0.63)^2 where Bk is the proportion of blacks by town\n",
      "        - LSTAT    % lower status of the population\n",
      "        - MEDV     Median value of owner-occupied homes in $1000's\n",
      "\n",
      "    :Missing Attribute Values: None\n",
      "\n",
      "    :Creator: Harrison, D. and Rubinfeld, D.L.\n",
      "\n",
      "This is a copy of UCI ML housing dataset.\n",
      "https://archive.ics.uci.edu/ml/machine-learning-databases/housing/\n",
      "\n",
      "\n",
      "This dataset was taken from the StatLib library which is maintained at Carnegie Mellon University.\n",
      "\n",
      "The Boston house-price data of Harrison, D. and Rubinfeld, D.L. 'Hedonic\n",
      "prices and the demand for clean air', J. Environ. Economics & Management,\n",
      "vol.5, 81-102, 1978.   Used in Belsley, Kuh & Welsch, 'Regression diagnostics\n",
      "...', Wiley, 1980.   N.B. Various transformations are used in the table on\n",
      "pages 244-261 of the latter.\n",
      "\n",
      "The Boston house-price data has been used in many machine learning papers that address regression\n",
      "problems.   \n",
      "     \n",
      ".. topic:: References\n",
      "\n",
      "   - Belsley, Kuh & Welsch, 'Regression diagnostics: Identifying Influential Data and Sources of Collinearity', Wiley, 1980. 244-261.\n",
      "   - Quinlan,R. (1993). Combining Instance-Based and Model-Based Learning. In Proceedings on the Tenth International Conference of Machine Learning, 236-243, University of Massachusetts, Amherst. Morgan Kaufmann.\n",
      "\n"
     ]
    }
   ],
   "source": [
    "print(data.DESCR)"
   ]
  },
  {
   "cell_type": "code",
   "execution_count": 4,
   "metadata": {
    "scrolled": false
   },
   "outputs": [],
   "source": [
    "x_train, x_test, y_train, y_test = train_test_split(data.data, data.target)"
   ]
  },
  {
   "cell_type": "code",
   "execution_count": 5,
   "metadata": {
    "scrolled": false
   },
   "outputs": [],
   "source": [
    "# 实例化标准化api：\n",
    "# 因为x和y不是同一类型数据，需要两个api对象\n",
    "std_x = StandardScaler()\n",
    "std_y = StandardScaler()\n",
    "\n",
    "# 标准化x\n",
    "x_train = std_x.fit_transform(x_train)\n",
    "x_test = std_x.transform(x_test)  # fit一次即可\n",
    "\n",
    "y_train = std_y.fit_transform(y_train.reshape(-1, 1))\n",
    "y_test = std_y.transform(y_test.reshape(-1, 1))  # fit一次即可\n",
    "# 新版的sklearn,std.fit_transfrom传入参数需要为二维\n",
    "# reshape时，如果有一个为负数，不会读取该负数，那么会根据另一个的值，自动计算出负数占位的值"
   ]
  },
  {
   "cell_type": "markdown",
   "metadata": {},
   "source": [
    "# 正规方程"
   ]
  },
  {
   "cell_type": "code",
   "execution_count": 6,
   "metadata": {
    "scrolled": true
   },
   "outputs": [
    {
     "name": "stdout",
     "output_type": "stream",
     "text": [
      "正确率：\n",
      "0.7116668128256014\n",
      "回归系数：\n",
      "[[-0.10099135  0.11816513  0.00068658  0.06244738 -0.19968827  0.32017465\n",
      "  -0.03684756 -0.3284982   0.27413815 -0.24057788 -0.2005851   0.1090139\n",
      "  -0.36617659]]\n",
      "预测值：\n",
      "[[18.2714746 ]\n",
      " [19.4174104 ]\n",
      " [33.11124575]\n",
      " [22.41039739]\n",
      " [15.88186612]\n",
      " [23.69159188]\n",
      " [31.23147006]\n",
      " [ 9.98167705]\n",
      " [36.88064776]\n",
      " [13.45360187]\n",
      " [15.00138043]\n",
      " [21.78613706]\n",
      " [20.0772258 ]\n",
      " [ 6.71311287]\n",
      " [30.32824133]\n",
      " [ 1.37587071]\n",
      " [15.02058717]\n",
      " [29.29362038]\n",
      " [17.82421919]\n",
      " [21.58697389]\n",
      " [25.2820192 ]\n",
      " [10.87301315]\n",
      " [22.63721485]\n",
      " [27.9810624 ]\n",
      " [22.31296419]\n",
      " [21.6730532 ]\n",
      " [25.11191648]\n",
      " [32.33701737]\n",
      " [ 9.60141778]\n",
      " [14.46799803]\n",
      " [ 6.31587826]\n",
      " [26.55762999]\n",
      " [35.08513114]\n",
      " [33.81673905]\n",
      " [17.55665155]\n",
      " [38.38899877]\n",
      " [14.11686926]\n",
      " [27.56425939]\n",
      " [21.23960356]\n",
      " [ 8.95120254]\n",
      " [22.17435921]\n",
      " [20.87349516]\n",
      " [25.0160604 ]\n",
      " [13.73982764]\n",
      " [35.87765978]\n",
      " [24.4584668 ]\n",
      " [15.19944935]\n",
      " [39.06423588]\n",
      " [23.61178754]\n",
      " [14.23380142]\n",
      " [15.48420514]\n",
      " [19.23879523]\n",
      " [12.67991756]\n",
      " [28.60437715]\n",
      " [19.51127735]\n",
      " [19.09789304]\n",
      " [19.02250969]\n",
      " [40.21400548]\n",
      " [ 6.48004544]\n",
      " [17.98430452]\n",
      " [16.73558961]\n",
      " [28.26655817]\n",
      " [25.25835707]\n",
      " [21.04828264]\n",
      " [23.6174578 ]\n",
      " [ 8.07183067]\n",
      " [21.33946019]\n",
      " [14.55619505]\n",
      " [11.41321849]\n",
      " [36.69052462]\n",
      " [17.98223417]\n",
      " [17.64518055]\n",
      " [ 7.2986224 ]\n",
      " [14.77818358]\n",
      " [22.87957885]\n",
      " [22.96244467]\n",
      " [40.17194414]\n",
      " [23.74150188]\n",
      " [29.95504281]\n",
      " [28.16519794]\n",
      " [21.2073027 ]\n",
      " [14.70693466]\n",
      " [22.44562744]\n",
      " [31.96561035]\n",
      " [ 6.00573272]\n",
      " [21.14526089]\n",
      " [30.68907222]\n",
      " [17.13215473]\n",
      " [22.45290954]\n",
      " [30.03484283]\n",
      " [20.72509785]\n",
      " [19.31798758]\n",
      " [24.79543443]\n",
      " [18.32132418]\n",
      " [24.27707865]\n",
      " [26.61580806]\n",
      " [25.01331054]\n",
      " [37.75554718]\n",
      " [18.87791507]\n",
      " [22.387572  ]\n",
      " [23.4536905 ]\n",
      " [24.08055416]\n",
      " [26.07743721]\n",
      " [25.11659107]\n",
      " [13.41357857]\n",
      " [35.25947448]\n",
      " [17.17533515]\n",
      " [ 8.2269616 ]\n",
      " [17.21109588]\n",
      " [19.66145576]\n",
      " [13.5413244 ]\n",
      " [12.98101062]\n",
      " [21.01252949]\n",
      " [21.95994568]\n",
      " [16.27836223]\n",
      " [34.7299093 ]\n",
      " [16.47797766]\n",
      " [24.59109076]\n",
      " [38.5397937 ]\n",
      " [21.29575942]\n",
      " [22.95643556]\n",
      " [24.53430034]\n",
      " [22.95346313]\n",
      " [20.19930799]\n",
      " [25.45263906]\n",
      " [15.87731497]\n",
      " [34.59885783]]\n"
     ]
    }
   ],
   "source": [
    "# 正规方程api\n",
    "lr = LinearRegression()\n",
    "\n",
    "lr.fit(x_train, y_train)\n",
    "\n",
    "print(\"正确率：\\n%s\" % lr.score(x_test, y_test))\n",
    "\n",
    "print(\"回归系数：\\n%s\" % lr.coef_)\n",
    "\n",
    "# 因为有标准化，所以需要变回来\n",
    "y_lr_predict = std_y.inverse_transform(lr.predict(x_test))\n",
    "print(\"预测值：\\n%s\" % y_lr_predict)"
   ]
  },
  {
   "cell_type": "markdown",
   "metadata": {},
   "source": [
    "# 梯度下降"
   ]
  },
  {
   "cell_type": "code",
   "execution_count": 7,
   "metadata": {
    "scrolled": true
   },
   "outputs": [
    {
     "name": "stdout",
     "output_type": "stream",
     "text": [
      "正确率：\n",
      "0.6985297885209896\n",
      "回归系数：\n",
      "[-0.08306893  0.07575347 -0.05270987  0.06676974 -0.13505587  0.34711112\n",
      " -0.04424577 -0.25985127  0.10435882 -0.07916862 -0.18489367  0.11151946\n",
      " -0.36199686]\n",
      "预测值：\n",
      "[18.17896888 19.99376904 32.66074986 22.87882833 16.29009101 23.67876478\n",
      " 30.92381267 10.58606403 36.06357484 13.53847575 15.59519819 20.43983271\n",
      " 19.55127847  6.27871188 30.38098856  0.14638519 16.85671117 30.12930857\n",
      " 17.60339344 21.32029295 26.45951151  9.98156367 24.8452219  28.77116428\n",
      " 22.42285055 19.82369029 25.66713725 31.67535819  9.4472396  14.75615918\n",
      "  5.36425279 26.11191847 35.85636994 34.24642952 17.3177351  38.14642414\n",
      " 14.53517204 26.97731758 21.64375508  9.41830639 21.32750631 21.54250344\n",
      " 24.32483848 13.14716326 36.14406045 25.138888   15.8295685  38.82433523\n",
      " 23.99935181 15.00659281 17.71600927 19.83638247 11.93189769 27.34744638\n",
      " 20.05878267 18.66290202 18.90817602 39.694199    5.82735122 17.69594265\n",
      " 18.61337748 28.60992176 25.09787899 20.48433157 24.32672616 10.01574576\n",
      " 21.60029413 13.79282571 11.29186562 36.86086214 18.47941526 17.80613646\n",
      "  6.14931736 12.70191108 23.2621217  22.89520751 40.35240042 24.08911033\n",
      " 30.93195812 27.51370066 21.09998164 14.75976761 22.94561522 32.36420134\n",
      "  5.4154195  21.89307815 30.41537325 19.19565407 22.63944467 30.51811087\n",
      " 21.45386542 19.78910075 24.69721522 18.21807367 23.61949647 26.17636205\n",
      " 25.22840433 37.68124475 19.16882035 22.58787705 23.14302553 24.26385327\n",
      " 25.54316269 25.38453674 15.56301728 35.34620507 17.08190061  8.70557877\n",
      " 17.18901157 19.3225204  13.98191163 12.73470619 21.30079544 22.16950123\n",
      " 15.58398468 34.41254474 14.52505804 24.06008606 38.89788567 21.91220257\n",
      " 22.6607443  24.58344855 23.45146211 20.66372924 25.14535248 16.41276077\n",
      " 33.65699439]\n"
     ]
    }
   ],
   "source": [
    "# 梯度下降api\n",
    "sgd = SGDRegressor()\n",
    "\n",
    "sgd.fit(x_train, y_train.ravel())\n",
    "\n",
    "# 如果不换为一维会有提示\n",
    "print(\"正确率：\\n%s\" % sgd.score(x_test, y_test.ravel()))\n",
    "\n",
    "print(\"回归系数：\\n%s\" % sgd.coef_)\n",
    "\n",
    "# 因为有标准化，所以需要变回来\n",
    "y_sgd_predict = std_y.inverse_transform(sgd.predict(x_test))\n",
    "print(\"预测值：\\n%s\" % y_sgd_predict)"
   ]
  },
  {
   "cell_type": "markdown",
   "metadata": {},
   "source": [
    "# 回归评估"
   ]
  },
  {
   "cell_type": "code",
   "execution_count": 8,
   "metadata": {
    "scrolled": false
   },
   "outputs": [
    {
     "name": "stdout",
     "output_type": "stream",
     "text": [
      "31.339468090816005\n",
      "32.76735559151371\n"
     ]
    }
   ],
   "source": [
    "print(mean_squared_error(std_y.inverse_transform(y_test), y_lr_predict))\n",
    "print(mean_squared_error(std_y.inverse_transform(y_test), y_sgd_predict))"
   ]
  },
  {
   "cell_type": "markdown",
   "metadata": {},
   "source": [
    "# Ridge岭回归"
   ]
  },
  {
   "cell_type": "code",
   "execution_count": 9,
   "metadata": {},
   "outputs": [],
   "source": [
    "from sklearn.linear_model import Ridge"
   ]
  },
  {
   "cell_type": "code",
   "execution_count": 10,
   "metadata": {},
   "outputs": [
    {
     "name": "stdout",
     "output_type": "stream",
     "text": [
      "准确率为：0.7110556168147781\n"
     ]
    }
   ],
   "source": [
    "rd = Ridge(alpha=1.0)\n",
    "rd.fit(x_train,y_train)\n",
    "print(\"准确率为：%s\" % rd.score(x_test,y_test))"
   ]
  },
  {
   "cell_type": "code",
   "execution_count": null,
   "metadata": {},
   "outputs": [],
   "source": []
  }
 ],
 "metadata": {
  "kernelspec": {
   "display_name": "Python 3.8.5",
   "language": "python",
   "name": "python3"
  },
  "language_info": {
   "codemirror_mode": {
    "name": "ipython",
    "version": 3
   },
   "file_extension": ".py",
   "mimetype": "text/x-python",
   "name": "python",
   "nbconvert_exporter": "python",
   "pygments_lexer": "ipython3",
   "version": "3.8.5"
  },
  "toc": {
   "base_numbering": 1,
   "nav_menu": {},
   "number_sections": true,
   "sideBar": true,
   "skip_h1_title": false,
   "title_cell": "Table of Contents",
   "title_sidebar": "Contents",
   "toc_cell": false,
   "toc_position": {
    "height": "calc(100% - 180px)",
    "left": "10px",
    "top": "150px",
    "width": "309.933px"
   },
   "toc_section_display": true,
   "toc_window_display": true
  },
  "varInspector": {
   "cols": {
    "lenName": 16,
    "lenType": 16,
    "lenVar": 40
   },
   "kernels_config": {
    "python": {
     "delete_cmd_postfix": "",
     "delete_cmd_prefix": "del ",
     "library": "var_list.py",
     "varRefreshCmd": "print(var_dic_list())"
    },
    "r": {
     "delete_cmd_postfix": ") ",
     "delete_cmd_prefix": "rm(",
     "library": "var_list.r",
     "varRefreshCmd": "cat(var_dic_list()) "
    }
   },
   "position": {
    "height": "402.92px",
    "left": "1003.73px",
    "right": "20px",
    "top": "83.979px",
    "width": "508.992px"
   },
   "types_to_exclude": [
    "module",
    "function",
    "builtin_function_or_method",
    "instance",
    "_Feature"
   ],
   "window_display": true
  }
 },
 "nbformat": 4,
 "nbformat_minor": 4
}
